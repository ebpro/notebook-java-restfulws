{
 "cells": [
  {
   "cell_type": "markdown",
   "id": "806a03e1-5424-4941-bc85-16eb371aba03",
   "metadata": {},
   "source": [
    "---\n",
    "  title: \"RestFull 02: Jakarta RESTful Web Services\"\n",
    "  description: \"Introduction to RestFull Web Services in Java with Jakarta RESTful Web Services.\"\n",
    "  categories: \n",
    "    - Java\n",
    "    - Lecture\n",
    "    - RestFull\n",
    "  provide_notes: true\n",
    "  provide_slides: false\n",
    "  jupyter: java-lts    \n",
    "  echo: true\n",
    "  output: true\n",
    "---"
   ]
  },
  {
   "cell_type": "markdown",
   "id": "cfddeb6b-aed6-4d5e-b231-7453e7bfa730",
   "metadata": {},
   "source": [
    "{{< embed ./quarto-utils/_version.qmd >}}"
   ]
  },
  {
   "cell_type": "markdown",
   "id": "fda4ff28-2d21-471e-99c7-2d35c9431aa9",
   "metadata": {
    "slideshow": {
     "slide_type": "slide"
    },
    "tags": []
   },
   "source": [
    "Java propose un standard appelé [Jakarta RESTful Web Services](https://jakarta.ee/specifications/restful-ws/3.1/jakarta-restful-ws-spec-3.1) pour construire efficacement des serveurs et des clients REST. \n",
    "[Jersey](https://eclipse-ee4j.github.io/jersey/download.html) est l'implantation de référence. \n",
    "\n",
    "## Une application REST minimale\n",
    "\n",
    "Dans un premier temps nous allons étudier une application minimale qui s'appuie un serveur Web en Java [Grizzly](https://javaee.github.io/grizzly/).\n",
    "\n",
    "L’archetype maven suivant permet de créer un projet de base dans le répertoire `/home/jovyan/work/src/samples/jaxrs/myresource`. "
   ]
  },
  {
   "cell_type": "code",
   "execution_count": 1,
   "id": "955b7675-32c4-4c31-974d-04e77066d60d",
   "metadata": {
    "slideshow": {
     "slide_type": "subslide"
    },
    "tags": [],
    "vscode": {
     "languageId": "java"
    }
   },
   "outputs": [],
   "source": [
    "%%shell\n",
    "mkdir -p /home/jovyan/work/src/samples/jaxrs\n",
    "cd /home/jovyan/work/src/samples/jaxrs\n",
    "rm -rf /home/jovyan/work/src/samples/jaxrs/myresource\n",
    "\n",
    "mvn archetype:generate --batch-mode --no-transfer-progress --quiet \\\n",
    "  -DarchetypeGroupId=org.glassfish.jersey.archetypes \\\n",
    "  -DarchetypeArtifactId=jersey-quickstart-grizzly2 \\\n",
    "  -DarchetypeVersion=3.1.8 \\\n",
    "  -DgroupId=fr.univtln.bruno.demos.jaxrs \\\n",
    "  -DartifactId=myresource"
   ]
  },
  {
   "cell_type": "markdown",
   "id": "a92a9486-0f72-47f7-954e-79c9a83d437f",
   "metadata": {
    "slideshow": {
     "slide_type": "subslide"
    },
    "tags": []
   },
   "source": [
    "Le serveur peut être compilé puis exécuté \n",
    "\n",
    "```shell\n",
    "cd /home/jovyan/work/src/samples/jaxrs/myresource\n",
    "mvn package && mvn exec:java\n",
    "```\n",
    "\n",
    "Il est maintenant possible d’accéder à la ressource en ligne de commande à partir de l'adresse http://localhost:8080/myapp.\n"
   ]
  },
  {
   "cell_type": "code",
   "execution_count": 2,
   "id": "f7871eae-8e3a-4473-97cc-d1aa975905a8",
   "metadata": {
    "vscode": {
     "languageId": "java"
    }
   },
   "outputs": [
    {
     "name": "stderr",
     "output_type": "stream",
     "text": [
      "Oct 03, 2024 1:06:31 PM org.glassfish.jersey.message.internal.MessagingBinders$EnabledProvidersBinder bindToBinder\n"
     ]
    },
    {
     "name": "stderr",
     "output_type": "stream",
     "text": [
      "WARNING: A class jakarta.activation.DataSource for a default provider MessageBodyWriter<jakarta.activation.DataSource> was not found. The provider is not available.\n"
     ]
    },
    {
     "name": "stderr",
     "output_type": "stream",
     "text": [
      "Oct 03, 2024 1:06:31 PM org.glassfish.jersey.server.wadl.WadlFeature configure\n"
     ]
    },
    {
     "name": "stderr",
     "output_type": "stream",
     "text": [
      "WARNING: JAX-B API not found . WADL feature is disabled.\n"
     ]
    },
    {
     "name": "stderr",
     "output_type": "stream",
     "text": [
      "Oct 03, 2024 1:06:31 PM org.glassfish.grizzly.http.server.NetworkListener start\n"
     ]
    },
    {
     "name": "stderr",
     "output_type": "stream",
     "text": [
      "INFO: Started listener bound to [localhost:8080]\n"
     ]
    },
    {
     "name": "stderr",
     "output_type": "stream",
     "text": [
      "Oct 03, 2024 1:06:31 PM org.glassfish.grizzly.http.server.HttpServer start\n"
     ]
    },
    {
     "name": "stderr",
     "output_type": "stream",
     "text": [
      "INFO: [HttpServer] Started.\n"
     ]
    },
    {
     "name": "stderr",
     "output_type": "stream",
     "text": [
      "Oct 03, 2024 1:06:32 PM org.glassfish.grizzly.http.server.NetworkListener shutdownNow\n"
     ]
    },
    {
     "name": "stderr",
     "output_type": "stream",
     "text": [
      "INFO: Stopped listener bound to [localhost:8080]\n"
     ]
    }
   ],
   "source": [
    "String script=\"\"\"\n",
    "cd /home/jovyan/work/src/samples/jaxrs/myresource\n",
    "mvn --quiet --ntp package\n",
    "nohup mvn --quiet --ntp exec:java &    \n",
    "\"\"\";\n",
    "IJava.getKernelInstance().getMagics().applyCellMagic(\"shell\",List.of(),script);\n",
    "return null;    "
   ]
  },
  {
   "cell_type": "markdown",
   "id": "9d1dd18f-12d3-4cf7-b696-2042cafb24a8",
   "metadata": {
    "slideshow": {
     "slide_type": "slide"
    },
    "tags": []
   },
   "source": [
    "Une application REST JAX-RS est construite autour de deux notions principales l'Application (le serveur) et les Ressources.\n",
    "Une instance d'une ressource est créée pour répondre à chaque requête et détruite ensuite. Elle peut donc être utilisée comme une sorte de singleton. Une ressource est définie annotant  une classe, un ou plusieurs de ses superclasses (y compris abstraites) ou l'une de ses interfaces. \n",
    "\n",
    "Dans l'exemple, la classe `fr.univtln.bruno.demos.jaxrs.Main` démarre le serveur et paramètre les packages où le framework va chercher des ressources comme le montre la méthode ci-dessous."
   ]
  },
  {
   "cell_type": "code",
   "execution_count": 3,
   "id": "eb01f9fc-ddc7-4076-86f5-ef51877bc2a1",
   "metadata": {
    "vscode": {
     "languageId": "java"
    }
   },
   "outputs": [
    {
     "data": {
      "text/markdown": [
       "```Java\n",
       "/**\n",
       " * Starts Grizzly HTTP server exposing JAX-RS resources defined in this application.\n",
       " * @return Grizzly HTTP server.\n",
       " */\n",
       "public static HttpServer startServer() {\n",
       "    // create a resource config that scans for JAX-RS resources and providers\n",
       "    // in fr.univtln.bruno.demos.jaxrs package\n",
       "    final ResourceConfig rc = new ResourceConfig().packages(\"fr.univtln.bruno.demos.jaxrs\");\n",
       "    // create and start a new instance of grizzly http server\n",
       "    // exposing the Jersey application at BASE_URI\n",
       "    return GrizzlyHttpServerFactory.createHttpServer(URI.create(BASE_URI), rc);\n",
       "}\n",
       "```"
      ],
      "text/plain": [
       "```Java\n",
       "/**\n",
       " * Starts Grizzly HTTP server exposing JAX-RS resources defined in this application.\n",
       " * @return Grizzly HTTP server.\n",
       " */\n",
       "public static HttpServer startServer() {\n",
       "    // create a resource config that scans for JAX-RS resources and providers\n",
       "    // in fr.univtln.bruno.demos.jaxrs package\n",
       "    final ResourceConfig rc = new ResourceConfig().packages(\"fr.univtln.bruno.demos.jaxrs\");\n",
       "    // create and start a new instance of grizzly http server\n",
       "    // exposing the Jersey application at BASE_URI\n",
       "    return GrizzlyHttpServerFactory.createHttpServer(URI.create(BASE_URI), rc);\n",
       "}\n",
       "```"
      ]
     },
     "metadata": {},
     "output_type": "display_data"
    }
   ],
   "source": [
    "//| output: true\n",
    "//| echo: false\n",
    "// PRINT CLASS\n",
    "String script=\"/home/jovyan/work/src/samples/jaxrs/myresource/src/main/java/fr/univtln/bruno/demos/jaxrs/Main.java\";\n",
    "IJava.getKernelInstance().getMagics().applyCellMagic(\"javasrcMethodByName\",List.of(\"Main\",\"startServer\"),script);\n",
    "return null;"
   ]
  },
  {
   "cell_type": "markdown",
   "id": "d629bc55-87f2-4c2c-9964-af1c6dae997c",
   "metadata": {
    "slideshow": {
     "slide_type": "slide"
    },
    "tags": []
   },
   "source": [
    "La classe `fr.univtln.bruno.demos.jaxrs.MyResource` présente le fonctionnement minimal d'une ressource. La classe est annotée avec `@Path(...)` pour indiquer le chemin à ajouter à l’URL correspondant à cette ressource. D'une façon générale, les méthodes sont annotées avec `@POST`, `@GET`, `@PUT`,`@DELETE`, ... pour indiquer le type de verbe HTTP associé. "
   ]
  },
  {
   "cell_type": "markdown",
   "id": "665a6148-5d9b-41ef-aa9d-e3875d879b28",
   "metadata": {
    "slideshow": {
     "slide_type": "slide"
    },
    "tags": []
   },
   "source": [
    "Les méthodes peuvent être annotées avec `@Produces` qui indique le ou les types MIME dans lequel le résultat peut être fourni : `@Produces(\"text/plain\")`, `@Produces(\"application/json\")`, … Il est possible d’indiquer plusieurs types avec `@Produces({\"application/json\", \"application/xml\"})`. Il existe aussi des constantes équivalentes `MediaType.TEXT_PLAIN`. Une valeur par défaut de `@Produces` peut être indiquée en annotant la classe."
   ]
  },
  {
   "cell_type": "code",
   "execution_count": 4,
   "id": "0688628f-7852-477a-afc8-a11d06e8a3c1",
   "metadata": {
    "tags": [],
    "vscode": {
     "languageId": "java"
    }
   },
   "outputs": [
    {
     "data": {
      "text/markdown": [
       "```Java\n",
       "/**\n",
       " * Method handling HTTP GET requests. The returned object will be sent\n",
       " * to the client as \"text/plain\" media type.\n",
       " *\n",
       " * @return String that will be returned as a text/plain response.\n",
       " */\n",
       "@GET\n",
       "@Produces(MediaType.TEXT_PLAIN)\n",
       "public String getIt() {\n",
       "    return \"Got it!\";\n",
       "}\n",
       "```"
      ],
      "text/plain": [
       "```Java\n",
       "/**\n",
       " * Method handling HTTP GET requests. The returned object will be sent\n",
       " * to the client as \"text/plain\" media type.\n",
       " *\n",
       " * @return String that will be returned as a text/plain response.\n",
       " */\n",
       "@GET\n",
       "@Produces(MediaType.TEXT_PLAIN)\n",
       "public String getIt() {\n",
       "    return \"Got it!\";\n",
       "}\n",
       "```"
      ]
     },
     "metadata": {},
     "output_type": "display_data"
    }
   ],
   "source": [
    "//| output: true\n",
    "//| echo: false\n",
    "// PRINT CLASS\n",
    "String script=\"/home/jovyan/work/src/samples/jaxrs/myresource/src/main/java/fr/univtln/bruno/demos/jaxrs/MyResource.java\";\n",
    "IJava.getKernelInstance().getMagics().applyCellMagic(\"javasrcMethodByAnnotationName\",List.of(\"MyResource\",\"GET\"),script);\n",
    "return null;"
   ]
  },
  {
   "cell_type": "markdown",
   "id": "44a8c33e-031f-4da1-a911-053154d67918",
   "metadata": {
    "slideshow": {
     "slide_type": "slide"
    },
    "tags": []
   },
   "source": [
    "Le client peut indiquer le type demandé parmi l'un des \"produces\" avec la valeur `Content-Type: ` de l'entête de la requête.\n"
   ]
  },
  {
   "cell_type": "markdown",
   "id": "fc2c9b28-90bc-404d-a7ba-324fcc64a48b",
   "metadata": {
    "slideshow": {
     "slide_type": "slide"
    },
    "tags": []
   },
   "source": [
    "La commande suivante exécute une requête GET sur l'URL d'une ressource et affiche le résultat en-tête compris. (Le serveur doit être lancé)."
   ]
  },
  {
   "cell_type": "code",
   "execution_count": 51,
   "id": "186196fb-9645-4561-82a9-0764ed767f37",
   "metadata": {
    "slideshow": {
     "slide_type": "fragment"
    },
    "tags": [],
    "vscode": {
     "languageId": "java"
    }
   },
   "outputs": [
    {
     "name": "stderr",
     "output_type": "stream",
     "text": [
      "* Host localhost:8080 was resolved.\n",
      "* IPv6: ::1\n",
      "* IPv4: 127.0.0.1\n",
      "*   Trying [::1]:8080...\n",
      "* connect to ::1 port 8080 from ::1 port 33550 failed: Connection refused\n",
      "*   Trying 127.0.0.1:8080...\n",
      "* Connected to localhost (127.0.0.1) port 8080\n",
      "> GET /myresource HTTP/1.1\n",
      "> Host: localhost:8080\n",
      "> Accept: */*\n",
      "> User-Agent: MyApplication/1.0\n",
      "> \n",
      "< HTTP/1.1 200 OK\n",
      "< Content-Type: text/plain\n",
      "< Content-Length: 7\n",
      "< \n",
      "{ [7 bytes data]\n",
      "* Connection #0 to host localhost left intact\n"
     ]
    },
    {
     "name": "stdout",
     "output_type": "stream",
     "text": [
      "Got it!\n"
     ]
    },
    {
     "name": "stderr",
     "output_type": "stream",
     "text": [
      "* IPv4: 127.0.0.1\n"
     ]
    },
    {
     "name": "stderr",
     "output_type": "stream",
     "text": [
      "*   Trying [::1]:8080...\n"
     ]
    },
    {
     "name": "stderr",
     "output_type": "stream",
     "text": [
      "* connect to ::1 port 8080 from ::1 port 57924 failed: Connection refused\n"
     ]
    },
    {
     "name": "stderr",
     "output_type": "stream",
     "text": [
      "*   Trying 127.0.0.1:8080...\n"
     ]
    },
    {
     "name": "stderr",
     "output_type": "stream",
     "text": [
      "* connect to 127.0.0.1 port 8080 from 127.0.0.1 port 40990 failed: Connection refused\n"
     ]
    },
    {
     "name": "stderr",
     "output_type": "stream",
     "text": [
      "* Failed to connect to localhost port 8080 after 0 ms: Couldn't connect to server\n"
     ]
    },
    {
     "name": "stderr",
     "output_type": "stream",
     "text": [
      "* Closing connection\n"
     ]
    }
   ],
   "source": [
    "%%shell\n",
    "URL=http://localhost:8080\n",
    "USER_AGENT=\"MyApplication/1.0\"\n",
    "# curl -s -D - -H \"User-Agent: ${USER_AGENT}\" --get \"${URL}/myresource\" -v\n",
    "curl --silent --verbose -H \"User-Agent: ${USER_AGENT}\" --request GET \"${URL}/myresource\" "
   ]
  },
  {
   "cell_type": "markdown",
   "id": "f33ead42-9caf-44ee-bd11-17f5e7036cad",
   "metadata": {
    "slideshow": {
     "slide_type": "slide"
    },
    "tags": []
   },
   "source": [
    "## Une application REST plus complète\n",
    "\n",
    "Pour la suite nous allons étudier en détail l'application https://github.com/ebpro/sample-jaxrs."
   ]
  },
  {
   "cell_type": "code",
   "execution_count": 6,
   "id": "136e27c9-244c-4412-a9b3-306cfdeb0c20",
   "metadata": {
    "vscode": {
     "languageId": "java"
    }
   },
   "outputs": [
    {
     "name": "stdout",
     "output_type": "stream",
     "text": [
      "$ git fetch\n"
     ]
    },
    {
     "name": "stdout",
     "output_type": "stream",
     "text": [
      "\n"
     ]
    },
    {
     "name": "stdout",
     "output_type": "stream",
     "text": [
      "$ git reset --mixed\n"
     ]
    },
    {
     "name": "stdout",
     "output_type": "stream",
     "text": [
      "\n"
     ]
    },
    {
     "name": "stdout",
     "output_type": "stream",
     "text": [
      "$ git -c user.email=nbgitpuller@nbgitpuller.link -c user.name=nbgitpuller merge -Xours origin/develop\n"
     ]
    },
    {
     "name": "stdout",
     "output_type": "stream",
     "text": [
      "\n"
     ]
    },
    {
     "name": "stdout",
     "output_type": "stream",
     "text": [
      "Already up to date.\n"
     ]
    },
    {
     "name": "stdout",
     "output_type": "stream",
     "text": [
      "\n"
     ]
    },
    {
     "name": "stderr",
     "output_type": "stream",
     "text": [
      "Oct 03, 2024 1:06:34 PM org.glassfish.jersey.message.internal.MessagingBinders$EnabledProvidersBinder bindToBinder\n"
     ]
    },
    {
     "name": "stderr",
     "output_type": "stream",
     "text": [
      "WARNING: A class jakarta.activation.DataSource for a default provider MessageBodyWriter<jakarta.activation.DataSource> was not found. The provider is not available.\n"
     ]
    },
    {
     "name": "stderr",
     "output_type": "stream",
     "text": [
      "Oct 03, 2024 1:06:34 PM org.glassfish.jersey.server.wadl.WadlFeature configure\n"
     ]
    },
    {
     "name": "stderr",
     "output_type": "stream",
     "text": [
      "WARNING: JAX-B API not found . WADL feature is disabled.\n"
     ]
    },
    {
     "name": "stderr",
     "output_type": "stream",
     "text": [
      "Oct 03, 2024 1:06:35 PM org.glassfish.grizzly.http.server.NetworkListener start\n"
     ]
    },
    {
     "name": "stdout",
     "output_type": "stream",
     "text": [
      "Jersey app started with endpoints available at http://localhost:8080/\n"
     ]
    },
    {
     "name": "stderr",
     "output_type": "stream",
     "text": [
      "INFO: Started listener bound to [localhost:8080]\n"
     ]
    },
    {
     "name": "stdout",
     "output_type": "stream",
     "text": [
      "Hit Ctrl-C to stop it...\n"
     ]
    },
    {
     "name": "stderr",
     "output_type": "stream",
     "text": [
      "Oct 03, 2024 1:06:35 PM org.glassfish.grizzly.http.server.HttpServer start\n"
     ]
    },
    {
     "name": "stderr",
     "output_type": "stream",
     "text": [
      "INFO: [HttpServer] Started.\n"
     ]
    },
    {
     "data": {
      "text/plain": [
       "0"
      ]
     },
     "execution_count": 6,
     "metadata": {},
     "output_type": "execute_result"
    }
   ],
   "source": [
    "//| output: false\n",
    "//| echo: false\n",
    "\n",
    "%printWithName false\n",
    "    \n",
    "// UPDATE SAMPLE SOURCE CODE\n",
    "\n",
    "String script=\"\"\"\n",
    "GITHUB_REPO=ebpro/sample-jaxrs\n",
    "GITHUB_URL=https://github.com/${GITHUB_REPO}\n",
    "BRANCH=develop\n",
    "SRC_DIR=/home/jovyan/work/src/github/${GITHUB_REPO}\n",
    "gitpuller ${GITHUB_URL} ${BRANCH} ${SRC_DIR}\n",
    "cd ${SRC_DIR}\n",
    "mvn --quiet clean package\n",
    "\"\"\";\n",
    "IJava.getKernelInstance().getMagics().applyCellMagic(\"shell\",List.of(\"\"),script);  "
   ]
  },
  {
   "cell_type": "markdown",
   "id": "134eee80-7bc7-46db-acce-8c5e4c95c333",
   "metadata": {
    "slideshow": {
     "slide_type": "slide"
    },
    "tags": []
   },
   "source": [
    "L'application peut être compilée et exécutée avec maven.\n",
    "Cela lance le serveur (vous pourrez l'arrêter avec ctrl-c dans le terminal).\n",
    "Cela compile, exécute les tests unitaires, package et exécute les tests d'intégration (en lançant le serveur REST et en exécutant de vraies requêtes).\n",
    "\n",
    "```shell \n",
    "cd /home/jovyan/work/src/github/ebpro/sample-jaxrs && \\\n",
    "    mvn clean verify &&\n",
    "    mvn exec:java\n",
    "```\n",
    "\n",
    "La classe `fr.univtln.bruno.samples.jaxrs.server.BiblioServer` paramètre Jersey, démarre Grizzly et attend un CTRL-C pour arrêter le serveur. \n",
    "\n",
    "La classe `fr.univtln.bruno.samples.jaxrs.model.LibraryModel` définit le modèle de donnée (Une bibliothèque qui est une facade pour gérer des Auteurs et des Livres.)\n",
    "\n",
    "Les classes `fr.univtln.bruno.samples.jaxrs.resources.LibraryResource` et `fr.univtln.bruno.samples.jaxrs.resources.AuthorResource` définissent des ressources REST."
   ]
  },
  {
   "cell_type": "code",
   "execution_count": 7,
   "id": "a2ebef77-fd99-43ac-918e-371a96e477f6",
   "metadata": {
    "vscode": {
     "languageId": "java"
    }
   },
   "outputs": [
    {
     "data": {
      "text/plain": [
       "org.glassfish.grizzly.http.server.HttpServer@42c6a9b"
      ]
     },
     "execution_count": 7,
     "metadata": {},
     "output_type": "execute_result"
    }
   ],
   "source": [
    "//| output: false\n",
    "//| echo: false\n",
    "%jars \"/home/jovyan/work/src/github/ebpro/sample-jaxrs/target/sample-jaxrs-*-withdependencies.jar\"; \n",
    "import org.glassfish.grizzly.http.server.HttpServer;\n",
    "import fr.univtln.bruno.samples.jaxrs.server.BiblioServer;\n",
    "HttpServer httpServer = BiblioServer.startServer();\n",
    "httpServer.toString();"
   ]
  },
  {
   "cell_type": "markdown",
   "id": "38c90085-7013-44f8-a824-388c25bfa820",
   "metadata": {
    "slideshow": {
     "slide_type": "slide"
    },
    "tags": []
   },
   "source": [
    "### Chemins et Verbes\n",
    "La méthode `sayHello()` reprend l'exemple précédent."
   ]
  },
  {
   "cell_type": "code",
   "execution_count": 8,
   "id": "677d0975-1cb1-49a2-b4e0-c937f85d38bf",
   "metadata": {
    "vscode": {
     "languageId": "java"
    }
   },
   "outputs": [
    {
     "data": {
      "text/markdown": [
       "```Java\n",
       "/**\n",
       " * The simpliest method that just return \"hello\" in plain text with GET on the default path \"biblio\".\n",
       " *\n",
       " * @return the string\n",
       " */\n",
       "@SuppressWarnings(\"SameReturnValue\")\n",
       "@GET\n",
       "@Path(\"hello\")\n",
       "@Produces(MediaType.TEXT_PLAIN)\n",
       "public String sayHello() {\n",
       "    return \"hello\";\n",
       "}\n",
       "```"
      ],
      "text/plain": [
       "```Java\n",
       "/**\n",
       " * The simpliest method that just return \"hello\" in plain text with GET on the default path \"biblio\".\n",
       " *\n",
       " * @return the string\n",
       " */\n",
       "@SuppressWarnings(\"SameReturnValue\")\n",
       "@GET\n",
       "@Path(\"hello\")\n",
       "@Produces(MediaType.TEXT_PLAIN)\n",
       "public String sayHello() {\n",
       "    return \"hello\";\n",
       "}\n",
       "```"
      ]
     },
     "metadata": {},
     "output_type": "display_data"
    }
   ],
   "source": [
    "//| output: true\n",
    "//| echo: false\n",
    "// PRINT CLASS\n",
    "String script=\"/home/jovyan/work/src/github/ebpro/sample-jaxrs/src/main/java/fr/univtln/bruno/samples/jaxrs/resources/LibraryResource.java\";\n",
    "IJava.getKernelInstance().getMagics().applyCellMagic(\"javasrcMethodByName\",List.of(\"LibraryResource\",\"sayHello\"),script);\n",
    "return null;"
   ]
  },
  {
   "cell_type": "code",
   "execution_count": 9,
   "id": "63b18d5f-bc85-4a7d-9937-2ec8f0eaaf4c",
   "metadata": {
    "slideshow": {
     "slide_type": "fragment"
    },
    "tags": [],
    "vscode": {
     "languageId": "java"
    }
   },
   "outputs": [
    {
     "name": "stderr",
     "output_type": "stream",
     "text": [
      "* Host localhost:9998 was resolved.\n"
     ]
    },
    {
     "name": "stderr",
     "output_type": "stream",
     "text": [
      "* IPv6: ::1\n"
     ]
    },
    {
     "name": "stderr",
     "output_type": "stream",
     "text": [
      "* IPv4: 127.0.0.1\n"
     ]
    },
    {
     "name": "stderr",
     "output_type": "stream",
     "text": [
      "*   Trying [::1]:9998...\n"
     ]
    },
    {
     "name": "stderr",
     "output_type": "stream",
     "text": [
      "* Connected to localhost (::1) port 9998\n"
     ]
    },
    {
     "name": "stderr",
     "output_type": "stream",
     "text": [
      "> GET /mylibrary/library HTTP/1.1\n"
     ]
    },
    {
     "name": "stderr",
     "output_type": "stream",
     "text": [
      "> Host: localhost:9998\n"
     ]
    },
    {
     "name": "stderr",
     "output_type": "stream",
     "text": [
      "> User-Agent: curl/8.5.0\n"
     ]
    },
    {
     "name": "stderr",
     "output_type": "stream",
     "text": [
      "> Accept: */*\n"
     ]
    },
    {
     "name": "stderr",
     "output_type": "stream",
     "text": [
      "> \n"
     ]
    },
    {
     "name": "stderr",
     "output_type": "stream",
     "text": [
      "< HTTP/1.1 200 OK\n"
     ]
    },
    {
     "name": "stderr",
     "output_type": "stream",
     "text": [
      "< Content-Type: application/json\n"
     ]
    },
    {
     "name": "stderr",
     "output_type": "stream",
     "text": [
      "< Content-Length: 25\n"
     ]
    },
    {
     "name": "stderr",
     "output_type": "stream",
     "text": [
      "< \n"
     ]
    },
    {
     "name": "stdout",
     "output_type": "stream",
     "text": [
      "{\n"
     ]
    },
    {
     "name": "stdout",
     "output_type": "stream",
     "text": [
      "  \"books\": [],\n"
     ]
    },
    {
     "name": "stdout",
     "output_type": "stream",
     "text": [
      "  \"authors\": []\n"
     ]
    },
    {
     "name": "stdout",
     "output_type": "stream",
     "text": [
      "}\n"
     ]
    },
    {
     "name": "stderr",
     "output_type": "stream",
     "text": [
      "{ [25 bytes data]\n"
     ]
    },
    {
     "name": "stderr",
     "output_type": "stream",
     "text": [
      "* Connection #0 to host localhost left intact\n"
     ]
    }
   ],
   "source": [
    "%%shell\n",
    "curl -s -v http://localhost:9998/mylibrary/library|jq"
   ]
  },
  {
   "cell_type": "markdown",
   "id": "4b591f76-2180-43bc-b657-e1ec03784d79",
   "metadata": {
    "slideshow": {
     "slide_type": "subslide"
    },
    "tags": []
   },
   "source": [
    "D'autres verbe peuvent être utilisé sur le même chemin. Une méthode peut aussi être annotées avec `@Path` pour définir le chemin associé à cette méthode.\n",
    "\n",
    "La méthode `init()` est un simple `PUT` sans paramètre qui initialise la bibliothèque avec deux auteurs."
   ]
  },
  {
   "cell_type": "code",
   "execution_count": 10,
   "id": "2a1b0dce-4713-4cb4-81a1-ea307556046a",
   "metadata": {
    "vscode": {
     "languageId": "java"
    }
   },
   "outputs": [
    {
     "data": {
      "text/markdown": [
       "```Java\n",
       "/**\n",
       " * An init method that add two authors with a PUT on the default path.\n",
       " *\n",
       " * @return the number of generated authors.\n",
       " * @throws IllegalArgumentException the illegal argument exception\n",
       " */\n",
       "@PUT\n",
       "@Path(\"init\")\n",
       "public int init() throws BusinessException {\n",
       "    Library.demoLibrary.removesAuthors();\n",
       "    Library.Author author1 = Library.demoLibrary.addAuthor(Library.Author.builder().firstname(\"Alfred\").name(\"Martin\").build());\n",
       "    Library.Author author2 = Library.demoLibrary.addAuthor(Library.Author.builder().firstname(\"Marie\").name(\"Durand\").build());\n",
       "    Library.demoLibrary.addBook(Library.Book.builder().title(\"title1\").authors(Set.of(author1)).build());\n",
       "    Library.demoLibrary.addBook(Library.Book.builder().title(\"title2\").authors(Set.of(author1, author2)).build());\n",
       "    Library.demoLibrary.addBook(Library.Book.builder().title(\"title3\").authors(Set.of(author2)).build());\n",
       "    Library.demoLibrary.addBook(Library.Book.builder().title(\"title4\").authors(Set.of(author2)).build());\n",
       "    return Library.demoLibrary.getAuthorsNumber();\n",
       "}\n",
       "```"
      ],
      "text/plain": [
       "```Java\n",
       "/**\n",
       " * An init method that add two authors with a PUT on the default path.\n",
       " *\n",
       " * @return the number of generated authors.\n",
       " * @throws IllegalArgumentException the illegal argument exception\n",
       " */\n",
       "@PUT\n",
       "@Path(\"init\")\n",
       "public int init() throws BusinessException {\n",
       "    Library.demoLibrary.removesAuthors();\n",
       "    Library.Author author1 = Library.demoLibrary.addAuthor(Library.Author.builder().firstname(\"Alfred\").name(\"Martin\").build());\n",
       "    Library.Author author2 = Library.demoLibrary.addAuthor(Library.Author.builder().firstname(\"Marie\").name(\"Durand\").build());\n",
       "    Library.demoLibrary.addBook(Library.Book.builder().title(\"title1\").authors(Set.of(author1)).build());\n",
       "    Library.demoLibrary.addBook(Library.Book.builder().title(\"title2\").authors(Set.of(author1, author2)).build());\n",
       "    Library.demoLibrary.addBook(Library.Book.builder().title(\"title3\").authors(Set.of(author2)).build());\n",
       "    Library.demoLibrary.addBook(Library.Book.builder().title(\"title4\").authors(Set.of(author2)).build());\n",
       "    return Library.demoLibrary.getAuthorsNumber();\n",
       "}\n",
       "```"
      ]
     },
     "metadata": {},
     "output_type": "display_data"
    }
   ],
   "source": [
    "//| output: true\n",
    "//| echo: false\n",
    "// PRINT CLASS\n",
    "String script=\"/home/jovyan/work/src/github/ebpro/sample-jaxrs/src/main/java/fr/univtln/bruno/samples/jaxrs/resources/LibraryResource.java\";\n",
    "IJava.getKernelInstance().getMagics().applyCellMagic(\"javasrcMethodByName\",List.of(\"LibraryResource\",\"init\"),script);\n",
    "return null;"
   ]
  },
  {
   "cell_type": "code",
   "execution_count": 11,
   "id": "4f0ea498-148a-4564-8a72-2daf39da50e3",
   "metadata": {
    "slideshow": {
     "slide_type": "fragment"
    },
    "tags": [],
    "vscode": {
     "languageId": "java"
    }
   },
   "outputs": [
    {
     "name": "stdout",
     "output_type": "stream",
     "text": [
      "HTTP/1.1 200 OK\n"
     ]
    },
    {
     "name": "stdout",
     "output_type": "stream",
     "text": [
      "Content-Type: application/json\n"
     ]
    },
    {
     "name": "stdout",
     "output_type": "stream",
     "text": [
      "Content-Length: 1\n"
     ]
    },
    {
     "name": "stdout",
     "output_type": "stream",
     "text": [
      "\n"
     ]
    },
    {
     "name": "stdout",
     "output_type": "stream",
     "text": [
      "2\n"
     ]
    }
   ],
   "source": [
    "%%shell\n",
    "curl -s -i -X PUT \"http://localhost:9998/mylibrary/library/init\""
   ]
  },
  {
   "cell_type": "markdown",
   "id": "d6db152d-6863-4521-9f75-96eb7ebbf754",
   "metadata": {
    "slideshow": {
     "slide_type": "slide"
    },
    "tags": []
   },
   "source": [
    "### Les paramètres simples\n",
    "JAX-RS permet d'extraire automatiquement des valeurs de paramètres depuis le chemin de la ressources, les paramêtres de la requête ou l'entête http. Ces valeurs peuvent alors être \"injectées\" (affectée par annotation aux paramètres des méthodes REST).\n",
    "\n",
    "L’annotation `@PathParam` permet d’injecter les valeurs provenant des URL comme des paramètres.\n",
    "\n",
    "La méthode `getAuthor(@PathParam(\"id\") final long id)` ci dessous-s'exécute lors d'un `GET` sur un chemin de forme `@Path(\"author/{id}\")`. `id` est est un pas de chemin quelconque qui sera extrait, converti en long et injecté grâce à `@PathParam` dans le paramètre `id` de la fonction. Il est possible d'indiquer une expression régulière pour contraindre la forme du pas par exemple `@Path(\"authors/{id: [0-9]+}\")`. \n",
    "\n",
    "Le `@Produces` sur la classe indique que du XML ou du JSON peuvent être produits.\n",
    "Les méthodes REST retournent instance de la classe Response qui représente une réponse HTTP. Cette classe propose un builder pour construire manuellement. \n",
    "Cependant, JAX-RS permet de construite automatiquement ces réponses si le type de retour peut être transformé en un contenu de réponse (une entité http) par une implantation de l'interface `MessageBodyWriter`. Les implantations de JAX-RS en fournissent généralement par défaut par exemple pour String voire pour XML ou JSON (via les mécanismes de marshalling qui seront étudiés en détail plus tard)."
   ]
  },
  {
   "cell_type": "code",
   "execution_count": 12,
   "id": "d2f8fc13-25bc-4a0e-8ff2-ffc34caa3d9a",
   "metadata": {
    "vscode": {
     "languageId": "java"
    }
   },
   "outputs": [
    {
     "data": {
      "text/markdown": [
       "```Java\n",
       "/**\n",
       " * Find and return an author by id with a GET on the path \"biblio/auteurs/{id}\" where  {id} is the needed id.\n",
       " * The path parameter \"id\" is injected with @PathParam.\n",
       " *\n",
       " * @param id the needed author id.\n",
       " * @return the auteur with id.\n",
       " * @throws NotFoundException is returned if no author has the \"id\".\n",
       " */\n",
       "@GET\n",
       "@Path(\"{id}\")\n",
       "public Library.Author getAuthor(@PathParam(\"id\") final long id) throws BusinessException {\n",
       "    return Library.demoLibrary.getAuthor(id);\n",
       "}\n",
       "```"
      ],
      "text/plain": [
       "```Java\n",
       "/**\n",
       " * Find and return an author by id with a GET on the path \"biblio/auteurs/{id}\" where  {id} is the needed id.\n",
       " * The path parameter \"id\" is injected with @PathParam.\n",
       " *\n",
       " * @param id the needed author id.\n",
       " * @return the auteur with id.\n",
       " * @throws NotFoundException is returned if no author has the \"id\".\n",
       " */\n",
       "@GET\n",
       "@Path(\"{id}\")\n",
       "public Library.Author getAuthor(@PathParam(\"id\") final long id) throws BusinessException {\n",
       "    return Library.demoLibrary.getAuthor(id);\n",
       "}\n",
       "```"
      ]
     },
     "metadata": {},
     "output_type": "display_data"
    }
   ],
   "source": [
    "//| output: true\n",
    "//| echo: false\n",
    "// PRINT CLASS\n",
    "String script=\"/home/jovyan/work/src/github/ebpro/sample-jaxrs/src/main/java/fr/univtln/bruno/samples/jaxrs/resources/AuthorResource.java\";\n",
    "IJava.getKernelInstance().getMagics().applyCellMagic(\"javasrcMethodByName\",List.of(\"AuthorResource\",\"getAuthor\"),script);\n",
    "return null;"
   ]
  },
  {
   "cell_type": "markdown",
   "id": "3e19329b-ca7a-47a9-8157-501339b329af",
   "metadata": {},
   "source": [
    "Get author 1 in JSON :"
   ]
  },
  {
   "cell_type": "code",
   "execution_count": 13,
   "id": "739b312f-8cd7-4e55-a0a8-522441d4d260",
   "metadata": {
    "slideshow": {
     "slide_type": "subslide"
    },
    "tags": [],
    "vscode": {
     "languageId": "java"
    }
   },
   "outputs": [
    {
     "name": "stderr",
     "output_type": "stream",
     "text": [
      "* Host localhost:9998 was resolved.\n"
     ]
    },
    {
     "name": "stderr",
     "output_type": "stream",
     "text": [
      "* IPv6: ::1\n"
     ]
    },
    {
     "name": "stderr",
     "output_type": "stream",
     "text": [
      "* IPv4: 127.0.0.1\n"
     ]
    },
    {
     "name": "stderr",
     "output_type": "stream",
     "text": [
      "*   Trying [::1]:9998...\n"
     ]
    },
    {
     "name": "stderr",
     "output_type": "stream",
     "text": [
      "* Connected to localhost (::1) port 9998\n"
     ]
    },
    {
     "name": "stderr",
     "output_type": "stream",
     "text": [
      "> GET /mylibrary/authors/1 HTTP/1.1\n"
     ]
    },
    {
     "name": "stderr",
     "output_type": "stream",
     "text": [
      "> Host: localhost:9998\n"
     ]
    },
    {
     "name": "stderr",
     "output_type": "stream",
     "text": [
      "> User-Agent: curl/8.5.0\n"
     ]
    },
    {
     "name": "stderr",
     "output_type": "stream",
     "text": [
      "> Accept: application/json\n"
     ]
    },
    {
     "name": "stderr",
     "output_type": "stream",
     "text": [
      "> \n"
     ]
    },
    {
     "name": "stderr",
     "output_type": "stream",
     "text": [
      "< HTTP/1.1 200 OK\n"
     ]
    },
    {
     "name": "stderr",
     "output_type": "stream",
     "text": [
      "< Content-Type: application/json\n"
     ]
    },
    {
     "name": "stderr",
     "output_type": "stream",
     "text": [
      "< Content-Length: 59\n"
     ]
    },
    {
     "name": "stderr",
     "output_type": "stream",
     "text": [
      "< \n"
     ]
    },
    {
     "name": "stderr",
     "output_type": "stream",
     "text": [
      "{ [59 bytes data]\n"
     ]
    },
    {
     "name": "stderr",
     "output_type": "stream",
     "text": [
      "* Connection #0 to host localhost left intact\n"
     ]
    },
    {
     "name": "stdout",
     "output_type": "stream",
     "text": [
      "{\n"
     ]
    },
    {
     "name": "stdout",
     "output_type": "stream",
     "text": [
      "  \"id\": 1,\n"
     ]
    },
    {
     "name": "stdout",
     "output_type": "stream",
     "text": [
      "  \"name\": \"Martin\",\n"
     ]
    },
    {
     "name": "stdout",
     "output_type": "stream",
     "text": [
      "  \"firstname\": \"Alfred\",\n"
     ]
    },
    {
     "name": "stdout",
     "output_type": "stream",
     "text": [
      "  \"books\": [\n"
     ]
    },
    {
     "name": "stdout",
     "output_type": "stream",
     "text": [
      "    1,\n"
     ]
    },
    {
     "name": "stdout",
     "output_type": "stream",
     "text": [
      "    2\n"
     ]
    },
    {
     "name": "stdout",
     "output_type": "stream",
     "text": [
      "  ]\n"
     ]
    },
    {
     "name": "stdout",
     "output_type": "stream",
     "text": [
      "}\n"
     ]
    }
   ],
   "source": [
    "%%shell\n",
    "curl -s -v -H \"Accept: application/json\"  \\\n",
    "  http://localhost:9998/mylibrary/authors/1|jq"
   ]
  },
  {
   "cell_type": "markdown",
   "id": "9bb12cb7-45b6-4547-b4e9-1f71faed65d5",
   "metadata": {
    "slideshow": {
     "slide_type": "slide"
    },
    "tags": []
   },
   "source": [
    "La requête suivante reprend la précédente et demande du XML. JAX-RS va chercher automatiquement des classes (MessageBodyWriter et Reader) pour créer le bon format. Ces classes peuvent construites explicitement mais des extensions peuvent être ajoutées pour produire les types classiques par annotations des entités (cf. le pom.xml et  les annotations de la classe `BiblioModel.Auteur`) : jersey-media-jaxb pour XML et jersey-media-json-jackson pour JSON. Jackson n'est pas l'implantatation pas défaut mais elle est plus efficace et plus configurable. \n",
    "\n",
    "Get author 2 in XML :"
   ]
  },
  {
   "cell_type": "code",
   "execution_count": 14,
   "id": "ff93a04e-2d7a-459d-9155-2678cfc8829c",
   "metadata": {
    "slideshow": {
     "slide_type": "fragment"
    },
    "tags": [],
    "vscode": {
     "languageId": "java"
    }
   },
   "outputs": [
    {
     "name": "stdout",
     "output_type": "stream",
     "text": [
      "HTTP/1.1 200 OK\n"
     ]
    },
    {
     "name": "stdout",
     "output_type": "stream",
     "text": [
      "Content-Type: text/xml\n"
     ]
    },
    {
     "name": "stdout",
     "output_type": "stream",
     "text": [
      "Content-Length: 323\n"
     ]
    },
    {
     "name": "stdout",
     "output_type": "stream",
     "text": [
      "\n"
     ]
    },
    {
     "name": "stdout",
     "output_type": "stream",
     "text": [
      "<?xml version=\"1.0\" encoding=\"UTF-8\" standalone=\"yes\"?><ebjax:author xmlns:ebjax=\"http://bruno.univ-tln.fr/sample-jaxrs\" xmlns:xs=\"http://www.w3.org/2001/XMLSchema\" id=\"Author-2\"><id>2</id><name>Durand</name><firstname>Marie</firstname><books><book>Book-2</book><book>Book-3</book><book>Book-4</book></books></ebjax:author>\n"
     ]
    }
   ],
   "source": [
    "%%shell\n",
    "curl -s -i -H \"Accept: text/xml\"  \\\n",
    "  http://localhost:9998/mylibrary/authors/2"
   ]
  },
  {
   "cell_type": "markdown",
   "id": "4f0b4066-f04b-455a-a645-0878ce589c4d",
   "metadata": {
    "slideshow": {
     "slide_type": "slide"
    },
    "tags": []
   },
   "source": [
    "Les collections classiques sont supportés. Notez qu'ici les [collections eclipse](https://www.eclipse.org/collections/) sont utilisées en particulier celles pour les primitifs et qu'elles sont supportées par Jackson."
   ]
  },
  {
   "cell_type": "markdown",
   "id": "02f6611c-b2ce-4ec4-a6e6-ad11206b7c6b",
   "metadata": {},
   "source": [
    "Get authors in XML :"
   ]
  },
  {
   "cell_type": "code",
   "execution_count": 15,
   "id": "7ba017fb-a0c4-4b88-8b88-f3eff5612c32",
   "metadata": {
    "vscode": {
     "languageId": "java"
    }
   },
   "outputs": [
    {
     "data": {
      "text/markdown": [
       "```Java\n",
       "/**\n",
       " * Gets auteurs.\n",
       " *\n",
       " * @return the auteurs\n",
       " */\n",
       "@GET\n",
       "public Collection<Library.Author> getAuthors() {\n",
       "    return Library.demoLibrary.getAuthors().values();\n",
       "}\n",
       "```"
      ],
      "text/plain": [
       "```Java\n",
       "/**\n",
       " * Gets auteurs.\n",
       " *\n",
       " * @return the auteurs\n",
       " */\n",
       "@GET\n",
       "public Collection<Library.Author> getAuthors() {\n",
       "    return Library.demoLibrary.getAuthors().values();\n",
       "}\n",
       "```"
      ]
     },
     "metadata": {},
     "output_type": "display_data"
    }
   ],
   "source": [
    "//| output: true\n",
    "//| echo: false\n",
    "// PRINT CLASS\n",
    "String script=\"/home/jovyan/work/src/github/ebpro/sample-jaxrs/src/main/java/fr/univtln/bruno/samples/jaxrs/resources/AuthorResource.java\";\n",
    "IJava.getKernelInstance().getMagics().applyCellMagic(\"javasrcMethodByName\",List.of(\"AuthorResource\",\"getAuthors\"),script);\n",
    "return null;"
   ]
  },
  {
   "cell_type": "markdown",
   "id": "f6bfa232-6a1c-4289-89a0-b8d3e792943b",
   "metadata": {},
   "source": [
    "Get authors in JSON"
   ]
  },
  {
   "cell_type": "code",
   "execution_count": 16,
   "id": "361574e8-3564-43ca-8182-bad892af1284",
   "metadata": {
    "tags": [],
    "vscode": {
     "languageId": "java"
    }
   },
   "outputs": [
    {
     "name": "stderr",
     "output_type": "stream",
     "text": [
      "* Host localhost:9998 was resolved.\n"
     ]
    },
    {
     "name": "stderr",
     "output_type": "stream",
     "text": [
      "* IPv6: ::1\n"
     ]
    },
    {
     "name": "stderr",
     "output_type": "stream",
     "text": [
      "* IPv4: 127.0.0.1\n"
     ]
    },
    {
     "name": "stderr",
     "output_type": "stream",
     "text": [
      "*   Trying [::1]:9998...\n"
     ]
    },
    {
     "name": "stderr",
     "output_type": "stream",
     "text": [
      "* Connected to localhost (::1) port 9998\n"
     ]
    },
    {
     "name": "stderr",
     "output_type": "stream",
     "text": [
      "> GET /mylibrary/authors HTTP/1.1\n"
     ]
    },
    {
     "name": "stderr",
     "output_type": "stream",
     "text": [
      "> Host: localhost:9998\n"
     ]
    },
    {
     "name": "stderr",
     "output_type": "stream",
     "text": [
      "> User-Agent: curl/8.5.0\n"
     ]
    },
    {
     "name": "stderr",
     "output_type": "stream",
     "text": [
      "> Accept: application/json\n"
     ]
    },
    {
     "name": "stderr",
     "output_type": "stream",
     "text": [
      "> \n"
     ]
    },
    {
     "name": "stderr",
     "output_type": "stream",
     "text": [
      "< HTTP/1.1 200 OK\n"
     ]
    },
    {
     "name": "stderr",
     "output_type": "stream",
     "text": [
      "< Content-Type: application/json\n"
     ]
    },
    {
     "name": "stderr",
     "output_type": "stream",
     "text": [
      "< Content-Length: 122\n"
     ]
    },
    {
     "name": "stderr",
     "output_type": "stream",
     "text": [
      "< \n"
     ]
    },
    {
     "name": "stderr",
     "output_type": "stream",
     "text": [
      "{ [122 bytes data]\n"
     ]
    },
    {
     "name": "stderr",
     "output_type": "stream",
     "text": [
      "* Connection #0 to host localhost left intact\n"
     ]
    },
    {
     "name": "stdout",
     "output_type": "stream",
     "text": [
      "[\n"
     ]
    },
    {
     "name": "stdout",
     "output_type": "stream",
     "text": [
      "  {\n"
     ]
    },
    {
     "name": "stdout",
     "output_type": "stream",
     "text": [
      "    \"id\": 1,\n"
     ]
    },
    {
     "name": "stdout",
     "output_type": "stream",
     "text": [
      "    \"name\": \"Martin\",\n"
     ]
    },
    {
     "name": "stdout",
     "output_type": "stream",
     "text": [
      "    \"firstname\": \"Alfred\",\n"
     ]
    },
    {
     "name": "stdout",
     "output_type": "stream",
     "text": [
      "    \"books\": [\n"
     ]
    },
    {
     "name": "stdout",
     "output_type": "stream",
     "text": [
      "      1,\n"
     ]
    },
    {
     "name": "stdout",
     "output_type": "stream",
     "text": [
      "      2\n"
     ]
    },
    {
     "name": "stdout",
     "output_type": "stream",
     "text": [
      "    ]\n"
     ]
    },
    {
     "name": "stdout",
     "output_type": "stream",
     "text": [
      "  },\n"
     ]
    },
    {
     "name": "stdout",
     "output_type": "stream",
     "text": [
      "  {\n"
     ]
    },
    {
     "name": "stdout",
     "output_type": "stream",
     "text": [
      "    \"id\": 2,\n"
     ]
    },
    {
     "name": "stdout",
     "output_type": "stream",
     "text": [
      "    \"name\": \"Durand\",\n"
     ]
    },
    {
     "name": "stdout",
     "output_type": "stream",
     "text": [
      "    \"firstname\": \"Marie\",\n"
     ]
    },
    {
     "name": "stdout",
     "output_type": "stream",
     "text": [
      "    \"books\": [\n"
     ]
    },
    {
     "name": "stdout",
     "output_type": "stream",
     "text": [
      "      2,\n"
     ]
    },
    {
     "name": "stdout",
     "output_type": "stream",
     "text": [
      "      3,\n"
     ]
    },
    {
     "name": "stdout",
     "output_type": "stream",
     "text": [
      "      4\n"
     ]
    },
    {
     "name": "stdout",
     "output_type": "stream",
     "text": [
      "    ]\n"
     ]
    },
    {
     "name": "stdout",
     "output_type": "stream",
     "text": [
      "  }\n"
     ]
    },
    {
     "name": "stdout",
     "output_type": "stream",
     "text": [
      "]\n"
     ]
    }
   ],
   "source": [
    "%%shell\n",
    "curl -s -v -H \"Accept: application/json\"  \\\n",
    "  http://localhost:9998/mylibrary/authors|jq"
   ]
  },
  {
   "cell_type": "markdown",
   "id": "26d511b2-acd1-4320-864c-73f56629b048",
   "metadata": {},
   "source": [
    "D'une façon similaire les annotations `@HeaderParam` et `@QueryParam` permettent d'extraire des valeurs de l'entête ou des paramètres de la requête http.\n",
    "La méthode suivante permet de construire un filtre pour des requêtes complexe. L'utilisation d'un chemin différent (\"filter\") n'est utile que pour l'exemple dans une application réelle il n'y aura qu'un seul GET. "
   ]
  },
  {
   "cell_type": "code",
   "execution_count": 17,
   "id": "ceb13d41-3a94-40ee-be00-430bad0c8358",
   "metadata": {
    "vscode": {
     "languageId": "java"
    }
   },
   "outputs": [
    {
     "data": {
      "text/markdown": [
       "```Java\n",
       "/**\n",
       " * Gets a list of \"filtered\" authors.\n",
       " *\n",
       " * @param name        an optional exact filter on the name.\n",
       " * @param firstname     an optional exact filter on the firstname.\n",
       " * @param biography an optional contains filter on the biography.\n",
       " * @param sortKey    the sort key (prenom or nom).\n",
       " * @return the filtered auteurs\n",
       " */\n",
       "@GET\n",
       "@Path(\"filter\")\n",
       "public Page<Library.Author> getFilteredAuthors(@QueryParam(\"name\") String name, @QueryParam(\"firstname\") String firstname, @QueryParam(\"biography\") String biography, @HeaderParam(\"sortKey\") @DefaultValue(\"name\") String sortKey) {\n",
       "    PaginationInfo paginationInfo = PaginationInfo.builder().name(name).firstname(firstname).biography(biography).sortKey(sortKey).build();\n",
       "    return Library.demoLibrary.getAuthorsWithFilter(paginationInfo);\n",
       "}\n",
       "```"
      ],
      "text/plain": [
       "```Java\n",
       "/**\n",
       " * Gets a list of \"filtered\" authors.\n",
       " *\n",
       " * @param name        an optional exact filter on the name.\n",
       " * @param firstname     an optional exact filter on the firstname.\n",
       " * @param biography an optional contains filter on the biography.\n",
       " * @param sortKey    the sort key (prenom or nom).\n",
       " * @return the filtered auteurs\n",
       " */\n",
       "@GET\n",
       "@Path(\"filter\")\n",
       "public Page<Library.Author> getFilteredAuthors(@QueryParam(\"name\") String name, @QueryParam(\"firstname\") String firstname, @QueryParam(\"biography\") String biography, @HeaderParam(\"sortKey\") @DefaultValue(\"name\") String sortKey) {\n",
       "    PaginationInfo paginationInfo = PaginationInfo.builder().name(name).firstname(firstname).biography(biography).sortKey(sortKey).build();\n",
       "    return Library.demoLibrary.getAuthorsWithFilter(paginationInfo);\n",
       "}\n",
       "```"
      ]
     },
     "metadata": {},
     "output_type": "display_data"
    }
   ],
   "source": [
    "//| output: true\n",
    "//| echo: false\n",
    "// PRINT CLASS\n",
    "String script=\"/home/jovyan/work/src/github/ebpro/sample-jaxrs/src/main/java/fr/univtln/bruno/samples/jaxrs/resources/AuthorResource.java\";\n",
    "IJava.getKernelInstance().getMagics().applyCellMagic(\"javasrcMethodByName\",List.of(\"AuthorResource\",\"getFilteredAuthors\"),script);\n",
    "return null;"
   ]
  },
  {
   "cell_type": "code",
   "execution_count": 18,
   "id": "f7e82445-db00-4691-8120-552ce63602e2",
   "metadata": {
    "vscode": {
     "languageId": "java"
    }
   },
   "outputs": [
    {
     "name": "stderr",
     "output_type": "stream",
     "text": [
      "* Host localhost:9998 was resolved.\n"
     ]
    },
    {
     "name": "stderr",
     "output_type": "stream",
     "text": [
      "* IPv6: ::1\n"
     ]
    },
    {
     "name": "stderr",
     "output_type": "stream",
     "text": [
      "* IPv4: 127.0.0.1\n"
     ]
    },
    {
     "name": "stderr",
     "output_type": "stream",
     "text": [
      "*   Trying [::1]:9998...\n"
     ]
    },
    {
     "name": "stderr",
     "output_type": "stream",
     "text": [
      "* Connected to localhost (::1) port 9998\n"
     ]
    },
    {
     "name": "stderr",
     "output_type": "stream",
     "text": [
      "> GET /mylibrary/authors/filter?name=Durand&firstname=Marie HTTP/1.1\n"
     ]
    },
    {
     "name": "stderr",
     "output_type": "stream",
     "text": [
      "> Host: localhost:9998\n"
     ]
    },
    {
     "name": "stderr",
     "output_type": "stream",
     "text": [
      "> User-Agent: curl/8.5.0\n"
     ]
    },
    {
     "name": "stderr",
     "output_type": "stream",
     "text": [
      "> Accept: application/json\n"
     ]
    },
    {
     "name": "stderr",
     "output_type": "stream",
     "text": [
      "> \n"
     ]
    },
    {
     "name": "stderr",
     "output_type": "stream",
     "text": [
      "< HTTP/1.1 200 OK\n"
     ]
    },
    {
     "name": "stderr",
     "output_type": "stream",
     "text": [
      "< JAXRS_Sample-Total-Count: 1\n"
     ]
    },
    {
     "name": "stderr",
     "output_type": "stream",
     "text": [
      "< JAXRS_Sample-Page-Count: 1\n"
     ]
    },
    {
     "name": "stderr",
     "output_type": "stream",
     "text": [
      "< Content-Type: application/json\n"
     ]
    },
    {
     "name": "stderr",
     "output_type": "stream",
     "text": [
      "< Content-Length: 62\n"
     ]
    },
    {
     "name": "stderr",
     "output_type": "stream",
     "text": [
      "< \n"
     ]
    },
    {
     "name": "stderr",
     "output_type": "stream",
     "text": [
      "{ [62 bytes data]\n"
     ]
    },
    {
     "name": "stderr",
     "output_type": "stream",
     "text": [
      "* Connection #0 to host localhost left intact\n"
     ]
    },
    {
     "name": "stdout",
     "output_type": "stream",
     "text": [
      "[\n"
     ]
    },
    {
     "name": "stdout",
     "output_type": "stream",
     "text": [
      "  {\n"
     ]
    },
    {
     "name": "stdout",
     "output_type": "stream",
     "text": [
      "    \"id\": 2,\n"
     ]
    },
    {
     "name": "stdout",
     "output_type": "stream",
     "text": [
      "    \"name\": \"Durand\",\n"
     ]
    },
    {
     "name": "stdout",
     "output_type": "stream",
     "text": [
      "    \"firstname\": \"Marie\",\n"
     ]
    },
    {
     "name": "stdout",
     "output_type": "stream",
     "text": [
      "    \"books\": [\n"
     ]
    },
    {
     "name": "stdout",
     "output_type": "stream",
     "text": [
      "      2,\n"
     ]
    },
    {
     "name": "stdout",
     "output_type": "stream",
     "text": [
      "      3,\n"
     ]
    },
    {
     "name": "stdout",
     "output_type": "stream",
     "text": [
      "      4\n"
     ]
    },
    {
     "name": "stdout",
     "output_type": "stream",
     "text": [
      "    ]\n"
     ]
    },
    {
     "name": "stdout",
     "output_type": "stream",
     "text": [
      "  }\n"
     ]
    },
    {
     "name": "stdout",
     "output_type": "stream",
     "text": [
      "]\n"
     ]
    }
   ],
   "source": [
    "%%shell\n",
    "curl -s -v -H \"Accept: application/json\"  \\\n",
    " \"http://localhost:9998/mylibrary/authors/filter?name=Durand&firstname=Marie\"|jq"
   ]
  },
  {
   "cell_type": "code",
   "execution_count": 19,
   "id": "8aaf5065-2696-46cd-a282-6cea1beef565",
   "metadata": {
    "vscode": {
     "languageId": "java"
    }
   },
   "outputs": [
    {
     "name": "stderr",
     "output_type": "stream",
     "text": [
      "* Host localhost:9998 was resolved.\n"
     ]
    },
    {
     "name": "stderr",
     "output_type": "stream",
     "text": [
      "* IPv6: ::1\n"
     ]
    },
    {
     "name": "stderr",
     "output_type": "stream",
     "text": [
      "* IPv4: 127.0.0.1\n"
     ]
    },
    {
     "name": "stderr",
     "output_type": "stream",
     "text": [
      "*   Trying [::1]:9998...\n"
     ]
    },
    {
     "name": "stderr",
     "output_type": "stream",
     "text": [
      "* Connected to localhost (::1) port 9998\n"
     ]
    },
    {
     "name": "stderr",
     "output_type": "stream",
     "text": [
      "> GET /mylibrary/authors/filter HTTP/1.1\n"
     ]
    },
    {
     "name": "stderr",
     "output_type": "stream",
     "text": [
      "> Host: localhost:9998\n"
     ]
    },
    {
     "name": "stderr",
     "output_type": "stream",
     "text": [
      "> User-Agent: curl/8.5.0\n"
     ]
    },
    {
     "name": "stderr",
     "output_type": "stream",
     "text": [
      "> Accept: application/json\n"
     ]
    },
    {
     "name": "stderr",
     "output_type": "stream",
     "text": [
      "> sortKey: firstname\n"
     ]
    },
    {
     "name": "stderr",
     "output_type": "stream",
     "text": [
      "> \n"
     ]
    },
    {
     "name": "stdout",
     "output_type": "stream",
     "text": [
      "[\n"
     ]
    },
    {
     "name": "stdout",
     "output_type": "stream",
     "text": [
      "  {\n"
     ]
    },
    {
     "name": "stdout",
     "output_type": "stream",
     "text": [
      "    \"id\": 1,\n"
     ]
    },
    {
     "name": "stderr",
     "output_type": "stream",
     "text": [
      "< HTTP/1.1 200 OK\n"
     ]
    },
    {
     "name": "stderr",
     "output_type": "stream",
     "text": [
      "< JAXRS_Sample-Total-Count: 2\n"
     ]
    },
    {
     "name": "stderr",
     "output_type": "stream",
     "text": [
      "< JAXRS_Sample-Page-Count: 1\n"
     ]
    },
    {
     "name": "stderr",
     "output_type": "stream",
     "text": [
      "< Content-Type: application/json\n"
     ]
    },
    {
     "name": "stderr",
     "output_type": "stream",
     "text": [
      "< Content-Length: 122\n"
     ]
    },
    {
     "name": "stderr",
     "output_type": "stream",
     "text": [
      "< \n"
     ]
    },
    {
     "name": "stderr",
     "output_type": "stream",
     "text": [
      "{ [122 bytes data]\n"
     ]
    },
    {
     "name": "stderr",
     "output_type": "stream",
     "text": [
      "* Connection #0 to host localhost left intact\n"
     ]
    },
    {
     "name": "stdout",
     "output_type": "stream",
     "text": [
      "    \"name\": \"Martin\",\n"
     ]
    },
    {
     "name": "stdout",
     "output_type": "stream",
     "text": [
      "    \"firstname\": \"Alfred\",\n"
     ]
    },
    {
     "name": "stdout",
     "output_type": "stream",
     "text": [
      "    \"books\": [\n"
     ]
    },
    {
     "name": "stdout",
     "output_type": "stream",
     "text": [
      "      1,\n"
     ]
    },
    {
     "name": "stdout",
     "output_type": "stream",
     "text": [
      "      2\n"
     ]
    },
    {
     "name": "stdout",
     "output_type": "stream",
     "text": [
      "    ]\n"
     ]
    },
    {
     "name": "stdout",
     "output_type": "stream",
     "text": [
      "  },\n"
     ]
    },
    {
     "name": "stdout",
     "output_type": "stream",
     "text": [
      "  {\n"
     ]
    },
    {
     "name": "stdout",
     "output_type": "stream",
     "text": [
      "    \"id\": 2,\n"
     ]
    },
    {
     "name": "stdout",
     "output_type": "stream",
     "text": [
      "    \"name\": \"Durand\",\n"
     ]
    },
    {
     "name": "stdout",
     "output_type": "stream",
     "text": [
      "    \"firstname\": \"Marie\",\n"
     ]
    },
    {
     "name": "stdout",
     "output_type": "stream",
     "text": [
      "    \"books\": [\n"
     ]
    },
    {
     "name": "stdout",
     "output_type": "stream",
     "text": [
      "      2,\n"
     ]
    },
    {
     "name": "stdout",
     "output_type": "stream",
     "text": [
      "      3,\n"
     ]
    },
    {
     "name": "stdout",
     "output_type": "stream",
     "text": [
      "      4\n"
     ]
    },
    {
     "name": "stdout",
     "output_type": "stream",
     "text": [
      "    ]\n"
     ]
    },
    {
     "name": "stdout",
     "output_type": "stream",
     "text": [
      "  }\n"
     ]
    },
    {
     "name": "stdout",
     "output_type": "stream",
     "text": [
      "]\n"
     ]
    }
   ],
   "source": [
    "%%shell\n",
    "curl -s -v -H \"Accept: application/json\"  \\\n",
    "-H \"sortKey: firstname\" \\\n",
    "  \"http://localhost:9998/mylibrary/authors/filter\"|jq"
   ]
  },
  {
   "cell_type": "markdown",
   "id": "86068146-4e00-45d5-9b25-ee2e1060065b",
   "metadata": {},
   "source": [
    "Pour simplifier le traitement des paramètres JAX-RX propose l'annotation `@BeanParam` qui permet de créer un instance d'une classe à partir des paramètres extraits. Pour cela, les propriétés de la classe peuvent être annotées pour indiquer les paramêtres correspondants.\n",
    "\n",
    "L'exemple suivant montre comment l'utiliser pour mettre en place la pagination qui est essentielle quand le volume des données peut être important. Là aussi le chemin spécifique (\"page\") n'est là que pour l'exemple. "
   ]
  },
  {
   "cell_type": "code",
   "execution_count": 20,
   "id": "c76a79ad-f9a6-4f9a-b8af-26d9fa742879",
   "metadata": {
    "vscode": {
     "languageId": "java"
    }
   },
   "outputs": [
    {
     "data": {
      "text/markdown": [
       "```Java\n",
       "@FieldDefaults(level = AccessLevel.PRIVATE)\n",
       "@Getter\n",
       "@ToString\n",
       "@Builder\n",
       "@NoArgsConstructor\n",
       "@AllArgsConstructor\n",
       "public class PaginationInfo {\n",
       "    @SuppressWarnings(\"FieldMayBeFinal\")\n",
       "    @QueryParam(\"page\")\n",
       "    @Builder.Default\n",
       "    long page = 1;\n",
       "\n",
       "    @SuppressWarnings(\"FieldMayBeFinal\")\n",
       "    @QueryParam(\"pageSize\")\n",
       "    @Builder.Default\n",
       "    long pageSize = 10;\n",
       "\n",
       "    @HeaderParam(\"sortKey\")\n",
       "    @DefaultValue(\"name\")\n",
       "    String sortKey;\n",
       "\n",
       "    @QueryParam(\"name\")\n",
       "    String name;\n",
       "\n",
       "    @QueryParam(\"firstname\")\n",
       "    String firstname;\n",
       "\n",
       "    @QueryParam(\"biography\")\n",
       "    String biography;\n",
       "}\n",
       "```"
      ],
      "text/plain": [
       "```Java\n",
       "@FieldDefaults(level = AccessLevel.PRIVATE)\n",
       "@Getter\n",
       "@ToString\n",
       "@Builder\n",
       "@NoArgsConstructor\n",
       "@AllArgsConstructor\n",
       "public class PaginationInfo {\n",
       "    @SuppressWarnings(\"FieldMayBeFinal\")\n",
       "    @QueryParam(\"page\")\n",
       "    @Builder.Default\n",
       "    long page = 1;\n",
       "\n",
       "    @SuppressWarnings(\"FieldMayBeFinal\")\n",
       "    @QueryParam(\"pageSize\")\n",
       "    @Builder.Default\n",
       "    long pageSize = 10;\n",
       "\n",
       "    @HeaderParam(\"sortKey\")\n",
       "    @DefaultValue(\"name\")\n",
       "    String sortKey;\n",
       "\n",
       "    @QueryParam(\"name\")\n",
       "    String name;\n",
       "\n",
       "    @QueryParam(\"firstname\")\n",
       "    String firstname;\n",
       "\n",
       "    @QueryParam(\"biography\")\n",
       "    String biography;\n",
       "}\n",
       "```"
      ]
     },
     "metadata": {},
     "output_type": "display_data"
    }
   ],
   "source": [
    "//| output: true\n",
    "//| echo: false\n",
    "// PRINT CLASS\n",
    "String script=\"/home/jovyan/work/src/github/ebpro/sample-jaxrs/src/main/java/fr/univtln/bruno/samples/jaxrs/resources/PaginationInfo.java\";\n",
    "IJava.getKernelInstance().getMagics().applyCellMagic(\"javasrcClassByName\",List.of(\"PaginationInfo\"),script);\n",
    "return null;"
   ]
  },
  {
   "cell_type": "code",
   "execution_count": 21,
   "id": "e32454f0-e2a5-45e2-b5d7-b3af961fbad2",
   "metadata": {
    "vscode": {
     "languageId": "java"
    }
   },
   "outputs": [
    {
     "data": {
      "text/markdown": [
       "```Java\n",
       "/**\n",
       " * Gets a page of authors after applying a sort.\n",
       " *\n",
       " * @param paginationInfo the pagination info represented as a class injected with @BeanParam.\n",
       " * @return the page of authors.\n",
       " */\n",
       "@GET\n",
       "@Path(\"page\")\n",
       "public Page<Library.Author> getAuthorsPage(@BeanParam PaginationInfo paginationInfo) {\n",
       "    return Library.demoLibrary.getAuthorsWithFilter(paginationInfo);\n",
       "}\n",
       "```"
      ],
      "text/plain": [
       "```Java\n",
       "/**\n",
       " * Gets a page of authors after applying a sort.\n",
       " *\n",
       " * @param paginationInfo the pagination info represented as a class injected with @BeanParam.\n",
       " * @return the page of authors.\n",
       " */\n",
       "@GET\n",
       "@Path(\"page\")\n",
       "public Page<Library.Author> getAuthorsPage(@BeanParam PaginationInfo paginationInfo) {\n",
       "    return Library.demoLibrary.getAuthorsWithFilter(paginationInfo);\n",
       "}\n",
       "```"
      ]
     },
     "metadata": {},
     "output_type": "display_data"
    }
   ],
   "source": [
    "//| output: true\n",
    "//| echo: false\n",
    "// PRINT CLASS\n",
    "String script=\"/home/jovyan/work/src/github/ebpro/sample-jaxrs/src/main/java/fr/univtln/bruno/samples/jaxrs/resources/AuthorResource.java\";\n",
    "IJava.getKernelInstance().getMagics().applyCellMagic(\"javasrcMethodByName\",List.of(\"AuthorResource\",\"getAuthorsPage\"),script);\n",
    "return null;"
   ]
  },
  {
   "cell_type": "markdown",
   "id": "c54771cc-14ef-4521-bd4c-f575d11f9b0d",
   "metadata": {},
   "source": [
    "L'appel suivant de l'API génère alétoirement 100 auteurs."
   ]
  },
  {
   "cell_type": "code",
   "execution_count": 22,
   "id": "e55cf523-43f0-47e7-b8c2-8688e3d3a0bd",
   "metadata": {
    "vscode": {
     "languageId": "java"
    }
   },
   "outputs": [
    {
     "name": "stdout",
     "output_type": "stream",
     "text": [
      "HTTP/1.1 200 OK\n"
     ]
    },
    {
     "name": "stdout",
     "output_type": "stream",
     "text": [
      "Content-Type: application/json\n"
     ]
    },
    {
     "name": "stdout",
     "output_type": "stream",
     "text": [
      "Content-Length: 3\n"
     ]
    },
    {
     "name": "stdout",
     "output_type": "stream",
     "text": [
      "\n"
     ]
    },
    {
     "name": "stdout",
     "output_type": "stream",
     "text": [
      "100\n"
     ]
    }
   ],
   "source": [
    "%%shell\n",
    "curl -s -i -X PUT \"http://localhost:9998/mylibrary/library/init/100\""
   ]
  },
  {
   "cell_type": "markdown",
   "id": "9672b2a6-3441-4a56-b9c7-d72b9f460570",
   "metadata": {},
   "source": [
    "On peut alors demander la page 3 (de taille 4)."
   ]
  },
  {
   "cell_type": "code",
   "execution_count": 23,
   "id": "05956ef9-2be5-40e3-a6c5-42426f64bc42",
   "metadata": {
    "vscode": {
     "languageId": "java"
    }
   },
   "outputs": [
    {
     "name": "stderr",
     "output_type": "stream",
     "text": [
      "* Host localhost:9998 was resolved.\n"
     ]
    },
    {
     "name": "stderr",
     "output_type": "stream",
     "text": [
      "* IPv6: ::1\n"
     ]
    },
    {
     "name": "stderr",
     "output_type": "stream",
     "text": [
      "* IPv4: 127.0.0.1\n"
     ]
    },
    {
     "name": "stderr",
     "output_type": "stream",
     "text": [
      "*   Trying [::1]:9998...\n"
     ]
    },
    {
     "name": "stderr",
     "output_type": "stream",
     "text": [
      "* Connected to localhost (::1) port 9998\n"
     ]
    },
    {
     "name": "stderr",
     "output_type": "stream",
     "text": [
      "> GET /mylibrary/authors/page?pageSize=4&page=3 HTTP/1.1\n"
     ]
    },
    {
     "name": "stderr",
     "output_type": "stream",
     "text": [
      "> Host: localhost:9998\n"
     ]
    },
    {
     "name": "stderr",
     "output_type": "stream",
     "text": [
      "> User-Agent: curl/8.5.0\n"
     ]
    },
    {
     "name": "stderr",
     "output_type": "stream",
     "text": [
      "> Accept: application/json\n"
     ]
    },
    {
     "name": "stderr",
     "output_type": "stream",
     "text": [
      "> sortKey: firstname\n"
     ]
    },
    {
     "name": "stderr",
     "output_type": "stream",
     "text": [
      "> \n"
     ]
    },
    {
     "name": "stderr",
     "output_type": "stream",
     "text": [
      "< HTTP/1.1 200 OK\n"
     ]
    },
    {
     "name": "stderr",
     "output_type": "stream",
     "text": [
      "< Link: <http://localhost:9998/mylibrary/authors/page?pageSize=4&page=2>; rel=\"previous\",<http://localhost:9998/mylibrary/authors/page?pageSize=4&page=1>; rel=\"first\",<http://localhost:9998/mylibrary/authors/page?pageSize=4&page=4>; rel=\"next\",<http://localhost:9998/mylibrary/authors/page?pageSize=4&page=25>; rel=\"last\"\n"
     ]
    },
    {
     "name": "stderr",
     "output_type": "stream",
     "text": [
      "< JAXRS_Sample-Total-Count: 100\n"
     ]
    },
    {
     "name": "stderr",
     "output_type": "stream",
     "text": [
      "< JAXRS_Sample-Page-Count: 25\n"
     ]
    },
    {
     "name": "stderr",
     "output_type": "stream",
     "text": [
      "< Content-Type: application/json\n"
     ]
    },
    {
     "name": "stderr",
     "output_type": "stream",
     "text": [
      "< Content-Length: 182\n"
     ]
    },
    {
     "name": "stderr",
     "output_type": "stream",
     "text": [
      "< \n"
     ]
    },
    {
     "name": "stdout",
     "output_type": "stream",
     "text": [
      "[\n"
     ]
    },
    {
     "name": "stdout",
     "output_type": "stream",
     "text": [
      "  {\n"
     ]
    },
    {
     "name": "stdout",
     "output_type": "stream",
     "text": [
      "    \"id\": 11,\n"
     ]
    },
    {
     "name": "stdout",
     "output_type": "stream",
     "text": [
      "    \"name\": \"gbxex\",\n"
     ]
    },
    {
     "name": "stdout",
     "output_type": "stream",
     "text": [
      "    \"firstname\": \"bsswq\"\n"
     ]
    },
    {
     "name": "stderr",
     "output_type": "stream",
     "text": [
      "{ [182 bytes data]\n"
     ]
    },
    {
     "name": "stdout",
     "output_type": "stream",
     "text": [
      "  },\n"
     ]
    },
    {
     "name": "stderr",
     "output_type": "stream",
     "text": [
      "* Connection #0 to host localhost left intact\n"
     ]
    },
    {
     "name": "stdout",
     "output_type": "stream",
     "text": [
      "  {\n"
     ]
    },
    {
     "name": "stdout",
     "output_type": "stream",
     "text": [
      "    \"id\": 13,\n"
     ]
    },
    {
     "name": "stdout",
     "output_type": "stream",
     "text": [
      "    \"name\": \"sjzfpnc\",\n"
     ]
    },
    {
     "name": "stdout",
     "output_type": "stream",
     "text": [
      "    \"firstname\": \"chbfsd\"\n"
     ]
    },
    {
     "name": "stdout",
     "output_type": "stream",
     "text": [
      "  },\n"
     ]
    },
    {
     "name": "stdout",
     "output_type": "stream",
     "text": [
      "  {\n"
     ]
    },
    {
     "name": "stdout",
     "output_type": "stream",
     "text": [
      "    \"id\": 66,\n"
     ]
    },
    {
     "name": "stdout",
     "output_type": "stream",
     "text": [
      "    \"name\": \"dug\",\n"
     ]
    },
    {
     "name": "stdout",
     "output_type": "stream",
     "text": [
      "    \"firstname\": \"cmgez\"\n"
     ]
    },
    {
     "name": "stdout",
     "output_type": "stream",
     "text": [
      "  },\n"
     ]
    },
    {
     "name": "stdout",
     "output_type": "stream",
     "text": [
      "  {\n"
     ]
    },
    {
     "name": "stdout",
     "output_type": "stream",
     "text": [
      "    \"id\": 8,\n"
     ]
    },
    {
     "name": "stdout",
     "output_type": "stream",
     "text": [
      "    \"name\": \"gruqosy\",\n"
     ]
    },
    {
     "name": "stdout",
     "output_type": "stream",
     "text": [
      "    \"firstname\": \"cqrt\"\n"
     ]
    },
    {
     "name": "stdout",
     "output_type": "stream",
     "text": [
      "  }\n"
     ]
    },
    {
     "name": "stdout",
     "output_type": "stream",
     "text": [
      "]\n"
     ]
    }
   ],
   "source": [
    "%%shell\n",
    "curl -s -v -H \"Accept: application/json\"  \\\n",
    "-H \"sortKey: firstname\" \\\n",
    "  \"http://localhost:9998/mylibrary/authors/page?pageSize=4&page=3\"|jq"
   ]
  },
  {
   "cell_type": "markdown",
   "id": "4cec1280-bd70-4ad2-add2-26e26521d918",
   "metadata": {},
   "source": [
    "L'appel suivant de l'API remet uniquement deux auteurs dans la base de données."
   ]
  },
  {
   "cell_type": "code",
   "execution_count": 24,
   "id": "2c96d7d7-d162-45f8-9fc5-4aae5c489fa7",
   "metadata": {
    "vscode": {
     "languageId": "java"
    }
   },
   "outputs": [
    {
     "name": "stdout",
     "output_type": "stream",
     "text": [
      "HTTP/1.1 200 OK\n"
     ]
    },
    {
     "name": "stdout",
     "output_type": "stream",
     "text": [
      "Content-Type: application/json\n"
     ]
    },
    {
     "name": "stdout",
     "output_type": "stream",
     "text": [
      "Content-Length: 1\n"
     ]
    },
    {
     "name": "stdout",
     "output_type": "stream",
     "text": [
      "\n"
     ]
    },
    {
     "name": "stdout",
     "output_type": "stream",
     "text": [
      "2\n"
     ]
    }
   ],
   "source": [
    "%%shell\n",
    "curl -s -i -X PUT \"http://localhost:9998/mylibrary/library/init\""
   ]
  },
  {
   "cell_type": "code",
   "execution_count": 25,
   "id": "833bd430-6c85-443b-bbd1-6dbc5ea650b6",
   "metadata": {
    "vscode": {
     "languageId": "java"
    }
   },
   "outputs": [],
   "source": [
    "httpServer.stop();"
   ]
  },
  {
   "cell_type": "code",
   "execution_count": 26,
   "id": "b1802df2-e8a4-4db1-a113-7f578f58922c",
   "metadata": {},
   "outputs": [],
   "source": []
  }
 ],
 "metadata": {
  "kernelspec": {
   "display_name": "java-lts [env:base] *",
   "language": "java",
   "name": "conda-base-java-lts"
  },
  "language_info": {
   "codemirror_mode": "java",
   "file_extension": ".jshell",
   "mimetype": "text/x-java-source",
   "name": "Java",
   "pygments_lexer": "java",
   "version": "21.0.4+7-LTS"
  }
 },
 "nbformat": 4,
 "nbformat_minor": 5
}
