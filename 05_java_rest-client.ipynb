{
 "cells": [
  {
   "cell_type": "markdown",
   "id": "654e9622-c3e1-4667-bd68-1741aeb298e2",
   "metadata": {},
   "source": [
    "---\n",
    "  title: \"RestFull 05: API Client\"\n",
    "  description: \"REST Clients with Jakarta RESTful Web Services.\"\n",
    "  categories: \n",
    "    - Java\n",
    "    - Lecture\n",
    "    - RestFull\n",
    "  provide_notes: true\n",
    "  provide_slides: false\n",
    "  jupyter: java-lts\n",
    "  echo: true\n",
    "  output: true\n",
    "---"
   ]
  },
  {
   "cell_type": "markdown",
   "id": "216b6a91-cd38-47c8-9b1f-e2469842b12a",
   "metadata": {},
   "source": [
    "{{< embed ./quarto-utils/_version.qmd >}}"
   ]
  },
  {
   "cell_type": "markdown",
   "id": "c1583f9b-03c8-47fc-a6e9-7e930e72045a",
   "metadata": {},
   "source": [
    "La classe `fr.univtln.bruno.samples.jaxrs.client.BiblioClient` présente un client qui utilise l'API fluent cliente pour construire des requêtes REST en Java."
   ]
  },
  {
   "cell_type": "code",
   "execution_count": 1,
   "id": "5370026b",
   "metadata": {
    "vscode": {
     "languageId": "java"
    }
   },
   "outputs": [
    {
     "name": "stdout",
     "output_type": "stream",
     "text": [
      "$ git fetch\n"
     ]
    },
    {
     "name": "stdout",
     "output_type": "stream",
     "text": [
      "\n"
     ]
    },
    {
     "name": "stdout",
     "output_type": "stream",
     "text": [
      "$ git reset --mixed\n"
     ]
    },
    {
     "name": "stdout",
     "output_type": "stream",
     "text": [
      "\n"
     ]
    },
    {
     "name": "stdout",
     "output_type": "stream",
     "text": [
      "$ git -c user.email=nbgitpuller@nbgitpuller.link -c user.name=nbgitpuller merge -Xours origin/develop\n"
     ]
    },
    {
     "name": "stdout",
     "output_type": "stream",
     "text": [
      "\n"
     ]
    },
    {
     "name": "stdout",
     "output_type": "stream",
     "text": [
      "Already up to date.\n"
     ]
    },
    {
     "name": "stdout",
     "output_type": "stream",
     "text": [
      "\n"
     ]
    },
    {
     "data": {
      "text/plain": [
       "0"
      ]
     },
     "execution_count": 1,
     "metadata": {},
     "output_type": "execute_result"
    }
   ],
   "source": [
    "//| output: false\n",
    "//| echo: false\n",
    "\n",
    "%printWithName false\n",
    "    \n",
    "// UPDATE SAMPLE SOURCE CODE\n",
    "\n",
    "String script=\"\"\"\n",
    "GITHUB_REPO=ebpro/sample-jaxrs\n",
    "GITHUB_URL=https://github.com/${GITHUB_REPO}\n",
    "BRANCH=develop\n",
    "SRC_DIR=/home/jovyan/work/src/github/${GITHUB_REPO}\n",
    "gitpuller ${GITHUB_URL} ${BRANCH} ${SRC_DIR}\n",
    "cd ${SRC_DIR}\n",
    "mvn --quiet clean package\n",
    "\"\"\";\n",
    "IJava.getKernelInstance().getMagics().applyCellMagic(\"shell\",List.of(\"\"),script);  "
   ]
  },
  {
   "cell_type": "code",
   "execution_count": 2,
   "id": "fe56ccab",
   "metadata": {
    "vscode": {
     "languageId": "java"
    }
   },
   "outputs": [
    {
     "data": {
      "text/plain": [
       "org.glassfish.grizzly.http.server.HttpServer@650cefb6"
      ]
     },
     "execution_count": 2,
     "metadata": {},
     "output_type": "execute_result"
    }
   ],
   "source": [
    "//| output: false\n",
    "//| echo: false\n",
    "%jars \"/home/jovyan/work/src/github/ebpro/sample-jaxrs/target/sample-jaxrs-*-withdependencies.jar\"; \n",
    "import org.glassfish.grizzly.http.server.HttpServer;\n",
    "import fr.univtln.bruno.samples.jaxrs.server.BiblioServer;\n",
    "HttpServer httpServer = BiblioServer.startServer();\n",
    "httpServer.toString();"
   ]
  },
  {
   "cell_type": "code",
   "execution_count": 3,
   "id": "e2b2255f-3864-4f7e-97d2-fa8c5860577c",
   "metadata": {
    "vscode": {
     "languageId": "java"
    }
   },
   "outputs": [
    {
     "data": {
      "text/markdown": [
       "```Java\n",
       "@Log\n",
       "public class BiblioClient {\n",
       "    public static void main(String[] args) {\n",
       "       try (\n",
       "        // create the rest client\n",
       "        Client client = ClientBuilder.newClient()) {\n",
       "           WebTarget webResource = client.target(\"http://localhost:9998/mylibrary\");\n",
       "\n",
       "           //Send a put with a String as response\n",
       "           String responseInitAsString = webResource.path(\"library/init\")\n",
       "                   .request().put(Entity.entity(\"\", MediaType.TEXT_PLAIN), String.class);\n",
       "           log.info(responseInitAsString);\n",
       "\n",
       "           //Send a get and parse the response as a String\n",
       "           String responseAuteursAsJsonString = webResource.path(\"authors\")\n",
       "                   .request().get(String.class);\n",
       "           log.info(responseAuteursAsJsonString);\n",
       "\n",
       "           //Idem but the result is deserialised to an instance of Auteur\n",
       "           Library.Author author = webResource.path(\"authors/1\")\n",
       "                   .request()\n",
       "                   .get(Library.Author.class);\n",
       "           log.info(author.toString());\n",
       "\n",
       "           //Log in to get the token with basci authentication\n",
       "           String email = \"john.doe@nowhere.com\";\n",
       "           String passwd = \"admin\";\n",
       "           String token = webResource.path(\"setup/login\")\n",
       "                   .request()\n",
       "                   .accept(MediaType.TEXT_PLAIN)\n",
       "                   .header(\"Authorization\", \"Basic \" + java.util.Base64.getEncoder().encodeToString((email + \":\" + passwd).getBytes()))\n",
       "                   .get(String.class);\n",
       "           if (!token.isBlank()) {\n",
       "               log.info(\"token received.\");\n",
       "               //We access a JWT protected URL with the token\n",
       "               String result = webResource.path(\"setup/secured\")\n",
       "                       .request()\n",
       "                       .header(\"Authorization\", \"Bearer \" + token)\n",
       "                       .get(String.class);\n",
       "\n",
       "               log.info(result);\n",
       "           }\n",
       "       }\n",
       "\n",
       "    }\n",
       "}\n",
       "```"
      ],
      "text/plain": [
       "```Java\n",
       "@Log\n",
       "public class BiblioClient {\n",
       "    public static void main(String[] args) {\n",
       "       try (\n",
       "        // create the rest client\n",
       "        Client client = ClientBuilder.newClient()) {\n",
       "           WebTarget webResource = client.target(\"http://localhost:9998/mylibrary\");\n",
       "\n",
       "           //Send a put with a String as response\n",
       "           String responseInitAsString = webResource.path(\"library/init\")\n",
       "                   .request().put(Entity.entity(\"\", MediaType.TEXT_PLAIN), String.class);\n",
       "           log.info(responseInitAsString);\n",
       "\n",
       "           //Send a get and parse the response as a String\n",
       "           String responseAuteursAsJsonString = webResource.path(\"authors\")\n",
       "                   .request().get(String.class);\n",
       "           log.info(responseAuteursAsJsonString);\n",
       "\n",
       "           //Idem but the result is deserialised to an instance of Auteur\n",
       "           Library.Author author = webResource.path(\"authors/1\")\n",
       "                   .request()\n",
       "                   .get(Library.Author.class);\n",
       "           log.info(author.toString());\n",
       "\n",
       "           //Log in to get the token with basci authentication\n",
       "           String email = \"john.doe@nowhere.com\";\n",
       "           String passwd = \"admin\";\n",
       "           String token = webResource.path(\"setup/login\")\n",
       "                   .request()\n",
       "                   .accept(MediaType.TEXT_PLAIN)\n",
       "                   .header(\"Authorization\", \"Basic \" + java.util.Base64.getEncoder().encodeToString((email + \":\" + passwd).getBytes()))\n",
       "                   .get(String.class);\n",
       "           if (!token.isBlank()) {\n",
       "               log.info(\"token received.\");\n",
       "               //We access a JWT protected URL with the token\n",
       "               String result = webResource.path(\"setup/secured\")\n",
       "                       .request()\n",
       "                       .header(\"Authorization\", \"Bearer \" + token)\n",
       "                       .get(String.class);\n",
       "\n",
       "               log.info(result);\n",
       "           }\n",
       "       }\n",
       "\n",
       "    }\n",
       "}\n",
       "```"
      ]
     },
     "metadata": {},
     "output_type": "display_data"
    }
   ],
   "source": [
    "//| output: true\n",
    "//| echo: false\n",
    "// PRINT CLASS\n",
    "String script=\"/home/jovyan/work/src/github/ebpro/sample-jaxrs/src/main/java/fr/univtln/bruno/samples/jaxrs/client/BiblioClient.java\";\n",
    "IJava.getKernelInstance().getMagics().applyCellMagic(\"javasrcClassByName\",List.of(\"BiblioClient\"),script);\n",
    "return null;"
   ]
  },
  {
   "cell_type": "code",
   "execution_count": 4,
   "id": "25d3ab7e-cf51-4e31-96c6-bcda28d95adf",
   "metadata": {
    "vscode": {
     "languageId": "java"
    }
   },
   "outputs": [
    {
     "name": "stderr",
     "output_type": "stream",
     "text": [
      "Oct 03, 2024 1:07:39 PM fr.univtln.bruno.samples.jaxrs.client.BiblioClient main\n"
     ]
    },
    {
     "name": "stderr",
     "output_type": "stream",
     "text": [
      "INFO: 2\n"
     ]
    },
    {
     "name": "stderr",
     "output_type": "stream",
     "text": [
      "Oct 03, 2024 1:07:39 PM fr.univtln.bruno.samples.jaxrs.client.BiblioClient main\n"
     ]
    },
    {
     "name": "stderr",
     "output_type": "stream",
     "text": [
      "INFO: [{\"id\":1,\"name\":\"Martin\",\"firstname\":\"Alfred\",\"books\":[1,2]},{\"id\":2,\"name\":\"Durand\",\"firstname\":\"Marie\",\"books\":[2,3,4]}]\n"
     ]
    },
    {
     "name": "stderr",
     "output_type": "stream",
     "text": [
      "Oct 03, 2024 1:07:39 PM fr.univtln.bruno.samples.jaxrs.client.BiblioClient main\n"
     ]
    },
    {
     "name": "stderr",
     "output_type": "stream",
     "text": [
      "INFO: Library.Author(id=1, name=Martin, firstname=Alfred, biography=null)\n"
     ]
    },
    {
     "name": "stderr",
     "output_type": "stream",
     "text": [
      "Oct 03, 2024 1:07:39 PM fr.univtln.bruno.samples.jaxrs.client.BiblioClient main\n"
     ]
    },
    {
     "name": "stderr",
     "output_type": "stream",
     "text": [
      "INFO: token received.\n"
     ]
    },
    {
     "name": "stderr",
     "output_type": "stream",
     "text": [
      "Oct 03, 2024 1:07:39 PM fr.univtln.bruno.samples.jaxrs.client.BiblioClient main\n"
     ]
    },
    {
     "name": "stderr",
     "output_type": "stream",
     "text": [
      "INFO: Access with JWT ok for Doe, John <john.doe@nowhere.com>\n"
     ]
    }
   ],
   "source": [
    "%%shell \n",
    "cd /home/jovyan/work/src/github/ebpro/sample-jaxrs\n",
    "mvn  -quiet -Dmain.class=\"fr.univtln.bruno.samples.jaxrs.client.BiblioClient\" exec:java"
   ]
  },
  {
   "cell_type": "code",
   "execution_count": 5,
   "id": "955b7562",
   "metadata": {
    "vscode": {
     "languageId": "java"
    }
   },
   "outputs": [],
   "source": [
    "//| output: false\n",
    "//| echo: false\n",
    "httpServer.stop();"
   ]
  }
 ],
 "metadata": {
  "kernelspec": {
   "display_name": "java-lts",
   "language": "java",
   "name": "java-lts",
   "path": "/opt/conda/share/jupyter/kernels/java-lts"
  },
  "language_info": {
   "codemirror_mode": "java",
   "file_extension": ".jshell",
   "mimetype": "text/x-java-source",
   "name": "Java",
   "pygments_lexer": "java",
   "version": "21.0.4+7-LTS"
  }
 },
 "nbformat": 4,
 "nbformat_minor": 5
}
