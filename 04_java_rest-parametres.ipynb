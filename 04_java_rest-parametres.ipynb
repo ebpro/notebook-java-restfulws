{
 "cells": [
  {
   "cell_type": "markdown",
   "id": "94005d2f-4b80-4198-a940-8266d05d2842",
   "metadata": {},
   "source": [
    "---\n",
    "  title: \"RestFull 04: Passage de paramètres\"\n",
    "  description: \"parameters with Jakarta RESTful Web Services.\"\n",
    "  categories: \n",
    "    - Java\n",
    "    - Lecture\n",
    "    - RestFull\n",
    "  provide_notes: true\n",
    "  provide_slides: false\n",
    "  jupyter: java-lts\n",
    "  echo: true\n",
    "  output: true  \n",
    "---"
   ]
  },
  {
   "cell_type": "markdown",
   "id": "95e810c9-e1af-4916-80c7-76f9056281c0",
   "metadata": {},
   "source": [
    "{{< embed ./quarto-utils/_version.qmd >}}"
   ]
  },
  {
   "cell_type": "markdown",
   "id": "4c0ee04b-6694-41aa-91e5-e7cb5fedbaf0",
   "metadata": {},
   "source": [
    "## Les paramètres complexes dans les corps de requêtes \n",
    "\n",
    "Les conversions sont aussi automatiques dans l'autre sens quand des données (XML, JSON, ...) sont envoyées dans le corps d'une requête HTTP (par exemple PUT ou POT) pour être utilisée simplement comme un parametre Java de la méthode. Les méthodes qui nécessitent des paramètres sont annotées avec `@Consumes(type[, type, …])` pour indiquer les types mime supportés. \n",
    "\n",
    "L'annotation `@Consummes` de la méthode `addAuthor()` ci-dessous indique ce qui est possible et l'entete http `Content-Type` de la requête ce qui est envoyé. Noter que l'Id n'est pas indiqué dans la requête mais que l'entité complète est retournée. "
   ]
  },
  {
   "cell_type": "code",
   "execution_count": 1,
   "id": "40a49413-1971-458d-9258-bbcc6a8bce80",
   "metadata": {
    "vscode": {
     "languageId": "java"
    }
   },
   "outputs": [
    {
     "name": "stdout",
     "output_type": "stream",
     "text": [
      "$ git fetch\n"
     ]
    },
    {
     "name": "stdout",
     "output_type": "stream",
     "text": [
      "\n"
     ]
    },
    {
     "name": "stdout",
     "output_type": "stream",
     "text": [
      "$ git reset --mixed\n"
     ]
    },
    {
     "name": "stdout",
     "output_type": "stream",
     "text": [
      "\n"
     ]
    },
    {
     "name": "stdout",
     "output_type": "stream",
     "text": [
      "$ git -c user.email=nbgitpuller@nbgitpuller.link -c user.name=nbgitpuller merge -Xours origin/develop\n"
     ]
    },
    {
     "name": "stdout",
     "output_type": "stream",
     "text": [
      "\n"
     ]
    },
    {
     "name": "stdout",
     "output_type": "stream",
     "text": [
      "Already up to date.\n"
     ]
    },
    {
     "name": "stdout",
     "output_type": "stream",
     "text": [
      "\n"
     ]
    },
    {
     "data": {
      "text/plain": [
       "0"
      ]
     },
     "execution_count": 1,
     "metadata": {},
     "output_type": "execute_result"
    }
   ],
   "source": [
    "//| output: false\n",
    "//| echo: false\n",
    "\n",
    "%printWithName false\n",
    "    \n",
    "// UPDATE SAMPLE SOURCE CODE\n",
    "\n",
    "String script=\"\"\"\n",
    "GITHUB_REPO=ebpro/sample-jaxrs\n",
    "GITHUB_URL=https://github.com/${GITHUB_REPO}\n",
    "BRANCH=develop\n",
    "SRC_DIR=/home/jovyan/work/src/github/${GITHUB_REPO}\n",
    "gitpuller ${GITHUB_URL} ${BRANCH} ${SRC_DIR}\n",
    "cd ${SRC_DIR}\n",
    "mvn --quiet clean package\n",
    "\"\"\";\n",
    "IJava.getKernelInstance().getMagics().applyCellMagic(\"shell\",List.of(\"\"),script);  "
   ]
  },
  {
   "cell_type": "code",
   "execution_count": 2,
   "id": "c0b54ce8-8375-46eb-a87f-635b3bc49f12",
   "metadata": {
    "vscode": {
     "languageId": "java"
    }
   },
   "outputs": [
    {
     "data": {
      "text/plain": [
       "org.glassfish.grizzly.http.server.HttpServer@3751eff4"
      ]
     },
     "execution_count": 2,
     "metadata": {},
     "output_type": "execute_result"
    }
   ],
   "source": [
    "//| output: false\n",
    "//| echo: false\n",
    "%jars \"/home/jovyan/work/src/github/ebpro/sample-jaxrs/target/sample-jaxrs-*-withdependencies.jar\"; \n",
    "import org.glassfish.grizzly.http.server.HttpServer;\n",
    "import fr.univtln.bruno.samples.jaxrs.server.BiblioServer;\n",
    "HttpServer httpServer = BiblioServer.startServer();\n",
    "httpServer.toString();"
   ]
  },
  {
   "cell_type": "code",
   "execution_count": 3,
   "id": "1a008dc1-704a-4210-9b1c-926ed0aaf1da",
   "metadata": {
    "vscode": {
     "languageId": "java"
    }
   },
   "outputs": [
    {
     "data": {
      "text/markdown": [
       "```Java\n",
       "/**\n",
       " * Adds an new author to the data.\n",
       " * Status annotation is a trick to fine tune 2XX status codes (see the status package).\n",
       " *\n",
       " * @param author The author to be added without its id.\n",
       " * @return The added author with its id.\n",
       " * @throws IllegalArgumentException if the author has an explicit id (id!=0).\n",
       " */\n",
       "@POST\n",
       "@Status(Status.CREATED)\n",
       "@Consumes(MediaType.APPLICATION_JSON)\n",
       "public Library.Author addAuthor(Library.Author author) throws BusinessException {\n",
       "    return Library.demoLibrary.addAuthor(author);\n",
       "}\n",
       "```"
      ],
      "text/plain": [
       "```Java\n",
       "/**\n",
       " * Adds an new author to the data.\n",
       " * Status annotation is a trick to fine tune 2XX status codes (see the status package).\n",
       " *\n",
       " * @param author The author to be added without its id.\n",
       " * @return The added author with its id.\n",
       " * @throws IllegalArgumentException if the author has an explicit id (id!=0).\n",
       " */\n",
       "@POST\n",
       "@Status(Status.CREATED)\n",
       "@Consumes(MediaType.APPLICATION_JSON)\n",
       "public Library.Author addAuthor(Library.Author author) throws BusinessException {\n",
       "    return Library.demoLibrary.addAuthor(author);\n",
       "}\n",
       "```"
      ]
     },
     "metadata": {},
     "output_type": "display_data"
    }
   ],
   "source": [
    "//| output: true\n",
    "//| echo: false\n",
    "// PRINT CLASS\n",
    "String script=\"/home/jovyan/work/src/github/ebpro/sample-jaxrs/src/main/java/fr/univtln/bruno/samples/jaxrs/resources/AuthorResource.java\";\n",
    "IJava.getKernelInstance().getMagics().applyCellMagic(\"javasrcMethodByName\",List.of(\"AuthorResource\",\"addAuthor\"),script);\n",
    "return null;"
   ]
  },
  {
   "cell_type": "markdown",
   "id": "166aa09b-eedb-4054-ae0f-1a0534a83fab",
   "metadata": {},
   "source": [
    "Adds an author :"
   ]
  },
  {
   "cell_type": "code",
   "execution_count": 4,
   "id": "dc30d5f3-7e44-43c8-b9e3-0b1157e2bcfd",
   "metadata": {
    "vscode": {
     "languageId": "java"
    }
   },
   "outputs": [
    {
     "name": "stdout",
     "output_type": "stream",
     "text": [
      "HTTP/1.1 201 Created\n"
     ]
    },
    {
     "name": "stdout",
     "output_type": "stream",
     "text": [
      "Content-Type: application/json\n"
     ]
    },
    {
     "name": "stdout",
     "output_type": "stream",
     "text": [
      "Content-Length: 64\n"
     ]
    },
    {
     "name": "stdout",
     "output_type": "stream",
     "text": [
      "\n"
     ]
    },
    {
     "name": "stdout",
     "output_type": "stream",
     "text": [
      "{\"id\":1,\"name\":\"John\",\"firstname\":\"Smith\",\"biography\":\"My life\"}\n"
     ]
    }
   ],
   "source": [
    "%%shell\n",
    "curl -s -i -H \"Accept: application/json\"  \\\n",
    "  -H \"Content-type: application/json\"  \\\n",
    "  -X POST \\\n",
    "  -d '{\"name\":\"John\",\"firstname\":\"Smith\",\"biography\":\"My life\"}' \\\n",
    "   http://localhost:9998/mylibrary/authors"
   ]
  },
  {
   "cell_type": "markdown",
   "id": "7fb835de-ef79-4cce-a93d-5986e0fc1c92",
   "metadata": {},
   "source": [
    "La méthode `updateAuteur` est appelée par un PUT mais avec une resource précise (indiquée dans l'URL) à mettre à jour."
   ]
  },
  {
   "cell_type": "code",
   "execution_count": 5,
   "id": "e4813a13-731b-4566-a880-d4bdd8448614",
   "metadata": {
    "vscode": {
     "languageId": "java"
    }
   },
   "outputs": [
    {
     "data": {
      "text/markdown": [
       "```Java\n",
       "/**\n",
       " * Update an author with an given id.\n",
       " *\n",
       " * @param id     the id injected from the path param \"id\"\n",
       " * @param author a injected author made from the JSON data (@Consumes) from body of the request. This author is forbidden to havce an Id.\n",
       " * @return The resulting author with its id.\n",
       " * @throws NotFoundException        is returned if no author has the \"id\".\n",
       " * @throws IllegalArgumentException is returned if an \"id\" is also given in the request body.\n",
       " */\n",
       "@PUT\n",
       "@Path(\"{id}\")\n",
       "@Consumes(MediaType.APPLICATION_JSON)\n",
       "public Library.Author updateAuthor(@PathParam(\"id\") long id, Library.Author author) throws BusinessException {\n",
       "    return Library.demoLibrary.updateAuteur(id, author);\n",
       "}\n",
       "```"
      ],
      "text/plain": [
       "```Java\n",
       "/**\n",
       " * Update an author with an given id.\n",
       " *\n",
       " * @param id     the id injected from the path param \"id\"\n",
       " * @param author a injected author made from the JSON data (@Consumes) from body of the request. This author is forbidden to havce an Id.\n",
       " * @return The resulting author with its id.\n",
       " * @throws NotFoundException        is returned if no author has the \"id\".\n",
       " * @throws IllegalArgumentException is returned if an \"id\" is also given in the request body.\n",
       " */\n",
       "@PUT\n",
       "@Path(\"{id}\")\n",
       "@Consumes(MediaType.APPLICATION_JSON)\n",
       "public Library.Author updateAuthor(@PathParam(\"id\") long id, Library.Author author) throws BusinessException {\n",
       "    return Library.demoLibrary.updateAuteur(id, author);\n",
       "}\n",
       "```"
      ]
     },
     "metadata": {},
     "output_type": "display_data"
    }
   ],
   "source": [
    "//| output: true\n",
    "//| echo: false\n",
    "// PRINT CLASS\n",
    "String script=\"/home/jovyan/work/src/github/ebpro/sample-jaxrs/src/main/java/fr/univtln/bruno/samples/jaxrs/resources/AuthorResource.java\";\n",
    "IJava.getKernelInstance().getMagics().applyCellMagic(\"javasrcMethodByName\",List.of(\"AuthorResource\",\"updateAuthor\"),script);\n",
    "return null;"
   ]
  },
  {
   "cell_type": "markdown",
   "id": "b641971d-aaad-4f9e-b07c-cca9f3c41b2f",
   "metadata": {},
   "source": [
    "Fully update an author"
   ]
  },
  {
   "cell_type": "code",
   "execution_count": 6,
   "id": "9ed20b56-a2f1-4967-9568-2228d3b90695",
   "metadata": {
    "vscode": {
     "languageId": "java"
    }
   },
   "outputs": [
    {
     "name": "stdout",
     "output_type": "stream",
     "text": [
      "HTTP/1.1 200 OK\n"
     ]
    },
    {
     "name": "stdout",
     "output_type": "stream",
     "text": [
      "Content-Type: application/json\n"
     ]
    },
    {
     "name": "stdout",
     "output_type": "stream",
     "text": [
      "Content-Length: 64\n"
     ]
    },
    {
     "name": "stdout",
     "output_type": "stream",
     "text": [
      "\n"
     ]
    },
    {
     "name": "stdout",
     "output_type": "stream",
     "text": [
      "{\"id\":1,\"name\":\"Martin\",\"firstname\":\"Jean\",\"biography\":\"ma vie\"}\n"
     ]
    }
   ],
   "source": [
    "%%shell\n",
    "curl -s -i -H \"Accept: application/json\"  \\\n",
    "  -H \"Content-type: application/json\"  \\\n",
    "  -X PUT \\\n",
    "  -d '{\"name\":\"Martin\",\"firstname\":\"Jean\",\"biography\":\"ma vie\"}' \\\n",
    "  http://localhost:9998/mylibrary/authors/1"
   ]
  },
  {
   "cell_type": "markdown",
   "id": "116e472e-df16-4e08-80b6-57d5bea1449a",
   "metadata": {
    "slideshow": {
     "slide_type": "slide"
    },
    "tags": []
   },
   "source": [
    "### La suppression\n",
    "La suppression des ressources se fait avec les approches précédentes."
   ]
  },
  {
   "cell_type": "code",
   "execution_count": 7,
   "id": "9b6e463c-114b-42fc-a5b8-73d0e8f9a316",
   "metadata": {
    "vscode": {
     "languageId": "java"
    }
   },
   "outputs": [
    {
     "data": {
      "text/markdown": [
       "```Java\n",
       "/**\n",
       " * Removes an author by id from the data.\n",
       " *\n",
       " * @param id the id of the author to remove\n",
       " * @throws NotFoundException is returned if no author has the \"id\".\n",
       " */\n",
       "@DELETE\n",
       "@Path(\"{id}\")\n",
       "public void removeAuthor(@PathParam(\"id\") final long id) throws BusinessException {\n",
       "    Library.demoLibrary.removeAuthor(id);\n",
       "}\n",
       "```"
      ],
      "text/plain": [
       "```Java\n",
       "/**\n",
       " * Removes an author by id from the data.\n",
       " *\n",
       " * @param id the id of the author to remove\n",
       " * @throws NotFoundException is returned if no author has the \"id\".\n",
       " */\n",
       "@DELETE\n",
       "@Path(\"{id}\")\n",
       "public void removeAuthor(@PathParam(\"id\") final long id) throws BusinessException {\n",
       "    Library.demoLibrary.removeAuthor(id);\n",
       "}\n",
       "```"
      ]
     },
     "metadata": {},
     "output_type": "display_data"
    }
   ],
   "source": [
    "//| output: true\n",
    "//| echo: false\n",
    "// PRINT CLASS\n",
    "String script=\"/home/jovyan/work/src/github/ebpro/sample-jaxrs/src/main/java/fr/univtln/bruno/samples/jaxrs/resources/AuthorResource.java\";\n",
    "IJava.getKernelInstance().getMagics().applyCellMagic(\"javasrcMethodByName\",List.of(\"AuthorResource\",\"removeAuthor\"),script);\n",
    "return null;\n"
   ]
  },
  {
   "cell_type": "markdown",
   "id": "426da7e4-1971-4f09-956e-379c9884c7a4",
   "metadata": {},
   "source": [
    "Removes one author :"
   ]
  },
  {
   "cell_type": "code",
   "execution_count": 8,
   "id": "76b80f34-d137-432a-9a1f-7251af59dc72",
   "metadata": {
    "slideshow": {
     "slide_type": "skip"
    },
    "tags": [],
    "vscode": {
     "languageId": "java"
    }
   },
   "outputs": [
    {
     "name": "stdout",
     "output_type": "stream",
     "text": [
      "HTTP/1.1 204 No Content\n"
     ]
    },
    {
     "name": "stdout",
     "output_type": "stream",
     "text": [
      "\n"
     ]
    }
   ],
   "source": [
    "%%shell\n",
    "curl -s -i -X DELETE \\\n",
    "    http://localhost:9998/mylibrary/authors/1"
   ]
  },
  {
   "cell_type": "code",
   "execution_count": 9,
   "id": "5fda2a5d-069b-42fa-aa49-1a4f4c7a95da",
   "metadata": {
    "vscode": {
     "languageId": "java"
    }
   },
   "outputs": [
    {
     "data": {
      "text/markdown": [
       "```Java\n",
       "/**\n",
       " * Removes every authors\n",
       " */\n",
       "@DELETE\n",
       "public void removeAuthors() {\n",
       "    Library.demoLibrary.removesAuthors();\n",
       "}\n",
       "```"
      ],
      "text/plain": [
       "```Java\n",
       "/**\n",
       " * Removes every authors\n",
       " */\n",
       "@DELETE\n",
       "public void removeAuthors() {\n",
       "    Library.demoLibrary.removesAuthors();\n",
       "}\n",
       "```"
      ]
     },
     "metadata": {},
     "output_type": "display_data"
    }
   ],
   "source": [
    "//| output: true\n",
    "//| echo: false\n",
    "// PRINT CLASS\n",
    "String script=\"/home/jovyan/work/src/github/ebpro/sample-jaxrs/src/main/java/fr/univtln/bruno/samples/jaxrs/resources/AuthorResource.java\";\n",
    "IJava.getKernelInstance().getMagics().applyCellMagic(\"javasrcMethodByName\",List.of(\"AuthorResource\",\"removeAuthors\"),script);\n",
    "return null;\n"
   ]
  },
  {
   "cell_type": "markdown",
   "id": "4a4e3489-7e1d-47dd-8918-17c7fd44eb4a",
   "metadata": {},
   "source": [
    "Removes all authors"
   ]
  },
  {
   "cell_type": "code",
   "execution_count": 10,
   "id": "b2aa5140-b4fe-44d4-beeb-eee20bb269a4",
   "metadata": {
    "vscode": {
     "languageId": "java"
    }
   },
   "outputs": [
    {
     "name": "stdout",
     "output_type": "stream",
     "text": [
      "HTTP/1.1 204 No Content\n"
     ]
    },
    {
     "name": "stdout",
     "output_type": "stream",
     "text": [
      "\n"
     ]
    }
   ],
   "source": [
    "%%shell\n",
    "curl -s -i -X DELETE \\\n",
    "    http://localhost:9998/mylibrary/authors/"
   ]
  },
  {
   "cell_type": "code",
   "execution_count": 11,
   "id": "631895b0-28c2-495d-9044-9e87042f2c44",
   "metadata": {
    "vscode": {
     "languageId": "java"
    }
   },
   "outputs": [],
   "source": [
    "//| output: false\n",
    "//| echo: false\n",
    "httpServer.stop();"
   ]
  }
 ],
 "metadata": {
  "kernelspec": {
   "display_name": "java-lts",
   "language": "java",
   "name": "java-lts",
   "path": "/opt/conda/share/jupyter/kernels/java-lts"
  },
  "language_info": {
   "codemirror_mode": "java",
   "file_extension": ".jshell",
   "mimetype": "text/x-java-source",
   "name": "Java",
   "pygments_lexer": "java",
   "version": "21.0.4+7-LTS"
  }
 },
 "nbformat": 4,
 "nbformat_minor": 5
}
