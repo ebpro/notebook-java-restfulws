{
 "cells": [
  {
   "cell_type": "markdown",
   "id": "e15e1265-3be4-4c2a-baec-c5d04df2cdf0",
   "metadata": {},
   "source": [
    "---\n",
    "  title: \"RestFull 03: Représentation des données\"\n",
    "  description: \"Introduction to RestFull Web Services in Java with Jakarta RESTful Web Services.\"\n",
    "  categories: \n",
    "    - Java\n",
    "    - Lecture\n",
    "    - RestFull\n",
    "  provide_notes: true\n",
    "  provide_slides: false\n",
    "  jupyter: java-lts    \n",
    "  echo: true\n",
    "  output: true    \n",
    "---"
   ]
  },
  {
   "cell_type": "markdown",
   "id": "be210662-9640-4660-a344-222e617749d3",
   "metadata": {},
   "source": [
    "{{< embed ./quarto-utils/_version.qmd >}}"
   ]
  },
  {
   "cell_type": "markdown",
   "id": "c7c7f538-7ad5-48e5-8515-52f494908f47",
   "metadata": {},
   "source": [
    "Les resources sont habituellement échangées en utilisant des langage de description standards comme [XML](https://www.w3.org/TR/xml11/) ou [JSON](https://www.ecma-international.org/publications-and-standards/standards/ecma-404/) (pour être précis JSON n'est pas vraiment un \"standard\" du web). Il est donc très courant de convertir des données vers et depuis Java. Pour cela, des API standards existent.\n",
    "\n",
    "## JAXB\n",
    "Nous allons voir maintenant une introduction rapide au mapping XML<->Java. La définition des formats de données XML se fait par annotation des entités en utilisant le standard [JAXB](https://jakarta.ee/specifications/xml-binding/3.0/jakarta-xml-binding-spec-3.0.html) (Java Architecture for XML Binding) : `@XmlElement`, `@XmlType`, `@XmlAttribute`, `@XmlTransient`, `@XmlValue`, ...\n",
    "\n",
    "Depuis Java 9, il est nécessaire d'ajouter les dépendances suivantes pour traiter des données XML avec JAXB : "
   ]
  },
  {
   "cell_type": "code",
   "execution_count": 1,
   "id": "9b300f3e-2374-4656-bf9a-568017e12c24",
   "metadata": {
    "vscode": {
     "languageId": "java"
    }
   },
   "outputs": [
    {
     "name": "stderr",
     "output_type": "stream",
     "text": [
      "SLF4J(I): Connected with provider of type [ch.qos.logback.classic.spi.LogbackServiceProvider]\n"
     ]
    }
   ],
   "source": [
    "%%loadFromPOM\n",
    "<dependency>\n",
    "  <groupId>jakarta.xml.bind</groupId> \n",
    "  <artifactId>jakarta.xml.bind-api</artifactId>\n",
    "  <version>3.0.0</version>\n",
    "</dependency>\n",
    "<dependency>\n",
    "  <groupId>org.glassfish.jaxb</groupId>\n",
    "  <artifactId>jaxb-runtime</artifactId>\n",
    "  <version>3.0.0</version>\n",
    "</dependency>"
   ]
  },
  {
   "cell_type": "markdown",
   "id": "510a0fc9-597c-4ca1-a4c9-2d2c47c60dc8",
   "metadata": {},
   "source": [
    "La classe `Task` ci-dessous est un exemple simple. marquée comme étant représentée comme un élément XML (`@XmlRootElement`). On précise que les annotations sont faites sur les champs avec `@XmlAccessorType` (utile avec Lombok).\n",
    "\n",
    "Par défaut, les propriétés sont représentées comme des éléments XML. Il est possible de préciser que l'on veut un attribut (`@XmlAttribute`) sur `id`, de contrôler leur nom (paramètre `name`) et de définir ceux qui ne doivent pas apparaitre (`@XMLTransient`). Il est aussi possible de contrôler l'ordre d'apparition des éléments (`propOrder` de `@XmlType`).\n",
    "\n",
    "Attention, un constructeur sans paramètre (au maximum `protected`) est obligatoire (pour permettre la reconstruction). Sinon `@XmlType.factoryMethod()` et `@XmlType.factoryClass()` permettent d'utiliser une factory s'il s'agit d'une méthode statique sans paramètre.\n",
    "\n",
    "Dans le cas d'une collection `@XmlElementWrapper` permet d'ajouter un élément parent au contenu et `@XmlElements` contrôle le type des éléments en fonction du type réel Java. Pour des primitifs `@XmlList` permet de générer des listes avec un espace comme séparateur.\n",
    "\n",
    "`@XmlType` est similaire à `@XmlRootElement` si la classe ne doit apparitre que comme un sous-élément. \n",
    "\n",
    "`@XmlValue` ne peut être utilisée que sur une seule propriété dont la valeur sera alors le contenu de l'élément (sans élément parent). "
   ]
  },
  {
   "cell_type": "code",
   "execution_count": 2,
   "id": "3e2f1c7a-35be-4e24-b600-3201bef701f3",
   "metadata": {
    "vscode": {
     "languageId": "java"
    }
   },
   "outputs": [],
   "source": [
    "//| output: false\n",
    "//| echo: false\n",
    "import jakarta.xml.bind.annotation.*;\n",
    "import java.util.List;\n",
    "import java.util.ArrayList;"
   ]
  },
  {
   "cell_type": "code",
   "execution_count": 3,
   "id": "39272dd7",
   "metadata": {
    "vscode": {
     "languageId": "java"
    }
   },
   "outputs": [],
   "source": [
    "@XmlRootElement(name=\"task\", namespace=\"http://bruno.univ-tln.fr/sample-jaxb/task\")\n",
    "@XmlType(propOrder = { \"id\", \"state\", \"title\", \"description\", \"tags\"})\n",
    "@XmlAccessorType(XmlAccessType.FIELD)\n",
    "public class Task {\n",
    "   @XmlAttribute(name=\"id\")\n",
    "   private long id=-1;\n",
    "\n",
    "   private String title;\n",
    "\n",
    "   @XmlElement(name=\"status\")\n",
    "   private State state=State.OPENED;\n",
    "   \n",
    "   @XmlTransient\n",
    "   private int age = -1;\n",
    "        \n",
    "   @XmlElementWrapper(name=\"tags\")\n",
    "   @XmlElements({@XmlElement(name=\"tag\",type=String.class)})\n",
    "   private List<String> tags; \n",
    "    \n",
    "   private Description description = new Description(); \n",
    "    \n",
    "   protected Task() {} \n",
    "   public Task(long id, String title, State state, List<String> tags) {\n",
    "       this.id=id; this.title=title; this.state=state; this.tags = tags;\n",
    "       }  \n",
    "    \n",
    "   public String toString() {return \"Task {id=\"+id+\",title='\"+title+\"',status='\"+state+\", tags='\"+tags+\"', description='\"+description+\"'}\";}\n",
    "    \n",
    " @XmlEnum(Integer.class)   \n",
    " //Par défaut vers String (donc @XmlEnumValue inutile)\n",
    " //@XmlEnum(String.class)   \n",
    " public enum State {\n",
    "    @XmlEnumValue(\"1\") OPENED, \n",
    "    @XmlEnumValue(\"0\") CLOSED\n",
    " }\n",
    " \n",
    " @XmlAccessorType(XmlAccessType.FIELD)    \n",
    " public static class Description {\n",
    "     @XmlValue \n",
    "     private String content = \"...\";\n",
    "     public String toString() {return content;}\n",
    " }\n",
    "    \n",
    "}"
   ]
  },
  {
   "cell_type": "markdown",
   "id": "7a1dcc39-098f-4aeb-93bf-51531cb2dc55",
   "metadata": {},
   "source": [
    "JAXB offre la classe [JAXBContext](https://jakarta.ee/specifications/xml-binding/3.0/jakarta-xml-binding-spec-3.0.html#jaxbcontext) pour transformer une classe Java en XML (Marshalling)."
   ]
  },
  {
   "cell_type": "code",
   "execution_count": 4,
   "id": "961d8889-88cf-412b-9623-7e444aae60f9",
   "metadata": {
    "vscode": {
     "languageId": "java"
    }
   },
   "outputs": [],
   "source": [
    "//| output: false\n",
    "//| echo: false\n",
    "import jakarta.xml.bind.JAXBContext;\n",
    "import jakarta.xml.bind.Marshaller;"
   ]
  },
  {
   "cell_type": "code",
   "execution_count": 5,
   "id": "f3cb2075",
   "metadata": {
    "vscode": {
     "languageId": "java"
    }
   },
   "outputs": [],
   "source": [
    "Task task = new Task(1L, \"First task\", Task.State.OPENED, Arrays.asList(\"important\",\"outside\"));\n",
    "\n",
    "//Création du contexte JAXB sur la classe Task\n",
    "JAXBContext jaxbContext = JAXBContext.newInstance(Task.class);\n",
    "\n",
    "//Création de la classe qui converti vers XML\n",
    "Marshaller marshaller = jaxbContext.createMarshaller();\n",
    "//Définition des paramètres de la conversion (optionnel)\n",
    "marshaller.setProperty(Marshaller.JAXB_FORMATTED_OUTPUT, true);\n",
    "//Exécution de la conversion\n",
    "StringWriter sw = new StringWriter();\n",
    "marshaller.marshal(task, sw);\n",
    "String result=sw.toString();"
   ]
  },
  {
   "cell_type": "code",
   "execution_count": 6,
   "id": "27dfc255",
   "metadata": {
    "vscode": {
     "languageId": "java"
    }
   },
   "outputs": [
    {
     "data": {
      "text/markdown": [
       "```xml\n",
       "<?xml version=\"1.0\" encoding=\"UTF-8\" standalone=\"yes\"?>\n",
       "<ns2:task id=\"1\" xmlns:ns2=\"http://bruno.univ-tln.fr/sample-jaxb/task\">\n",
       "    <status>1</status>\n",
       "    <title>First task</title>\n",
       "    <description>...</description>\n",
       "    <tags>\n",
       "        <tag>important</tag>\n",
       "        <tag>outside</tag>\n",
       "    </tags>\n",
       "</ns2:task>\n",
       "\n",
       "```"
      ],
      "text/plain": [
       "```xml\n",
       "<?xml version=\"1.0\" encoding=\"UTF-8\" standalone=\"yes\"?>\n",
       "<ns2:task id=\"1\" xmlns:ns2=\"http://bruno.univ-tln.fr/sample-jaxb/task\">\n",
       "    <status>1</status>\n",
       "    <title>First task</title>\n",
       "    <description>...</description>\n",
       "    <tags>\n",
       "        <tag>important</tag>\n",
       "        <tag>outside</tag>\n",
       "    </tags>\n",
       "</ns2:task>\n",
       "\n",
       "```"
      ]
     },
     "execution_count": 6,
     "metadata": {},
     "output_type": "execute_result"
    }
   ],
   "source": [
    "//| output: true\n",
    "//| echo: false\n",
    "\n",
    "render(\"```xml\\n\"+result+\"\\n```\", \"text/markdown\");"
   ]
  },
  {
   "cell_type": "markdown",
   "id": "59fd04e6-d30c-44a0-956b-4c150fc6c345",
   "metadata": {},
   "source": [
    "Le contexte JABX permet aussi simplement de réaliser l'opération inverse (UnMarshalling) à partir d'un document XML contenu dans une String, un fichier, d'un flux, ..."
   ]
  },
  {
   "cell_type": "code",
   "execution_count": 7,
   "id": "aee6e03d-456b-404c-ab72-943dc6df3504",
   "metadata": {
    "vscode": {
     "languageId": "java"
    }
   },
   "outputs": [
    {
     "data": {
      "text/plain": [
       "Task {id=2,title='Another task',status='CLOSED, tags='[spare-time, fun]', description='Une tache inutile'}"
      ]
     },
     "execution_count": 7,
     "metadata": {},
     "output_type": "execute_result"
    }
   ],
   "source": [
    "String xmlString=\"\"\"\n",
    "<?xml version=\"1.0\" encoding=\"UTF-8\" standalone=\"yes\"?>\n",
    "<ns2:task xmlns:ns2=\"http://bruno.univ-tln.fr/sample-jaxb/task\" id=\"2\">\n",
    "    <status>0</status>\n",
    "    <title>Another task</title>\n",
    "    <description>Une tache inutile</description>\n",
    "    <tags>\n",
    "        <tag>spare-time</tag>\n",
    "        <tag>fun</tag>\n",
    "    </tags>\n",
    "</ns2:task>\"\"\";\n",
    "//Conversion d'n document XML \n",
    "jaxbContext.createUnmarshaller()\n",
    "       .unmarshal(new StringReader(xmlString));"
   ]
  },
  {
   "cell_type": "markdown",
   "id": "1cea1ae8-a0b8-4ef4-9c0a-7e9ee19cdb1c",
   "metadata": {},
   "source": [
    "Dans le cas de JAX-RS, c'est le framework qui prend en charge la transformation des données retournées et reçues à condition d'ajouter la dépendance suivante en plus de celles de JAXB :\n",
    "\n",
    "```xml\n",
    "<dependency>\n",
    " <groupId>org.glassfish.jersey.media</groupId>\n",
    " <artifactId>jersey-media-jaxb</artifactId>\n",
    "</dependency>\n",
    "```\n",
    "\n",
    "JAXB Permet aussi de générer automatique le Schema XML à partir des classes Java. Il suffit d'écrire une sous-classe de `SchemaOutputResolver` pour indiquer où les résultat doit être produit. Ci dessous deux exemples pour obtenir une String et des fichiers. "
   ]
  },
  {
   "cell_type": "code",
   "execution_count": 8,
   "id": "2cb38071-b3ba-4ca5-baf8-2071797533c8",
   "metadata": {
    "vscode": {
     "languageId": "java"
    }
   },
   "outputs": [],
   "source": [
    "//| output: false\n",
    "//| echo: false\n",
    "import jakarta.xml.bind.SchemaOutputResolver;\n",
    "import javax.xml.transform.Result;\n",
    "import javax.xml.transform.stream.StreamResult;"
   ]
  },
  {
   "cell_type": "code",
   "execution_count": 9,
   "id": "44ef6866",
   "metadata": {
    "vscode": {
     "languageId": "java"
    }
   },
   "outputs": [],
   "source": [
    "public class StringSchemaOutputResolver extends SchemaOutputResolver {\n",
    "    private StringWriter stringWriter = new StringWriter();    \n",
    "\n",
    "    public Result createOutput(String namespaceURI, String suggestedFileName) throws IOException  {\n",
    "        StreamResult result = new StreamResult(stringWriter);\n",
    "        result.setSystemId(suggestedFileName);\n",
    "        return result;\n",
    "    }\n",
    "\n",
    "    public String getSchema() {\n",
    "        return stringWriter.toString();\n",
    "    }\n",
    "\n",
    "}\n",
    "\n",
    "\n",
    "public class FileSchemaOutputResolver extends SchemaOutputResolver {        \n",
    "    @Override\n",
    "    public Result createOutput(String nameSpaceURI, String suggestedName) throws IOException {\n",
    "        System.out.println(nameSpaceURI+\" \"+suggestedName);\n",
    "        StreamResult streamResult = new StreamResult(suggestedName);\n",
    "        return streamResult;\n",
    "    }\n",
    "}\n",
    "\n",
    "StringSchemaOutputResolver stringSchemaOutputResolver = new StringSchemaOutputResolver();\n",
    "jaxbContext.generateSchema(stringSchemaOutputResolver);\n",
    "String result = stringSchemaOutputResolver.getSchema();\n"
   ]
  },
  {
   "cell_type": "code",
   "execution_count": 10,
   "id": "548b6ae8",
   "metadata": {
    "vscode": {
     "languageId": "java"
    }
   },
   "outputs": [
    {
     "data": {
      "text/markdown": [
       "```xml\n",
       "<?xml version=\"1.0\" standalone=\"yes\"?>\n",
       "<xs:schema version=\"1.0\" xmlns:xs=\"http://www.w3.org/2001/XMLSchema\">\n",
       "\n",
       "  <xs:complexType name=\"task\">\n",
       "    <xs:sequence>\n",
       "      <xs:element name=\"status\" type=\"state\" minOccurs=\"0\"/>\n",
       "      <xs:element name=\"title\" type=\"xs:string\" minOccurs=\"0\"/>\n",
       "      <xs:element name=\"description\" type=\"description\" minOccurs=\"0\"/>\n",
       "      <xs:element name=\"tags\" minOccurs=\"0\">\n",
       "        <xs:complexType>\n",
       "          <xs:sequence>\n",
       "            <xs:element name=\"tag\" type=\"xs:string\" minOccurs=\"0\" maxOccurs=\"unbounded\"/>\n",
       "          </xs:sequence>\n",
       "        </xs:complexType>\n",
       "      </xs:element>\n",
       "    </xs:sequence>\n",
       "    <xs:attribute name=\"id\" type=\"xs:long\" use=\"required\"/>\n",
       "  </xs:complexType>\n",
       "\n",
       "  <xs:simpleType name=\"description\">\n",
       "    <xs:restriction base=\"xs:string\"/>\n",
       "  </xs:simpleType>\n",
       "\n",
       "  <xs:simpleType name=\"state\">\n",
       "    <xs:restriction base=\"xs:int\">\n",
       "      <xs:enumeration value=\"1\"/>\n",
       "      <xs:enumeration value=\"0\"/>\n",
       "    </xs:restriction>\n",
       "  </xs:simpleType>\n",
       "</xs:schema>\n",
       "\n",
       "<?xml version=\"1.0\" standalone=\"yes\"?>\n",
       "<xs:schema version=\"1.0\" targetNamespace=\"http://bruno.univ-tln.fr/sample-jaxb/task\" xmlns:xs=\"http://www.w3.org/2001/XMLSchema\">\n",
       "\n",
       "  <xs:import schemaLocation=\"schema2.xsd\"/>\n",
       "\n",
       "  <xs:element name=\"task\" type=\"task\"/>\n",
       "\n",
       "</xs:schema>\n",
       "\n",
       "\n",
       "```"
      ],
      "text/plain": [
       "```xml\n",
       "<?xml version=\"1.0\" standalone=\"yes\"?>\n",
       "<xs:schema version=\"1.0\" xmlns:xs=\"http://www.w3.org/2001/XMLSchema\">\n",
       "\n",
       "  <xs:complexType name=\"task\">\n",
       "    <xs:sequence>\n",
       "      <xs:element name=\"status\" type=\"state\" minOccurs=\"0\"/>\n",
       "      <xs:element name=\"title\" type=\"xs:string\" minOccurs=\"0\"/>\n",
       "      <xs:element name=\"description\" type=\"description\" minOccurs=\"0\"/>\n",
       "      <xs:element name=\"tags\" minOccurs=\"0\">\n",
       "        <xs:complexType>\n",
       "          <xs:sequence>\n",
       "            <xs:element name=\"tag\" type=\"xs:string\" minOccurs=\"0\" maxOccurs=\"unbounded\"/>\n",
       "          </xs:sequence>\n",
       "        </xs:complexType>\n",
       "      </xs:element>\n",
       "    </xs:sequence>\n",
       "    <xs:attribute name=\"id\" type=\"xs:long\" use=\"required\"/>\n",
       "  </xs:complexType>\n",
       "\n",
       "  <xs:simpleType name=\"description\">\n",
       "    <xs:restriction base=\"xs:string\"/>\n",
       "  </xs:simpleType>\n",
       "\n",
       "  <xs:simpleType name=\"state\">\n",
       "    <xs:restriction base=\"xs:int\">\n",
       "      <xs:enumeration value=\"1\"/>\n",
       "      <xs:enumeration value=\"0\"/>\n",
       "    </xs:restriction>\n",
       "  </xs:simpleType>\n",
       "</xs:schema>\n",
       "\n",
       "<?xml version=\"1.0\" standalone=\"yes\"?>\n",
       "<xs:schema version=\"1.0\" targetNamespace=\"http://bruno.univ-tln.fr/sample-jaxb/task\" xmlns:xs=\"http://www.w3.org/2001/XMLSchema\">\n",
       "\n",
       "  <xs:import schemaLocation=\"schema2.xsd\"/>\n",
       "\n",
       "  <xs:element name=\"task\" type=\"task\"/>\n",
       "\n",
       "</xs:schema>\n",
       "\n",
       "\n",
       "```"
      ]
     },
     "execution_count": 10,
     "metadata": {},
     "output_type": "execute_result"
    }
   ],
   "source": [
    "//| output: true\n",
    "//| echo: false\n",
    "render(\"```xml\\n\"+result+\"\\n```\", \"text/markdown\");"
   ]
  },
  {
   "cell_type": "markdown",
   "id": "fe4dd1f8-a036-46ac-885c-19d045f5449c",
   "metadata": {},
   "source": [
    "## JSON\n",
    "Le standard officiel pour JSON est maintenant [JSON-B](http://json-b.net/) (Java API for JSON Binding). Cependant, des fonctionnalités importantes sont manquantes comme la gestion des types Polymorphes ou de certaines classes importantes en natif (comme les collections eclipses). Nous utiliserons donc une autre librairie : [Jackson](https://github.com/FasterXML/jackson) (cf. pom.xml). \n",
    "\n",
    "Pour l'utiliser, il suffit d'ajouter les dépendances suivantes :"
   ]
  },
  {
   "cell_type": "code",
   "execution_count": 11,
   "id": "69eecf9e-ca6e-479f-989c-d77350774222",
   "metadata": {
    "vscode": {
     "languageId": "java"
    }
   },
   "outputs": [],
   "source": [
    "%%pom\n",
    "<!-- -->\n",
    "<dependency>\n",
    " <groupId>com.fasterxml.jackson.core</groupId>\n",
    " <artifactId>jackson-databind</artifactId>\n",
    " <version>2.16.1</version>\n",
    "</dependency>\n",
    "\n",
    "<!-- Optionnel ajoute le support de type Java8 hors Date -->\n",
    "<dependency>\n",
    "    <groupId>com.fasterxml.jackson.datatype</groupId>\n",
    "    <artifactId>jackson-datatype-jdk8</artifactId>\n",
    "    <version>2.16.1</version>\n",
    "    <type>pom</type>\n",
    "</dependency>\n",
    "     \n",
    "<!-- Optionnel ajoute le support des Date Java8 -->\n",
    "<dependency>\n",
    "    <groupId>com.fasterxml.jackson.datatype</groupId>\n",
    "    <artifactId>jackson-datatype-jsr310</artifactId>\n",
    "    <version>2.16.1</version>\n",
    "</dependency>"
   ]
  },
  {
   "cell_type": "markdown",
   "id": "79aa7e92-1519-4530-ae3d-cb8b34cbab81",
   "metadata": {},
   "source": [
    "Le contrôle de la sérialisation/désérialisation se fait principalement par annotation des entités. Les méthodes de sérialisation/désérialisations sont alors générées automatiquement. Il est possible de créer manuellement ces méthodes pour un contrôle plus précis. \n",
    "\n",
    "Les principales annotations sont données dans le tableau ci dessous et illustrées dans l'exemple suivant. \n",
    "\n",
    "|annotation|Description|\n",
    "|---|---|\n",
    "|`@JsonProperty` |contrôle le nom d'une propriété.|\n",
    "|`@JsonRootName` |défini les nom d'un élément \"wrapper\", doit être activée dans l'objectMapper.|\n",
    "|`@JsonPropertyOrder` |défini l'ordre des propriétés. |\n",
    "|`@JsonRawValue` |indique qu'une propriété contient du JSON et doit être utilisée sans conversion.|\n",
    "|`@JsonValue` |indique la seule méthode qui retourne le contenu à serialiser.  Nécessite un constructeur avec un paramètre du même type pour la désérialisation.|\n",
    "|`@JsonIgnore` (sur une propriété) |pour ignorer une ou plusieurs propriété.|\n",
    "|`@JsonIgnoreProperties` (sur la classe) |pour ignorer une ou plusieurs propriété. |\n",
    "|`@JsonIgnoreType` (sur la classe) | permet d'ignorer toutes les propriétés d'un type donné.|\n",
    "|`@JsonUnwrapped` | inclut directement les propriétés d'un objet dans la classe qui le référence. |\n",
    "|`@JsonInclude` |permet d'inclure ou d'ignorer les propriétés dont la valeur est nulle, vide ou celle par défaut.|\n",
    "\n",
    "\n",
    "Pour les types polymorphes des annotations spécifiques pour les classes qui permettent d'indiquer comment le type est indiqué (`@JsonTypeInfo`), quels sont les sous-types (`@JsonSubTypes`) et le nom donné à chaque type (`@JsonTypeName`).\n",
    "\n",
    "`@JsonView(XXX.class)` définit des vues différentes qui peuvent être choisir dans l'objectmapper.\n"
   ]
  },
  {
   "cell_type": "code",
   "execution_count": 12,
   "id": "528c172e-4f53-4890-b542-e0762eec4085",
   "metadata": {
    "vscode": {
     "languageId": "java"
    }
   },
   "outputs": [],
   "source": [
    "//| output: false\n",
    "//| echo: false\n",
    "import java.util.List;\n",
    "import java.time.LocalDateTime;\n",
    "import java.util.ArrayList;\n",
    "import com.fasterxml.jackson.annotation.*;  "
   ]
  },
  {
   "cell_type": "code",
   "execution_count": 13,
   "id": "3b592913",
   "metadata": {
    "vscode": {
     "languageId": "java"
    }
   },
   "outputs": [],
   "source": [
    "public class View {\n",
    "    public static class Minimal {}\n",
    "    public static class Complete extends Minimal {}\n",
    "}\n",
    "\n",
    "@JsonTypeInfo(include = JsonTypeInfo.As.WRAPPER_OBJECT, use = JsonTypeInfo.Id.NAME)\n",
    "@JsonTypeName(\"Task\")\n",
    "@JsonPropertyOrder({ \"id\", \"state\", \"title\", \"description\", \"tags\"})\n",
    "@JsonIgnoreProperties({\"age\"})\n",
    "@JsonInclude(JsonInclude.Include.NON_EMPTY)\n",
    "public class Task {\n",
    "   private long id=-1;\n",
    "\n",
    "   private String title;\n",
    "\n",
    "   @JsonProperty(\"status\")\n",
    "   private State state=State.OPENED;\n",
    "   \n",
    "   @JsonIgnore\n",
    "   private int age = -1;\n",
    "        \n",
    "   private List<String> tags; \n",
    " \n",
    "   @JsonView(View.Complete.class)\n",
    "   private Description description = new Description(\"\"); \n",
    "    \n",
    "   protected Task() {} \n",
    "   public Task(long id, String title, State state, List<String> tags) {\n",
    "       this.id=id; this.title=title; this.state=state; this.tags = tags;\n",
    "       }  \n",
    "    \n",
    "   @JsonFormat(\n",
    "      shape = JsonFormat.Shape.STRING,\n",
    "      pattern = \"yyyy-MM-dd@HH:mm:ss\")\n",
    "   public LocalDateTime creationDate =  LocalDateTime.now();\n",
    "    \n",
    "   public String toString() {return \"Task {id=\"+id+\",title='\"+title+\"',status='\"+state+\", tags='\"+tags+\"', description='\"+description+\"'}\";}\n",
    "    \n",
    " public enum State {\n",
    "    OPENED, \n",
    "    CLOSED\n",
    " }\n",
    " \n",
    "//@JsonTypeInfo(include = JsonTypeInfo.As.WRAPPER_OBJECT, use = JsonTypeInfo.Id.NAME)\n",
    "@JsonTypeName(\"Description\")\n",
    "@JsonInclude(JsonInclude.Include.NON_EMPTY)\n",
    "public static class Description {\n",
    "     @JsonValue \n",
    "     private String content;\n",
    "     public String toString() {return content;}\n",
    "     public Description(String content) {\n",
    "         this.content=content;\n",
    "     }\n",
    " }\n",
    "    \n",
    "}"
   ]
  },
  {
   "cell_type": "markdown",
   "id": "b4717fc4-cd67-4fb9-86f2-e89d50fda6f5",
   "metadata": {},
   "source": [
    "La sérialisation/désérialisation est réalisée à l'aide d'une classe appelée ObjectMapper. Dans le cas de JAX-RS cette opération sera réalisée automatiquement par le framework."
   ]
  },
  {
   "cell_type": "code",
   "execution_count": 14,
   "id": "1326853f-37a7-4d30-b328-d0ccee69b4b8",
   "metadata": {
    "vscode": {
     "languageId": "java"
    }
   },
   "outputs": [],
   "source": [
    "//| output: false\n",
    "//| echo: false\n",
    "import com.fasterxml.jackson.databind.ObjectMapper;\n",
    "import com.fasterxml.jackson.annotation.JsonAutoDetect.Visibility;\n",
    "import com.fasterxml.jackson.databind.SerializationFeature;"
   ]
  },
  {
   "cell_type": "code",
   "execution_count": 15,
   "id": "2b7e85f2",
   "metadata": {
    "vscode": {
     "languageId": "java"
    }
   },
   "outputs": [],
   "source": [
    "Task[] tasks = {new Task(1L, \"First task\", Task.State.OPENED, Arrays.asList(\"important\",\"outside\")),\n",
    "            new Task(2L, \"Second task\", Task.State.OPENED, Arrays.asList(\"optionnal\"))};\n",
    "\n",
    "ObjectMapper objectMapper = new ObjectMapper()\n",
    "    \n",
    "    //Only needed because task doesn't have getters.\n",
    "    .setVisibility(PropertyAccessor.FIELD, Visibility.ANY)\n",
    "\n",
    "    //Optionnal : wrap elements (see @JsonRootName)\n",
    "    //.enable(SerializationFeature.WRAP_ROOT_VALUE)\n",
    "\n",
    "    //Optionnal : pretty print the result.\n",
    "    .enable(SerializationFeature.INDENT_OUTPUT)\n",
    "\n",
    "    //Register jackson modules like date \n",
    "    .findAndRegisterModules();\n",
    "\n",
    "    //.writerWithView(View.Minimal.class);\n",
    "    //.writerWithView(View.Complete.class);\n",
    "\n",
    "\n",
    "String taskAsString = \n",
    "    objectMapper\n",
    "      //Choose or view (or none)\n",
    "    //.writerWithView(View.Minimal.class)\n",
    "      //.writerWithView(View.Complete.class)\n",
    "    //writes to a file  \n",
    "      //.writeValue(new File(\"task.json\"), tasks)\n",
    "    //or returns a String\n",
    "      .writeValueAsString(tasks);\n"
   ]
  },
  {
   "cell_type": "code",
   "execution_count": 16,
   "id": "7acb1b79",
   "metadata": {
    "vscode": {
     "languageId": "java"
    }
   },
   "outputs": [
    {
     "data": {
      "text/markdown": [
       "```json\n",
       "[ {\n",
       "  \"Task\" : {\n",
       "    \"id\" : 1,\n",
       "    \"status\" : \"OPENED\",\n",
       "    \"title\" : \"First task\",\n",
       "    \"tags\" : [ \"important\", \"outside\" ],\n",
       "    \"creationDate\" : \"2024-10-03@13:06:56\"\n",
       "  }\n",
       "}, {\n",
       "  \"Task\" : {\n",
       "    \"id\" : 2,\n",
       "    \"status\" : \"OPENED\",\n",
       "    \"title\" : \"Second task\",\n",
       "    \"tags\" : [ \"optionnal\" ],\n",
       "    \"creationDate\" : \"2024-10-03@13:06:56\"\n",
       "  }\n",
       "} ]\n",
       "```"
      ],
      "text/plain": [
       "```json\n",
       "[ {\n",
       "  \"Task\" : {\n",
       "    \"id\" : 1,\n",
       "    \"status\" : \"OPENED\",\n",
       "    \"title\" : \"First task\",\n",
       "    \"tags\" : [ \"important\", \"outside\" ],\n",
       "    \"creationDate\" : \"2024-10-03@13:06:56\"\n",
       "  }\n",
       "}, {\n",
       "  \"Task\" : {\n",
       "    \"id\" : 2,\n",
       "    \"status\" : \"OPENED\",\n",
       "    \"title\" : \"Second task\",\n",
       "    \"tags\" : [ \"optionnal\" ],\n",
       "    \"creationDate\" : \"2024-10-03@13:06:56\"\n",
       "  }\n",
       "} ]\n",
       "```"
      ]
     },
     "execution_count": 16,
     "metadata": {},
     "output_type": "execute_result"
    }
   ],
   "source": [
    "//| output: true\n",
    "//| echo: false\n",
    "//Render the formatted result in the notebook\n",
    "render(\"```json\\n\"+taskAsString+\"\\n```\", \"text/markdown\");"
   ]
  },
  {
   "cell_type": "markdown",
   "id": "ddd73368-96cc-4b39-8dc9-053c121fc939",
   "metadata": {},
   "source": [
    "La construction d'une object Java depuis JSON est très simple avec la methode `readValue` de `ObjectMapper`."
   ]
  },
  {
   "cell_type": "code",
   "execution_count": 17,
   "id": "61f4dccb-13eb-4170-ae32-1342ec8d08ae",
   "metadata": {
    "vscode": {
     "languageId": "java"
    }
   },
   "outputs": [
    {
     "data": {
      "text/plain": [
       "Task {id=3,title='Another task',status='CLOSED, tags='[spare-time, fun]', description='inutile'}"
      ]
     },
     "execution_count": 17,
     "metadata": {},
     "output_type": "execute_result"
    }
   ],
   "source": [
    "String jsonString=\"\"\"\n",
    "{\n",
    "  \"Task\" : {\n",
    "    \"id\" : 3,\n",
    "    \"status\" : \"CLOSED\",\n",
    "    \"title\" : \"Another task\",\n",
    "    \"description\" : \"inutile\",\n",
    "    \"tags\" : [ \"spare-time\", \"fun\"],\n",
    "    \"creationDate\" : \"2021-02-23@04:06:37\"\n",
    "  }\n",
    "}    \n",
    "\"\"\";\n",
    "    \n",
    "objectMapper.readValue(jsonString, Task.class);"
   ]
  },
  {
   "cell_type": "markdown",
   "id": "e369cfd4-963a-4de8-ad54-14db7e9efa6d",
   "metadata": {},
   "source": [
    "Jackson propose une gestion simple des références qui prend en compte les cycles. Dans notre exemple, si une tâche est associée à un utilisateur qui référence aussi toutes ses tâches, il y a une boucle infinie lors de la sérialisation. Une solution consiste à utiliser dans au moins l'un des deux l'indentifiant de l'autre.\n",
    "\n",
    "L'annotation `@JsonIdentityInfo` permet de définir la solution pour identifier les instances d'une classe.  Elle est alors utilisée automatiquement quand cela est nécessaire.\n",
    "\n",
    "`@JsonIdentityReference(alwaysAsId = true)` permet de contrôler l'usage de l'identifiant (ici de le rendre systématique).\n",
    "\n",
    "`@JsonBackReference` et `@JsonManagedReference` pour les références unidirectionnelles."
   ]
  },
  {
   "cell_type": "code",
   "execution_count": 18,
   "id": "309fd527-d1e6-4a32-85ca-b890209dc6f6",
   "metadata": {
    "vscode": {
     "languageId": "java"
    }
   },
   "outputs": [],
   "source": [
    "//| output: false\n",
    "//| echo: false\n",
    "//BEGIN NOT NEED IN REAL JAVA\n",
    "//Temporary User & Task class déclaration because forward declaration in JShell does not work with annotations\n",
    "public class User{};\n",
    "public class Task{};\n",
    "//END OF NOT NEED IN REAL JAVA    \n"
   ]
  },
  {
   "cell_type": "code",
   "execution_count": 19,
   "id": "b08fd9de",
   "metadata": {
    "vscode": {
     "languageId": "java"
    }
   },
   "outputs": [],
   "source": [
    "@JsonTypeName(value = \"Data\")\n",
    "@JsonIdentityInfo(\n",
    "  generator = ObjectIdGenerators.PropertyGenerator.class,\n",
    "  property = \"uuid\")\n",
    "\n",
    "@JsonTypeInfo(//use = JsonTypeInfo.Id.CLASS, //Use the class\n",
    "              use = JsonTypeInfo.Id.NAME,  //or use the name\n",
    "              //property = \"@class\",\n",
    "              include = JsonTypeInfo.As.PROPERTY            \n",
    "              )\n",
    "@JsonSubTypes({\n",
    "        @JsonSubTypes.Type(value = User.class, name = \"User\"),\n",
    "        @JsonSubTypes.Type(value = Task.class, name = \"Task\")\n",
    "    })\n",
    "public class Data {\n",
    "    protected UUID uuid = UUID.randomUUID();   \n",
    "    public String toString() {return \"User {uuid=\"+uuid+\"'}\";}    \n",
    "}"
   ]
  },
  {
   "cell_type": "code",
   "execution_count": 20,
   "id": "6ed034be",
   "metadata": {
    "vscode": {
     "languageId": "java"
    }
   },
   "outputs": [],
   "source": [
    "@JsonTypeName(value = \"User\")\n",
    "public class User extends Data {\n",
    "    private String name;\n",
    "    \n",
    "    @JsonIdentityReference(alwaysAsId = true)    \n",
    "    private List<Task> tasks = new ArrayList<>();\n",
    "    public void addTask(Task task) {tasks.add(task);}\n",
    "    public List<Task> getTasks() {return tasks;}\n",
    "    \n",
    "    protected User() {};\n",
    "    public User(String name) {this.name = name;}\n",
    "    public String toString() {return \"User {uuid=\"+uuid+\",name='\"+name+\"'}\";}    \n",
    "}"
   ]
  },
  {
   "cell_type": "code",
   "execution_count": 21,
   "id": "39684b01",
   "metadata": {
    "vscode": {
     "languageId": "java"
    }
   },
   "outputs": [],
   "source": [
    "@JsonTypeName(value = \"Task\")\n",
    "public class Task extends Data {\n",
    "    private String title;\n",
    "    \n",
    "    @JsonIdentityReference(alwaysAsId = true)    \n",
    "    private User owner;\n",
    "    \n",
    "    protected Task() {};\n",
    "    @JsonCreator\n",
    "    public Task(@JsonProperty(\"title\") String title, @JsonProperty(\"owner\") User owner) {        \n",
    "        this.title = title; this.owner = owner;\n",
    "        owner.addTask(this);\n",
    "        //System.out.println(\"'Task Constructor Called: ' \"+title+\" \"+owner+\" \"+owner.getTasks());\n",
    "    }\n",
    "    public void setOwner(User owner) {\n",
    "        this.owner = owner;\n",
    "        owner.addTask(this);\n",
    "    }\n",
    "    \n",
    "    public String toString() {return \"Task {uuid=\"+uuid+\",title='\"+title+\"'}\";}\n",
    "}"
   ]
  },
  {
   "cell_type": "code",
   "execution_count": 22,
   "id": "094f579d-059d-4e60-ad55-3c187c0b8e10",
   "metadata": {
    "tags": [],
    "vscode": {
     "languageId": "java"
    }
   },
   "outputs": [],
   "source": [
    "User user1 = new User(\"John\");\n",
    "Task task1 = new Task(\"T1\",user1);\n",
    "Task task2 = new Task(\"T2\",user1);\n",
    "\n",
    "List<Data> dataList = Arrays.asList(user1, task1, task2); \n",
    "Data[] dataArray = new Data[]{user1, task1, task2}; \n",
    "\n",
    "ObjectMapper objectMapper = new ObjectMapper()\n",
    "    .setVisibility(PropertyAccessor.FIELD, Visibility.ANY)\n",
    "    .enable(SerializationFeature.INDENT_OUTPUT)\n",
    "    .findAndRegisterModules();\n",
    "\n",
    "String result = objectMapper.writeValueAsString(dataArray);"
   ]
  },
  {
   "cell_type": "code",
   "execution_count": 23,
   "id": "916a55e3",
   "metadata": {
    "vscode": {
     "languageId": "java"
    }
   },
   "outputs": [
    {
     "data": {
      "text/markdown": [
       "```json\n",
       "[ {\n",
       "  \"@type\" : \"User\",\n",
       "  \"uuid\" : \"ed955c71-ba2e-44eb-94cb-82e960970fca\",\n",
       "  \"name\" : \"John\",\n",
       "  \"tasks\" : [ \"f3c8d563-3573-4dbc-be7c-1a74c7642070\", \"faafcdfd-ad8d-431c-a678-0fdf8322a452\" ]\n",
       "}, {\n",
       "  \"@type\" : \"Task\",\n",
       "  \"uuid\" : \"f3c8d563-3573-4dbc-be7c-1a74c7642070\",\n",
       "  \"title\" : \"T1\",\n",
       "  \"owner\" : \"ed955c71-ba2e-44eb-94cb-82e960970fca\"\n",
       "}, {\n",
       "  \"@type\" : \"Task\",\n",
       "  \"uuid\" : \"faafcdfd-ad8d-431c-a678-0fdf8322a452\",\n",
       "  \"title\" : \"T2\",\n",
       "  \"owner\" : \"ed955c71-ba2e-44eb-94cb-82e960970fca\"\n",
       "} ]\n",
       "```"
      ],
      "text/plain": [
       "```json\n",
       "[ {\n",
       "  \"@type\" : \"User\",\n",
       "  \"uuid\" : \"ed955c71-ba2e-44eb-94cb-82e960970fca\",\n",
       "  \"name\" : \"John\",\n",
       "  \"tasks\" : [ \"f3c8d563-3573-4dbc-be7c-1a74c7642070\", \"faafcdfd-ad8d-431c-a678-0fdf8322a452\" ]\n",
       "}, {\n",
       "  \"@type\" : \"Task\",\n",
       "  \"uuid\" : \"f3c8d563-3573-4dbc-be7c-1a74c7642070\",\n",
       "  \"title\" : \"T1\",\n",
       "  \"owner\" : \"ed955c71-ba2e-44eb-94cb-82e960970fca\"\n",
       "}, {\n",
       "  \"@type\" : \"Task\",\n",
       "  \"uuid\" : \"faafcdfd-ad8d-431c-a678-0fdf8322a452\",\n",
       "  \"title\" : \"T2\",\n",
       "  \"owner\" : \"ed955c71-ba2e-44eb-94cb-82e960970fca\"\n",
       "} ]\n",
       "```"
      ]
     },
     "execution_count": 23,
     "metadata": {},
     "output_type": "execute_result"
    }
   ],
   "source": [
    "//| output: true\n",
    "//| echo: false\n",
    "render(\"```json\\n\"+result+\"\\n```\", \"text/markdown\");"
   ]
  },
  {
   "cell_type": "markdown",
   "id": "896473dd-71ea-43ab-b516-3a1e53d5972c",
   "metadata": {},
   "source": [
    "La lecture de données JSON se fait de la même manière. Attention, pour le lien bidirectionnel il ne doit pas apparaitre deux fois (dans User et dans Task) sinon les données sont ajoutées en double."
   ]
  },
  {
   "cell_type": "code",
   "execution_count": 24,
   "id": "2c3807da-078f-46ca-9724-71ea5cc1b716",
   "metadata": {
    "vscode": {
     "languageId": "java"
    }
   },
   "outputs": [],
   "source": [
    "//We read the JSON String to produce Java Objects\n",
    "Data[] data2 = objectMapper.readValue(\"\"\"\n",
    "[ {\n",
    "  \"@type\" : \"User\",\n",
    "  \"uuid\" : \"487d6096-7608-11eb-9439-0242ac130002\",\n",
    "  \"name\" : \"Mary\"\n",
    "}, {\n",
    "  \"@type\" : \"Task\",\n",
    "  \"uuid\" : \"5ba90634-7608-11eb-9439-0242ac130002\",\n",
    "  \"title\" : \"TM1\",\n",
    "  \"owner\" : \"487d6096-7608-11eb-9439-0242ac130002\"\n",
    "}, {\n",
    "  \"@type\" : \"Task\",\n",
    "  \"uuid\" : \"69b64aa2-7608-11eb-9439-0242ac130002\",\n",
    "  \"title\" : \"TM2\",\n",
    "  \"owner\" : \"487d6096-7608-11eb-9439-0242ac130002\"\n",
    "} ]\"\"\", Data[].class);\n",
    "\n",
    "//We produce JSON from the generated Java objects.                                      \n",
    "String result = objectMapper.writeValueAsString(data2);"
   ]
  },
  {
   "cell_type": "code",
   "execution_count": 25,
   "id": "72865c41",
   "metadata": {
    "vscode": {
     "languageId": "java"
    }
   },
   "outputs": [
    {
     "data": {
      "text/markdown": [
       "```json\n",
       "[ {\n",
       "  \"@type\" : \"User\",\n",
       "  \"uuid\" : \"487d6096-7608-11eb-9439-0242ac130002\",\n",
       "  \"name\" : \"Mary\",\n",
       "  \"tasks\" : [ \"5ba90634-7608-11eb-9439-0242ac130002\", \"69b64aa2-7608-11eb-9439-0242ac130002\" ]\n",
       "}, {\n",
       "  \"@type\" : \"Task\",\n",
       "  \"uuid\" : \"5ba90634-7608-11eb-9439-0242ac130002\",\n",
       "  \"title\" : \"TM1\",\n",
       "  \"owner\" : \"487d6096-7608-11eb-9439-0242ac130002\"\n",
       "}, {\n",
       "  \"@type\" : \"Task\",\n",
       "  \"uuid\" : \"69b64aa2-7608-11eb-9439-0242ac130002\",\n",
       "  \"title\" : \"TM2\",\n",
       "  \"owner\" : \"487d6096-7608-11eb-9439-0242ac130002\"\n",
       "} ]\n",
       "```"
      ],
      "text/plain": [
       "```json\n",
       "[ {\n",
       "  \"@type\" : \"User\",\n",
       "  \"uuid\" : \"487d6096-7608-11eb-9439-0242ac130002\",\n",
       "  \"name\" : \"Mary\",\n",
       "  \"tasks\" : [ \"5ba90634-7608-11eb-9439-0242ac130002\", \"69b64aa2-7608-11eb-9439-0242ac130002\" ]\n",
       "}, {\n",
       "  \"@type\" : \"Task\",\n",
       "  \"uuid\" : \"5ba90634-7608-11eb-9439-0242ac130002\",\n",
       "  \"title\" : \"TM1\",\n",
       "  \"owner\" : \"487d6096-7608-11eb-9439-0242ac130002\"\n",
       "}, {\n",
       "  \"@type\" : \"Task\",\n",
       "  \"uuid\" : \"69b64aa2-7608-11eb-9439-0242ac130002\",\n",
       "  \"title\" : \"TM2\",\n",
       "  \"owner\" : \"487d6096-7608-11eb-9439-0242ac130002\"\n",
       "} ]\n",
       "```"
      ]
     },
     "execution_count": 25,
     "metadata": {},
     "output_type": "execute_result"
    }
   ],
   "source": [
    "//| output: true\n",
    "//| echo: false                          \n",
    "render(\"```json\\n\"+result+\"\\n```\", \"text/markdown\");                               "
   ]
  },
  {
   "cell_type": "markdown",
   "id": "fc2e6e86-09e3-472f-a016-cb732b0b1a7c",
   "metadata": {},
   "source": [
    "Pour aller plus loin, JSON n'est en fait pas un standard du Web et donc chaque format est \"propriétaire\". [JSON-LD](https://json-ld.org/) qui s'appuie sur JSON pour représenter des données sémantiques sur le Web est une meilleure solution. Pour être, complètement compatible avec l'approche HATEOS, Un vocabulaire spécifique pour les API RESGT construit au dessus de JSON-LD appelé [Hydra](http://www.hydra-cg.com/spec/latest/core/) est en cours de définition. LE site [schemas.org](https://schema.org/docs/schemas.html) propose de standardiser des schémas courants."
   ]
  },
  {
   "cell_type": "markdown",
   "id": "caa05ba3-fed3-43fc-8828-b662fe46dfcc",
   "metadata": {},
   "source": [
    "## Autres formats\n",
    "Par curiosité, Jackson propose aussi d'autres formats comme YAML."
   ]
  },
  {
   "cell_type": "code",
   "execution_count": 26,
   "id": "10f27d59-6878-4dc8-9f41-c3f4e88a1540",
   "metadata": {
    "vscode": {
     "languageId": "java"
    }
   },
   "outputs": [],
   "source": [
    "%%loadFromPOM\n",
    "<dependency>\n",
    " <groupId>com.fasterxml.jackson.dataformat</groupId>\n",
    " <artifactId>jackson-dataformat-yaml</artifactId>\n",
    " <version>2.16.1</version>\n",
    "</dependency>"
   ]
  },
  {
   "cell_type": "code",
   "execution_count": 27,
   "id": "5f41810e-5ec0-42fc-8c59-7dc479ccf42a",
   "metadata": {
    "vscode": {
     "languageId": "java"
    }
   },
   "outputs": [],
   "source": [
    "//| output: false\n",
    "//| echo: false  \n",
    "import com.fasterxml.jackson.dataformat.yaml.YAMLFactory;"
   ]
  },
  {
   "cell_type": "code",
   "execution_count": 28,
   "id": "cfc6736a",
   "metadata": {
    "vscode": {
     "languageId": "java"
    }
   },
   "outputs": [],
   "source": [
    "ObjectMapper objectMapperYAML = new ObjectMapper(new YAMLFactory())\n",
    "    .setVisibility(PropertyAccessor.FIELD, Visibility.ANY)\n",
    "    .enable(SerializationFeature.INDENT_OUTPUT)\n",
    "    .findAndRegisterModules();\n",
    "\n",
    "String result = objectMapperYAML.writeValueAsString(data2);\n"
   ]
  },
  {
   "cell_type": "code",
   "execution_count": 29,
   "id": "859c6969",
   "metadata": {
    "vscode": {
     "languageId": "java"
    }
   },
   "outputs": [
    {
     "data": {
      "text/markdown": [
       "```yaml\n",
       "---\n",
       "- !<User>\n",
       "  &487d6096-7608-11eb-9439-0242ac130002 uuid: \"487d6096-7608-11eb-9439-0242ac130002\"\n",
       "  name: \"Mary\"\n",
       "  tasks:\n",
       "  - \"5ba90634-7608-11eb-9439-0242ac130002\"\n",
       "  - \"69b64aa2-7608-11eb-9439-0242ac130002\"\n",
       "- !<Task>\n",
       "  &5ba90634-7608-11eb-9439-0242ac130002 uuid: \"5ba90634-7608-11eb-9439-0242ac130002\"\n",
       "  title: \"TM1\"\n",
       "  owner: *487d6096-7608-11eb-9439-0242ac130002\n",
       "- !<Task>\n",
       "  &69b64aa2-7608-11eb-9439-0242ac130002 uuid: \"69b64aa2-7608-11eb-9439-0242ac130002\"\n",
       "  title: \"TM2\"\n",
       "  owner: *487d6096-7608-11eb-9439-0242ac130002\n",
       "\n",
       "```"
      ],
      "text/plain": [
       "```yaml\n",
       "---\n",
       "- !<User>\n",
       "  &487d6096-7608-11eb-9439-0242ac130002 uuid: \"487d6096-7608-11eb-9439-0242ac130002\"\n",
       "  name: \"Mary\"\n",
       "  tasks:\n",
       "  - \"5ba90634-7608-11eb-9439-0242ac130002\"\n",
       "  - \"69b64aa2-7608-11eb-9439-0242ac130002\"\n",
       "- !<Task>\n",
       "  &5ba90634-7608-11eb-9439-0242ac130002 uuid: \"5ba90634-7608-11eb-9439-0242ac130002\"\n",
       "  title: \"TM1\"\n",
       "  owner: *487d6096-7608-11eb-9439-0242ac130002\n",
       "- !<Task>\n",
       "  &69b64aa2-7608-11eb-9439-0242ac130002 uuid: \"69b64aa2-7608-11eb-9439-0242ac130002\"\n",
       "  title: \"TM2\"\n",
       "  owner: *487d6096-7608-11eb-9439-0242ac130002\n",
       "\n",
       "```"
      ]
     },
     "execution_count": 29,
     "metadata": {},
     "output_type": "execute_result"
    }
   ],
   "source": [
    "//| output: true\n",
    "//| echo: false  \n",
    "render(\"```yaml\\n\"+result+\"\\n```\", \"text/markdown\");"
   ]
  }
 ],
 "metadata": {
  "kernelspec": {
   "display_name": "java-lts",
   "language": "java",
   "name": "java-lts",
   "path": "/opt/conda/share/jupyter/kernels/java-lts"
  },
  "language_info": {
   "codemirror_mode": "java",
   "file_extension": ".jshell",
   "mimetype": "text/x-java-source",
   "name": "Java",
   "pygments_lexer": "java",
   "version": "21.0.4+7-LTS"
  }
 },
 "nbformat": 4,
 "nbformat_minor": 5
}
