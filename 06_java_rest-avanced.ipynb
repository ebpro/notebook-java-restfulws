{
 "cells": [
  {
   "cell_type": "markdown",
   "id": "14ca6559-5f4a-438f-9a7b-8248616d5ef6",
   "metadata": {},
   "source": [
    "---\n",
    "  title: \"RestFull 06: Concepts avancés\"\n",
    "  description: \"Providers, Schemas and Filters with Jakarta RESTful Web Services.\"\n",
    "  categories: \n",
    "    - Java\n",
    "    - Lecture\n",
    "    - RestFull\n",
    "  provide_notes: true\n",
    "  provide_slides: false\n",
    "  jupyter: java-lts\n",
    "  echo: true\n",
    "  output: true\n",
    "---\n"
   ]
  },
  {
   "cell_type": "markdown",
   "id": "d93269ad-614c-42d3-a95f-3faf531e389e",
   "metadata": {},
   "source": [
    "{{< embed ./quarto-utils/_version.qmd >}}"
   ]
  },
  {
   "cell_type": "code",
   "execution_count": 1,
   "id": "f8535d49",
   "metadata": {
    "vscode": {
     "languageId": "java"
    }
   },
   "outputs": [
    {
     "name": "stdout",
     "output_type": "stream",
     "text": [
      "$ git fetch\n"
     ]
    },
    {
     "name": "stdout",
     "output_type": "stream",
     "text": [
      "\n"
     ]
    },
    {
     "name": "stdout",
     "output_type": "stream",
     "text": [
      "$ git reset --mixed\n"
     ]
    },
    {
     "name": "stdout",
     "output_type": "stream",
     "text": [
      "\n"
     ]
    },
    {
     "name": "stdout",
     "output_type": "stream",
     "text": [
      "$ git -c user.email=nbgitpuller@nbgitpuller.link -c user.name=nbgitpuller merge -Xours origin/develop\n"
     ]
    },
    {
     "name": "stdout",
     "output_type": "stream",
     "text": [
      "\n"
     ]
    },
    {
     "name": "stdout",
     "output_type": "stream",
     "text": [
      "Already up to date.\n"
     ]
    },
    {
     "name": "stdout",
     "output_type": "stream",
     "text": [
      "\n"
     ]
    },
    {
     "data": {
      "text/plain": [
       "0"
      ]
     },
     "execution_count": 1,
     "metadata": {},
     "output_type": "execute_result"
    }
   ],
   "source": [
    "//| output: false\n",
    "//| echo: false\n",
    "\n",
    "%printWithName false\n",
    "    \n",
    "// UPDATE SAMPLE SOURCE CODE\n",
    "\n",
    "String script=\"\"\"\n",
    "GITHUB_REPO=ebpro/sample-jaxrs\n",
    "GITHUB_URL=https://github.com/${GITHUB_REPO}\n",
    "BRANCH=develop\n",
    "SRC_DIR=/home/jovyan/work/src/github/${GITHUB_REPO}\n",
    "gitpuller ${GITHUB_URL} ${BRANCH} ${SRC_DIR}\n",
    "cd ${SRC_DIR}\n",
    "mvn --quiet clean package\n",
    "\"\"\";\n",
    "IJava.getKernelInstance().getMagics().applyCellMagic(\"shell\",List.of(\"\"),script);  "
   ]
  },
  {
   "cell_type": "code",
   "execution_count": 2,
   "id": "3b49d92c",
   "metadata": {
    "vscode": {
     "languageId": "java"
    }
   },
   "outputs": [
    {
     "data": {
      "text/plain": [
       "org.glassfish.grizzly.http.server.HttpServer@2953ea1b"
      ]
     },
     "execution_count": 2,
     "metadata": {},
     "output_type": "execute_result"
    }
   ],
   "source": [
    "//| output: false\n",
    "//| echo: false\n",
    "%jars \"/home/jovyan/work/src/github/ebpro/sample-jaxrs/target/sample-jaxrs-*-withdependencies.jar\"; \n",
    "import org.glassfish.grizzly.http.server.HttpServer;\n",
    "import fr.univtln.bruno.samples.jaxrs.server.BiblioServer;\n",
    "HttpServer httpServer = BiblioServer.startServer();\n",
    "httpServer.toString();"
   ]
  },
  {
   "cell_type": "markdown",
   "id": "6c21e9e7",
   "metadata": {},
   "source": [
    "\n",
    "# Les liens sémantiques\n",
    "\n",
    "Les liens sémantiques entre les resources peuvent être réprésentés à l'aide d'URLs de façon standard ((RFC8288)[https://tools.ietf.org/html/rfc8288]). Une liste complète est données sur le site de l'IANA : https://www.iana.org/assignments/link-relations/link-relations.xhtml. Les plus classiquement utilisé avec REST sont self, first, previous, next et last. Pour simplifier l'usage de l'API ces liens peuvent être fournis dans l'entête d'une réponse http et/ou dans le corps de la réponse (par exemple lors de la pagination).\n",
    "\n",
    "```http\n",
    "Link: <http://MyServer:8080/MyApp/Persons/1>; rel=\"first-person\", <http://MyServer:8080/MyApp/Persons/10>; rel=\"next-person\", <http://MyServer:8080/MyApp/Persons/8>; rel=\"previous-person\", <http://MyServer:8080/MyApp/Persons/90>; rel=\"last-person\"\n",
    "```"
   ]
  },
  {
   "cell_type": "markdown",
   "id": "4179ace1-c8b1-49db-8d23-4df944ca550e",
   "metadata": {},
   "source": [
    "## Etendre JAX-RS avec les Providers"
   ]
  },
  {
   "cell_type": "markdown",
   "id": "45be9477-7d84-49ee-b3fe-f811e60207ac",
   "metadata": {
    "tags": []
   },
   "source": [
    "D'une façon générale une classe annotée par `@Provider` ajoute des fonctions à JAXRS (traitement des exceptions, conversion des données, ...)."
   ]
  },
  {
   "cell_type": "markdown",
   "id": "c9524948-4bb3-4d63-827c-5020f0a84396",
   "metadata": {
    "slideshow": {
     "slide_type": "slide"
    },
    "tags": []
   },
   "source": [
    "#### Les mappers : application aux exceptions\n",
    "Le traitement des exceptions peut être simplifié en utilisant des mappers (cf. package exceptions et mapper) qui s'appliquent automatiquement lors qu'une exception est émise. Dans ce cas un objet Response est construit manuellement pour contrôler le détail du corps et de l'entête. "
   ]
  },
  {
   "cell_type": "code",
   "execution_count": 3,
   "id": "3122c540-7d03-40a0-ad18-d72030efbcea",
   "metadata": {
    "vscode": {
     "languageId": "java"
    }
   },
   "outputs": [
    {
     "data": {
      "text/markdown": [
       "```Java\n",
       "@XmlRootElement\n",
       "public class NotFoundException extends BusinessException {\n",
       "    public NotFoundException() {\n",
       "        super(Response.Status.NOT_FOUND);\n",
       "    }\n",
       "}\n",
       "```"
      ],
      "text/plain": [
       "```Java\n",
       "@XmlRootElement\n",
       "public class NotFoundException extends BusinessException {\n",
       "    public NotFoundException() {\n",
       "        super(Response.Status.NOT_FOUND);\n",
       "    }\n",
       "}\n",
       "```"
      ]
     },
     "metadata": {},
     "output_type": "display_data"
    }
   ],
   "source": [
    "//| output: true\n",
    "//| echo: false\n",
    "// PRINT CLASS\n",
    "String script=\"/home/jovyan/work/src/github/ebpro/sample-jaxrs/src/main/java/fr/univtln/bruno/samples/jaxrs/exceptions/NotFoundException.java\";\n",
    "IJava.getKernelInstance().getMagics().applyCellMagic(\"javasrcClassByName\",List.of(\"NotFoundException\"),script);\n",
    "return null;\n"
   ]
  },
  {
   "cell_type": "code",
   "execution_count": 4,
   "id": "0580564c-aa3c-4edf-907b-62b26e5a66ca",
   "metadata": {
    "vscode": {
     "languageId": "java"
    }
   },
   "outputs": [
    {
     "data": {
      "text/markdown": [
       "```Java\n",
       "@SuppressWarnings(\"unused\")\n",
       "@Provider\n",
       "@FieldDefaults(level = AccessLevel.PRIVATE)\n",
       "@Log\n",
       "public class BusinessExceptionMapper implements ExceptionMapper<BusinessException> {\n",
       "    public Response toResponse(BusinessException ex) {\n",
       "        return Response.status(ex.getStatus())\n",
       "                .entity(ex)\n",
       "                .build();\n",
       "    }\n",
       "}\n",
       "```"
      ],
      "text/plain": [
       "```Java\n",
       "@SuppressWarnings(\"unused\")\n",
       "@Provider\n",
       "@FieldDefaults(level = AccessLevel.PRIVATE)\n",
       "@Log\n",
       "public class BusinessExceptionMapper implements ExceptionMapper<BusinessException> {\n",
       "    public Response toResponse(BusinessException ex) {\n",
       "        return Response.status(ex.getStatus())\n",
       "                .entity(ex)\n",
       "                .build();\n",
       "    }\n",
       "}\n",
       "```"
      ]
     },
     "metadata": {},
     "output_type": "display_data"
    }
   ],
   "source": [
    "//| output: true\n",
    "//| echo: false\n",
    "// PRINT CLASS\n",
    "String script=\"/home/jovyan/work/src/github/ebpro/sample-jaxrs/src/main/java/fr/univtln/bruno/samples/jaxrs/mappers/BusinessExceptionMapper.java\";\n",
    "IJava.getKernelInstance().getMagics().applyCellMagic(\"javasrcClassByName\",List.of(\"BusinessExceptionMapper\"),script);\n",
    "return null;\n"
   ]
  },
  {
   "cell_type": "markdown",
   "id": "c8d43180-4933-435a-b351-d7d6d1874389",
   "metadata": {},
   "source": [
    "If a resource doesn't exist an exception is raised, and the 404 http status code is returned"
   ]
  },
  {
   "cell_type": "code",
   "execution_count": 5,
   "id": "5ec3f520-7cab-4480-a7aa-080a4bd63238",
   "metadata": {
    "slideshow": {
     "slide_type": "fragment"
    },
    "tags": [],
    "vscode": {
     "languageId": "java"
    }
   },
   "outputs": [
    {
     "name": "stdout",
     "output_type": "stream",
     "text": [
      "HTTP/1.1 404 Not Found\n"
     ]
    },
    {
     "name": "stdout",
     "output_type": "stream",
     "text": [
      "Content-Type: application/json\n"
     ]
    },
    {
     "name": "stdout",
     "output_type": "stream",
     "text": [
      "Content-Length: 89\n"
     ]
    },
    {
     "name": "stdout",
     "output_type": "stream",
     "text": [
      "\n"
     ]
    },
    {
     "name": "stdout",
     "output_type": "stream",
     "text": [
      "{\"status\":\"NOT_FOUND\",\"message\":\"Author not found\",\"localizedMessage\":\"Author not found\"}\n"
     ]
    }
   ],
   "source": [
    "%%shell\n",
    "curl -s -i -H \"Accept: application/json\"  \\\n",
    "  http://localhost:9998/mylibrary/authors/1000"
   ]
  },
  {
   "cell_type": "markdown",
   "id": "669ed6e3-503b-4b2c-9b65-18fe9f1e6b5f",
   "metadata": {},
   "source": [
    "## Les filtres : application au statut et à la pagination"
   ]
  },
  {
   "cell_type": "code",
   "execution_count": 6,
   "id": "9a4c1777-b515-478b-89f5-acb77f6eed84",
   "metadata": {
    "vscode": {
     "languageId": "java"
    }
   },
   "outputs": [
    {
     "data": {
      "text/markdown": [
       "```Java\n",
       "@Provider\n",
       "public class StatusFilter implements ContainerResponseFilter {\n",
       "\n",
       "    @Override\n",
       "    public void filter(ContainerRequestContext containerRequestContext, ContainerResponseContext containerResponseContext) {\n",
       "        if (containerResponseContext.getStatus() == Response.Status.OK.getStatusCode()) {\n",
       "            for (Annotation annotation : containerResponseContext.getEntityAnnotations()) {\n",
       "                if (annotation instanceof Status) {\n",
       "                    containerResponseContext.setStatus(((Status) annotation).value());\n",
       "                    break;\n",
       "                }\n",
       "            }\n",
       "        }\n",
       "    }\n",
       "\n",
       "}\n",
       "```"
      ],
      "text/plain": [
       "```Java\n",
       "@Provider\n",
       "public class StatusFilter implements ContainerResponseFilter {\n",
       "\n",
       "    @Override\n",
       "    public void filter(ContainerRequestContext containerRequestContext, ContainerResponseContext containerResponseContext) {\n",
       "        if (containerResponseContext.getStatus() == Response.Status.OK.getStatusCode()) {\n",
       "            for (Annotation annotation : containerResponseContext.getEntityAnnotations()) {\n",
       "                if (annotation instanceof Status) {\n",
       "                    containerResponseContext.setStatus(((Status) annotation).value());\n",
       "                    break;\n",
       "                }\n",
       "            }\n",
       "        }\n",
       "    }\n",
       "\n",
       "}\n",
       "```"
      ]
     },
     "metadata": {},
     "output_type": "display_data"
    }
   ],
   "source": [
    "//| output: true\n",
    "//| echo: false\n",
    "// PRINT CLASS\n",
    "String script=\"/home/jovyan/work/src/github/ebpro/sample-jaxrs/src/main/java/fr/univtln/bruno/samples/jaxrs/status/StatusFilter.java\";\n",
    "IJava.getKernelInstance().getMagics().applyCellMagic(\"javasrcClassByName\",List.of(\"StatusFilter\"),script);\n",
    "return null;\n",
    "\n"
   ]
  },
  {
   "cell_type": "code",
   "execution_count": 7,
   "id": "a7a9a382-7547-47a7-af98-bec09986c53c",
   "metadata": {
    "vscode": {
     "languageId": "java"
    }
   },
   "outputs": [
    {
     "name": "stdout",
     "output_type": "stream",
     "text": [
      "package fr.univtln.bruno.samples.jaxrs.status;\n"
     ]
    },
    {
     "name": "stdout",
     "output_type": "stream",
     "text": [
      "\n"
     ]
    },
    {
     "name": "stdout",
     "output_type": "stream",
     "text": [
      "import jakarta.ws.rs.NameBinding;\n"
     ]
    },
    {
     "name": "stdout",
     "output_type": "stream",
     "text": [
      "\n"
     ]
    },
    {
     "name": "stdout",
     "output_type": "stream",
     "text": [
      "import java.lang.annotation.Retention;\n"
     ]
    },
    {
     "name": "stdout",
     "output_type": "stream",
     "text": [
      "import java.lang.annotation.RetentionPolicy;\n"
     ]
    },
    {
     "name": "stdout",
     "output_type": "stream",
     "text": [
      "\n"
     ]
    },
    {
     "name": "stdout",
     "output_type": "stream",
     "text": [
      "\n"
     ]
    },
    {
     "name": "stdout",
     "output_type": "stream",
     "text": [
      "@NameBinding\n"
     ]
    },
    {
     "name": "stdout",
     "output_type": "stream",
     "text": [
      "@Retention(RetentionPolicy.RUNTIME)\n"
     ]
    },
    {
     "name": "stdout",
     "output_type": "stream",
     "text": [
      "public @interface Status {\n"
     ]
    },
    {
     "name": "stdout",
     "output_type": "stream",
     "text": [
      "    int CREATED = 201;\n"
     ]
    },
    {
     "name": "stdout",
     "output_type": "stream",
     "text": [
      "    int ACCEPTED = 202;\n"
     ]
    },
    {
     "name": "stdout",
     "output_type": "stream",
     "text": [
      "    int NO_CONTENT = 204;\n"
     ]
    },
    {
     "name": "stdout",
     "output_type": "stream",
     "text": [
      "    int RESET_CONTENT = 205;\n"
     ]
    },
    {
     "name": "stdout",
     "output_type": "stream",
     "text": [
      "    int PARTIAL_CONTENT = 206;\n"
     ]
    },
    {
     "name": "stdout",
     "output_type": "stream",
     "text": [
      "\n"
     ]
    },
    {
     "name": "stdout",
     "output_type": "stream",
     "text": [
      "    int value();\n"
     ]
    },
    {
     "name": "stdout",
     "output_type": "stream",
     "text": [
      "}\n"
     ]
    }
   ],
   "source": [
    "%%shell\n",
    "cat /home/jovyan/work/src/github/ebpro/sample-jaxrs/src/main/java/fr/univtln/bruno/samples/jaxrs/status/Status.java"
   ]
  },
  {
   "cell_type": "markdown",
   "id": "d3976503-a832-4725-a9ef-f0e85dfa28af",
   "metadata": {},
   "source": [
    "Un exemple de filtre appliqué à la requête sera donné dans la partie sur la sécurité."
   ]
  },
  {
   "cell_type": "markdown",
   "id": "c73712b8-0abb-4466-8540-e28aef8b8354",
   "metadata": {},
   "source": [
    "## Schéma d'une API REST\n",
    "\n",
    "  * [WSDL](https://www.w3.org/TR/wsdl/) un autre langage de service Web permet de décrire un tel [schéma](https://www.ibm.com/developerworks/webservices/library/ws-restwsdl/).\n",
    "  * Le langage [WADL](https://www.w3.org/Submission/wadl/) est spécifique à REST. \n",
    "  * Par défaut Jersey génére une description WADL `/application.wadl`\n",
    "  * Cependant, pour cela l'application nécessite une implantation du standard pour traiter les documents XML appelé [JAXB](https://eclipse-ee4j.github.io/jaxb-ri/) qui n'est plus fournie en standard dans le JDK depuis la version 8 (nous utilisons ici la version 15).\n",
    "\n",
    "Si JAXB est dans le classpath (cf. pom.xml) la génération d'une description WADL est automatique."
   ]
  },
  {
   "cell_type": "code",
   "execution_count": 8,
   "id": "0c3adcd8-9622-4ce6-9587-d90204964807",
   "metadata": {
    "vscode": {
     "languageId": "java"
    }
   },
   "outputs": [
    {
     "name": "stdout",
     "output_type": "stream",
     "text": [
      "HTTP/1.1 200 OK\n"
     ]
    },
    {
     "name": "stdout",
     "output_type": "stream",
     "text": [
      "Last-modified: Thu, 03 Oct 2024 13:07:57 UTC\n"
     ]
    },
    {
     "name": "stdout",
     "output_type": "stream",
     "text": [
      "Content-Type: application/vnd.sun.wadl+xml\n"
     ]
    },
    {
     "name": "stdout",
     "output_type": "stream",
     "text": [
      "Transfer-Encoding: chunked\n"
     ]
    },
    {
     "name": "stdout",
     "output_type": "stream",
     "text": [
      "\n"
     ]
    },
    {
     "name": "stdout",
     "output_type": "stream",
     "text": [
      "<?xml version=\"1.0\" encoding=\"UTF-8\" standalone=\"yes\"?>\n"
     ]
    },
    {
     "name": "stdout",
     "output_type": "stream",
     "text": [
      "<application xmlns=\"http://wadl.dev.java.net/2009/02\">\n"
     ]
    },
    {
     "name": "stdout",
     "output_type": "stream",
     "text": [
      "    <doc xmlns:jersey=\"http://jersey.java.net/\" jersey:generatedBy=\"Jersey: 3.1.8 2024-08-02 14:29:24\"/>\n"
     ]
    },
    {
     "name": "stdout",
     "output_type": "stream",
     "text": [
      "    <doc xmlns:jersey=\"http://jersey.java.net/\" jersey:hint=\"This is simplified WADL with user and core resources only. To get full WADL with extended resources use the query parameter detail. Link: http://localhost:9998/mylibrary/application.wadl?detail=true\"/>\n"
     ]
    },
    {
     "name": "stdout",
     "output_type": "stream",
     "text": [
      "    <grammars>\n"
     ]
    },
    {
     "name": "stdout",
     "output_type": "stream",
     "text": [
      "        <include href=\"application.wadl/xsd0.xsd\">\n"
     ]
    },
    {
     "name": "stdout",
     "output_type": "stream",
     "text": [
      "            <doc title=\"Generated\" xml:lang=\"en\"/>\n"
     ]
    },
    {
     "name": "stdout",
     "output_type": "stream",
     "text": [
      "        </include>\n"
     ]
    },
    {
     "name": "stdout",
     "output_type": "stream",
     "text": [
      "    </grammars>\n"
     ]
    },
    {
     "name": "stdout",
     "output_type": "stream",
     "text": [
      "    <resources base=\"http://localhost:9998/mylibrary/\">\n"
     ]
    },
    {
     "name": "stdout",
     "output_type": "stream",
     "text": [
      "        <resource path=\"library\">\n"
     ]
    },
    {
     "name": "stdout",
     "output_type": "stream",
     "text": [
      "            <method id=\"getLibrary\" name=\"GET\">\n"
     ]
    },
    {
     "name": "stdout",
     "output_type": "stream",
     "text": [
      "                <response>\n"
     ]
    },
    {
     "name": "stdout",
     "output_type": "stream",
     "text": [
      "                    <representation xmlns:ns2=\"http://bruno.univ-tln.fr/sample-jaxrs\" element=\"ns2:library\" mediaType=\"application/json\"/>\n"
     ]
    },
    {
     "name": "stdout",
     "output_type": "stream",
     "text": [
      "                    <representation xmlns:ns2=\"http://bruno.univ-tln.fr/sample-jaxrs\" element=\"ns2:library\" mediaType=\"text/xml\"/>\n"
     ]
    },
    {
     "name": "stdout",
     "output_type": "stream",
     "text": [
      "                </response>\n"
     ]
    },
    {
     "name": "stdout",
     "output_type": "stream",
     "text": [
      "            </method>\n"
     ]
    },
    {
     "name": "stdout",
     "output_type": "stream",
     "text": [
      "            <resource path=\"init\">\n"
     ]
    },
    {
     "name": "stdout",
     "output_type": "stream",
     "text": [
      "                <method id=\"init\" name=\"PUT\">\n"
     ]
    },
    {
     "name": "stdout",
     "output_type": "stream",
     "text": [
      "                    <response>\n"
     ]
    },
    {
     "name": "stdout",
     "output_type": "stream",
     "text": [
      "                        <representation mediaType=\"application/json\"/>\n"
     ]
    },
    {
     "name": "stdout",
     "output_type": "stream",
     "text": [
      "                        <representation mediaType=\"text/xml\"/>\n"
     ]
    },
    {
     "name": "stdout",
     "output_type": "stream",
     "text": [
      "                    </response>\n"
     ]
    },
    {
     "name": "stdout",
     "output_type": "stream",
     "text": [
      "                </method>\n"
     ]
    },
    {
     "name": "stdout",
     "output_type": "stream",
     "text": [
      "            </resource>\n"
     ]
    },
    {
     "name": "stdout",
     "output_type": "stream",
     "text": [
      "            <resource path=\"init/{size:[0-9]+}\">\n"
     ]
    },
    {
     "name": "stdout",
     "output_type": "stream",
     "text": [
      "                <param xmlns:xs=\"http://www.w3.org/2001/XMLSchema\" name=\"size\" style=\"template\" type=\"xs:int\"/>\n"
     ]
    },
    {
     "name": "stdout",
     "output_type": "stream",
     "text": [
      "                <method id=\"init\" name=\"PUT\">\n"
     ]
    },
    {
     "name": "stdout",
     "output_type": "stream",
     "text": [
      "                    <response>\n"
     ]
    },
    {
     "name": "stdout",
     "output_type": "stream",
     "text": [
      "                        <representation mediaType=\"application/json\"/>\n"
     ]
    },
    {
     "name": "stdout",
     "output_type": "stream",
     "text": [
      "                        <representation mediaType=\"text/xml\"/>\n"
     ]
    },
    {
     "name": "stdout",
     "output_type": "stream",
     "text": [
      "                    </response>\n"
     ]
    },
    {
     "name": "stdout",
     "output_type": "stream",
     "text": [
      "                </method>\n"
     ]
    },
    {
     "name": "stdout",
     "output_type": "stream",
     "text": [
      "            </resource>\n"
     ]
    },
    {
     "name": "stdout",
     "output_type": "stream",
     "text": [
      "            <resource path=\"hello\">\n"
     ]
    },
    {
     "name": "stdout",
     "output_type": "stream",
     "text": [
      "                <method id=\"sayHello\" name=\"GET\">\n"
     ]
    },
    {
     "name": "stdout",
     "output_type": "stream",
     "text": [
      "                    <response>\n"
     ]
    },
    {
     "name": "stdout",
     "output_type": "stream",
     "text": [
      "                        <representation mediaType=\"text/plain\"/>\n"
     ]
    },
    {
     "name": "stdout",
     "output_type": "stream",
     "text": [
      "                    </response>\n"
     ]
    },
    {
     "name": "stdout",
     "output_type": "stream",
     "text": [
      "                </method>\n"
     ]
    },
    {
     "name": "stdout",
     "output_type": "stream",
     "text": [
      "            </resource>\n"
     ]
    },
    {
     "name": "stdout",
     "output_type": "stream",
     "text": [
      "        </resource>\n"
     ]
    },
    {
     "name": "stdout",
     "output_type": "stream",
     "text": [
      "        <resource path=\"setup\">\n"
     ]
    },
    {
     "name": "stdout",
     "output_type": "stream",
     "text": [
      "            <resource path=\"usersonly\">\n"
     ]
    },
    {
     "name": "stdout",
     "output_type": "stream",
     "text": [
      "                <method id=\"getRestrictedToUsers\" name=\"GET\">\n"
     ]
    },
    {
     "name": "stdout",
     "output_type": "stream",
     "text": [
      "                    <response>\n"
     ]
    },
    {
     "name": "stdout",
     "output_type": "stream",
     "text": [
      "                        <representation mediaType=\"application/json\"/>\n"
     ]
    },
    {
     "name": "stdout",
     "output_type": "stream",
     "text": [
      "                        <representation mediaType=\"text/xml\"/>\n"
     ]
    },
    {
     "name": "stdout",
     "output_type": "stream",
     "text": [
      "                    </response>\n"
     ]
    },
    {
     "name": "stdout",
     "output_type": "stream",
     "text": [
      "                </method>\n"
     ]
    },
    {
     "name": "stdout",
     "output_type": "stream",
     "text": [
      "            </resource>\n"
     ]
    },
    {
     "name": "stdout",
     "output_type": "stream",
     "text": [
      "            <resource path=\"secured/admin\">\n"
     ]
    },
    {
     "name": "stdout",
     "output_type": "stream",
     "text": [
      "                <method id=\"securedByJWTAdminOnly\" name=\"GET\">\n"
     ]
    },
    {
     "name": "stdout",
     "output_type": "stream",
     "text": [
      "                    <response>\n"
     ]
    },
    {
     "name": "stdout",
     "output_type": "stream",
     "text": [
      "                        <representation mediaType=\"text/plain\"/>\n"
     ]
    },
    {
     "name": "stdout",
     "output_type": "stream",
     "text": [
      "                        <representation mediaType=\"application/json\"/>\n"
     ]
    },
    {
     "name": "stdout",
     "output_type": "stream",
     "text": [
      "                        <representation mediaType=\"text/xml\"/>\n"
     ]
    },
    {
     "name": "stdout",
     "output_type": "stream",
     "text": [
      "                    </response>\n"
     ]
    },
    {
     "name": "stdout",
     "output_type": "stream",
     "text": [
      "                </method>\n"
     ]
    },
    {
     "name": "stdout",
     "output_type": "stream",
     "text": [
      "            </resource>\n"
     ]
    },
    {
     "name": "stdout",
     "output_type": "stream",
     "text": [
      "            <resource path=\"context\">\n"
     ]
    },
    {
     "name": "stdout",
     "output_type": "stream",
     "text": [
      "                <method id=\"getContext\" name=\"GET\">\n"
     ]
    },
    {
     "name": "stdout",
     "output_type": "stream",
     "text": [
      "                    <response>\n"
     ]
    },
    {
     "name": "stdout",
     "output_type": "stream",
     "text": [
      "                        <representation mediaType=\"application/json\"/>\n"
     ]
    },
    {
     "name": "stdout",
     "output_type": "stream",
     "text": [
      "                        <representation mediaType=\"text/xml\"/>\n"
     ]
    },
    {
     "name": "stdout",
     "output_type": "stream",
     "text": [
      "                    </response>\n"
     ]
    },
    {
     "name": "stdout",
     "output_type": "stream",
     "text": [
      "                </method>\n"
     ]
    },
    {
     "name": "stdout",
     "output_type": "stream",
     "text": [
      "            </resource>\n"
     ]
    },
    {
     "name": "stdout",
     "output_type": "stream",
     "text": [
      "            <resource path=\"adminsonly\">\n"
     ]
    },
    {
     "name": "stdout",
     "output_type": "stream",
     "text": [
      "                <method id=\"getRestrictedToAdmins\" name=\"GET\">\n"
     ]
    },
    {
     "name": "stdout",
     "output_type": "stream",
     "text": [
      "                    <response>\n"
     ]
    },
    {
     "name": "stdout",
     "output_type": "stream",
     "text": [
      "                        <representation mediaType=\"application/json\"/>\n"
     ]
    },
    {
     "name": "stdout",
     "output_type": "stream",
     "text": [
      "                        <representation mediaType=\"text/xml\"/>\n"
     ]
    },
    {
     "name": "stdout",
     "output_type": "stream",
     "text": [
      "                    </response>\n"
     ]
    },
    {
     "name": "stdout",
     "output_type": "stream",
     "text": [
      "                </method>\n"
     ]
    },
    {
     "name": "stdout",
     "output_type": "stream",
     "text": [
      "            </resource>\n"
     ]
    },
    {
     "name": "stdout",
     "output_type": "stream",
     "text": [
      "            <resource path=\"login\">\n"
     ]
    },
    {
     "name": "stdout",
     "output_type": "stream",
     "text": [
      "                <method id=\"login\" name=\"GET\">\n"
     ]
    },
    {
     "name": "stdout",
     "output_type": "stream",
     "text": [
      "                    <response>\n"
     ]
    },
    {
     "name": "stdout",
     "output_type": "stream",
     "text": [
      "                        <representation mediaType=\"text/plain\"/>\n"
     ]
    },
    {
     "name": "stdout",
     "output_type": "stream",
     "text": [
      "                        <representation mediaType=\"application/json\"/>\n"
     ]
    },
    {
     "name": "stdout",
     "output_type": "stream",
     "text": [
      "                        <representation mediaType=\"text/xml\"/>\n"
     ]
    },
    {
     "name": "stdout",
     "output_type": "stream",
     "text": [
      "                    </response>\n"
     ]
    },
    {
     "name": "stdout",
     "output_type": "stream",
     "text": [
      "                </method>\n"
     ]
    },
    {
     "name": "stdout",
     "output_type": "stream",
     "text": [
      "            </resource>\n"
     ]
    },
    {
     "name": "stdout",
     "output_type": "stream",
     "text": [
      "            <resource path=\"secured\">\n"
     ]
    },
    {
     "name": "stdout",
     "output_type": "stream",
     "text": [
      "                <method id=\"securedByJWT\" name=\"GET\">\n"
     ]
    },
    {
     "name": "stdout",
     "output_type": "stream",
     "text": [
      "                    <response>\n"
     ]
    },
    {
     "name": "stdout",
     "output_type": "stream",
     "text": [
      "                        <representation mediaType=\"text/plain\"/>\n"
     ]
    },
    {
     "name": "stdout",
     "output_type": "stream",
     "text": [
      "                        <representation mediaType=\"application/json\"/>\n"
     ]
    },
    {
     "name": "stdout",
     "output_type": "stream",
     "text": [
      "                        <representation mediaType=\"text/xml\"/>\n"
     ]
    },
    {
     "name": "stdout",
     "output_type": "stream",
     "text": [
      "                    </response>\n"
     ]
    },
    {
     "name": "stdout",
     "output_type": "stream",
     "text": [
      "                </method>\n"
     ]
    },
    {
     "name": "stdout",
     "output_type": "stream",
     "text": [
      "            </resource>\n"
     ]
    },
    {
     "name": "stdout",
     "output_type": "stream",
     "text": [
      "        </resource>\n"
     ]
    },
    {
     "name": "stdout",
     "output_type": "stream",
     "text": [
      "        <resource path=\"authors\">\n"
     ]
    },
    {
     "name": "stdout",
     "output_type": "stream",
     "text": [
      "            <method id=\"addAuthor\" name=\"POST\">\n"
     ]
    },
    {
     "name": "stdout",
     "output_type": "stream",
     "text": [
      "                <request>\n"
     ]
    },
    {
     "name": "stdout",
     "output_type": "stream",
     "text": [
      "                    <representation xmlns:ns2=\"http://bruno.univ-tln.fr/sample-jaxrs\" element=\"ns2:author\" mediaType=\"application/json\"/>\n"
     ]
    },
    {
     "name": "stdout",
     "output_type": "stream",
     "text": [
      "                </request>\n"
     ]
    },
    {
     "name": "stdout",
     "output_type": "stream",
     "text": [
      "                <response>\n"
     ]
    },
    {
     "name": "stdout",
     "output_type": "stream",
     "text": [
      "                    <representation xmlns:ns2=\"http://bruno.univ-tln.fr/sample-jaxrs\" element=\"ns2:author\" mediaType=\"application/json\"/>\n"
     ]
    },
    {
     "name": "stdout",
     "output_type": "stream",
     "text": [
      "                    <representation xmlns:ns2=\"http://bruno.univ-tln.fr/sample-jaxrs\" element=\"ns2:author\" mediaType=\"text/xml\"/>\n"
     ]
    },
    {
     "name": "stdout",
     "output_type": "stream",
     "text": [
      "                </response>\n"
     ]
    },
    {
     "name": "stdout",
     "output_type": "stream",
     "text": [
      "            </method>\n"
     ]
    },
    {
     "name": "stdout",
     "output_type": "stream",
     "text": [
      "            <method id=\"getAuthors\" name=\"GET\">\n"
     ]
    },
    {
     "name": "stdout",
     "output_type": "stream",
     "text": [
      "                <response>\n"
     ]
    },
    {
     "name": "stdout",
     "output_type": "stream",
     "text": [
      "                    <representation mediaType=\"application/json\"/>\n"
     ]
    },
    {
     "name": "stdout",
     "output_type": "stream",
     "text": [
      "                    <representation mediaType=\"text/xml\"/>\n"
     ]
    },
    {
     "name": "stdout",
     "output_type": "stream",
     "text": [
      "                </response>\n"
     ]
    },
    {
     "name": "stdout",
     "output_type": "stream",
     "text": [
      "            </method>\n"
     ]
    },
    {
     "name": "stdout",
     "output_type": "stream",
     "text": [
      "            <method id=\"removeAuthors\" name=\"DELETE\"/>\n"
     ]
    },
    {
     "name": "stdout",
     "output_type": "stream",
     "text": [
      "            <resource path=\"filter\">\n"
     ]
    },
    {
     "name": "stdout",
     "output_type": "stream",
     "text": [
      "                <method id=\"getFilteredAuthors\" name=\"GET\">\n"
     ]
    },
    {
     "name": "stdout",
     "output_type": "stream",
     "text": [
      "                    <request>\n"
     ]
    },
    {
     "name": "stdout",
     "output_type": "stream",
     "text": [
      "                        <param xmlns:xs=\"http://www.w3.org/2001/XMLSchema\" name=\"name\" style=\"query\" type=\"xs:string\"/>\n"
     ]
    },
    {
     "name": "stdout",
     "output_type": "stream",
     "text": [
      "                        <param xmlns:xs=\"http://www.w3.org/2001/XMLSchema\" name=\"firstname\" style=\"query\" type=\"xs:string\"/>\n"
     ]
    },
    {
     "name": "stdout",
     "output_type": "stream",
     "text": [
      "                        <param xmlns:xs=\"http://www.w3.org/2001/XMLSchema\" name=\"biography\" style=\"query\" type=\"xs:string\"/>\n"
     ]
    },
    {
     "name": "stdout",
     "output_type": "stream",
     "text": [
      "                        <param xmlns:xs=\"http://www.w3.org/2001/XMLSchema\" name=\"sortKey\" style=\"header\" type=\"xs:string\" default=\"name\"/>\n"
     ]
    },
    {
     "name": "stdout",
     "output_type": "stream",
     "text": [
      "                    </request>\n"
     ]
    },
    {
     "name": "stdout",
     "output_type": "stream",
     "text": [
      "                    <response>\n"
     ]
    },
    {
     "name": "stdout",
     "output_type": "stream",
     "text": [
      "                        <representation mediaType=\"application/json\"/>\n"
     ]
    },
    {
     "name": "stdout",
     "output_type": "stream",
     "text": [
      "                        <representation mediaType=\"text/xml\"/>\n"
     ]
    },
    {
     "name": "stdout",
     "output_type": "stream",
     "text": [
      "                    </response>\n"
     ]
    },
    {
     "name": "stdout",
     "output_type": "stream",
     "text": [
      "                </method>\n"
     ]
    },
    {
     "name": "stdout",
     "output_type": "stream",
     "text": [
      "            </resource>\n"
     ]
    },
    {
     "name": "stdout",
     "output_type": "stream",
     "text": [
      "            <resource path=\"page\">\n"
     ]
    },
    {
     "name": "stdout",
     "output_type": "stream",
     "text": [
      "                <method id=\"getAuthorsPage\" name=\"GET\">\n"
     ]
    },
    {
     "name": "stdout",
     "output_type": "stream",
     "text": [
      "                    <request>\n"
     ]
    },
    {
     "name": "stdout",
     "output_type": "stream",
     "text": [
      "                        <param xmlns:xs=\"http://www.w3.org/2001/XMLSchema\" name=\"page\" style=\"query\" type=\"xs:long\"/>\n"
     ]
    },
    {
     "name": "stdout",
     "output_type": "stream",
     "text": [
      "                        <param xmlns:xs=\"http://www.w3.org/2001/XMLSchema\" name=\"pageSize\" style=\"query\" type=\"xs:long\"/>\n"
     ]
    },
    {
     "name": "stdout",
     "output_type": "stream",
     "text": [
      "                        <param xmlns:xs=\"http://www.w3.org/2001/XMLSchema\" name=\"sortKey\" style=\"header\" type=\"xs:string\" default=\"name\"/>\n"
     ]
    },
    {
     "name": "stdout",
     "output_type": "stream",
     "text": [
      "                        <param xmlns:xs=\"http://www.w3.org/2001/XMLSchema\" name=\"name\" style=\"query\" type=\"xs:string\"/>\n"
     ]
    },
    {
     "name": "stdout",
     "output_type": "stream",
     "text": [
      "                        <param xmlns:xs=\"http://www.w3.org/2001/XMLSchema\" name=\"firstname\" style=\"query\" type=\"xs:string\"/>\n"
     ]
    },
    {
     "name": "stdout",
     "output_type": "stream",
     "text": [
      "                        <param xmlns:xs=\"http://www.w3.org/2001/XMLSchema\" name=\"biography\" style=\"query\" type=\"xs:string\"/>\n"
     ]
    },
    {
     "name": "stdout",
     "output_type": "stream",
     "text": [
      "                    </request>\n"
     ]
    },
    {
     "name": "stdout",
     "output_type": "stream",
     "text": [
      "                    <response>\n"
     ]
    },
    {
     "name": "stdout",
     "output_type": "stream",
     "text": [
      "                        <representation mediaType=\"application/json\"/>\n"
     ]
    },
    {
     "name": "stdout",
     "output_type": "stream",
     "text": [
      "                        <representation mediaType=\"text/xml\"/>\n"
     ]
    },
    {
     "name": "stdout",
     "output_type": "stream",
     "text": [
      "                    </response>\n"
     ]
    },
    {
     "name": "stdout",
     "output_type": "stream",
     "text": [
      "                </method>\n"
     ]
    },
    {
     "name": "stdout",
     "output_type": "stream",
     "text": [
      "            </resource>\n"
     ]
    },
    {
     "name": "stdout",
     "output_type": "stream",
     "text": [
      "            <resource path=\"{id}\">\n"
     ]
    },
    {
     "name": "stdout",
     "output_type": "stream",
     "text": [
      "                <param xmlns:xs=\"http://www.w3.org/2001/XMLSchema\" name=\"id\" style=\"template\" type=\"xs:long\"/>\n"
     ]
    },
    {
     "name": "stdout",
     "output_type": "stream",
     "text": [
      "                <method id=\"removeAuthor\" name=\"DELETE\"/>\n"
     ]
    },
    {
     "name": "stdout",
     "output_type": "stream",
     "text": [
      "                <method id=\"getAuthor\" name=\"GET\">\n"
     ]
    },
    {
     "name": "stdout",
     "output_type": "stream",
     "text": [
      "                    <response>\n"
     ]
    },
    {
     "name": "stdout",
     "output_type": "stream",
     "text": [
      "                        <representation xmlns:ns2=\"http://bruno.univ-tln.fr/sample-jaxrs\" element=\"ns2:author\" mediaType=\"application/json\"/>\n"
     ]
    },
    {
     "name": "stdout",
     "output_type": "stream",
     "text": [
      "                        <representation xmlns:ns2=\"http://bruno.univ-tln.fr/sample-jaxrs\" element=\"ns2:author\" mediaType=\"text/xml\"/>\n"
     ]
    },
    {
     "name": "stdout",
     "output_type": "stream",
     "text": [
      "                    </response>\n"
     ]
    },
    {
     "name": "stdout",
     "output_type": "stream",
     "text": [
      "                </method>\n"
     ]
    },
    {
     "name": "stdout",
     "output_type": "stream",
     "text": [
      "                <method id=\"updateAuthor\" name=\"PUT\">\n"
     ]
    },
    {
     "name": "stdout",
     "output_type": "stream",
     "text": [
      "                    <request>\n"
     ]
    },
    {
     "name": "stdout",
     "output_type": "stream",
     "text": [
      "                        <representation xmlns:ns2=\"http://bruno.univ-tln.fr/sample-jaxrs\" element=\"ns2:author\" mediaType=\"application/json\"/>\n"
     ]
    },
    {
     "name": "stdout",
     "output_type": "stream",
     "text": [
      "                    </request>\n"
     ]
    },
    {
     "name": "stdout",
     "output_type": "stream",
     "text": [
      "                    <response>\n"
     ]
    },
    {
     "name": "stdout",
     "output_type": "stream",
     "text": [
      "                        <representation xmlns:ns2=\"http://bruno.univ-tln.fr/sample-jaxrs\" element=\"ns2:author\" mediaType=\"application/json\"/>\n"
     ]
    },
    {
     "name": "stdout",
     "output_type": "stream",
     "text": [
      "                        <representation xmlns:ns2=\"http://bruno.univ-tln.fr/sample-jaxrs\" element=\"ns2:author\" mediaType=\"text/xml\"/>\n"
     ]
    },
    {
     "name": "stdout",
     "output_type": "stream",
     "text": [
      "                    </response>\n"
     ]
    },
    {
     "name": "stdout",
     "output_type": "stream",
     "text": [
      "                </method>\n"
     ]
    },
    {
     "name": "stdout",
     "output_type": "stream",
     "text": [
      "            </resource>\n"
     ]
    },
    {
     "name": "stdout",
     "output_type": "stream",
     "text": [
      "        </resource>\n"
     ]
    },
    {
     "name": "stdout",
     "output_type": "stream",
     "text": [
      "    </resources>\n"
     ]
    },
    {
     "name": "stdout",
     "output_type": "stream",
     "text": [
      "</application>\n"
     ]
    }
   ],
   "source": [
    "%%shell\n",
    "curl -s -D - --get http://localhost:9998/mylibrary/application.wadl"
   ]
  },
  {
   "cell_type": "markdown",
   "id": "5848d864-1bb6-4109-8db6-5b5d9bc3e9db",
   "metadata": {},
   "source": [
    "https://jakarta.ee/specifications/restful-ws/3.0/jakarta-restful-ws-spec-3.0.html#context\n"
   ]
  },
  {
   "cell_type": "code",
   "execution_count": 9,
   "id": "844d6595",
   "metadata": {
    "vscode": {
     "languageId": "java"
    }
   },
   "outputs": [],
   "source": [
    "//| output: false\n",
    "//| echo: false\n",
    "httpServer.stop();"
   ]
  }
 ],
 "metadata": {
  "kernelspec": {
   "display_name": "java-lts",
   "language": "java",
   "name": "java-lts",
   "path": "/opt/conda/share/jupyter/kernels/java-lts"
  },
  "language_info": {
   "codemirror_mode": "java",
   "file_extension": ".jshell",
   "mimetype": "text/x-java-source",
   "name": "Java",
   "pygments_lexer": "java",
   "version": "21.0.4+7-LTS"
  }
 },
 "nbformat": 4,
 "nbformat_minor": 5
}
