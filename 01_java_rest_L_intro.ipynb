{
 "cells": [
  {
   "cell_type": "markdown",
   "id": "8d3c5cdf",
   "metadata": {},
   "source": [
    "---\n",
    "  title: \"Rest 01: L'approche RESTFul\"\n",
    "  description: \"Introduction to REpresentational State Transfer APIs (RestFull Web Services).\"\n",
    "  categories: \n",
    "    - Java\n",
    "    - Lecture\n",
    "    - RestFull\n",
    "  provide_notes: true\n",
    "  provide_slides: true\n",
    "  jupyter: java-lts\n",
    "  echo: true\n",
    "  output: true  \n",
    "---"
   ]
  },
  {
   "cell_type": "markdown",
   "id": "f141bd3e-6356-4e0b-a2f8-fb402d14f28c",
   "metadata": {},
   "source": [
    "{{< embed ./quarto-utils/_version.qmd >}}"
   ]
  },
  {
   "cell_type": "code",
   "execution_count": 1,
   "id": "51300dd2-1aa6-4091-b985-65a444e90f01",
   "metadata": {
    "jupyter": {
     "outputs_hidden": true
    }
   },
   "outputs": [
    {
     "name": "stdout",
     "output_type": "stream",
     "text": [
      "$ git fetch\n"
     ]
    },
    {
     "name": "stdout",
     "output_type": "stream",
     "text": [
      "\n"
     ]
    },
    {
     "name": "stdout",
     "output_type": "stream",
     "text": [
      "$ git reset --mixed\n"
     ]
    },
    {
     "name": "stdout",
     "output_type": "stream",
     "text": [
      "\n"
     ]
    },
    {
     "name": "stdout",
     "output_type": "stream",
     "text": [
      "$ git -c user.email=nbgitpuller@nbgitpuller.link -c user.name=nbgitpuller merge -Xours origin/develop\n"
     ]
    },
    {
     "name": "stdout",
     "output_type": "stream",
     "text": [
      "\n"
     ]
    },
    {
     "name": "stdout",
     "output_type": "stream",
     "text": [
      "Already up to date.\n"
     ]
    },
    {
     "name": "stdout",
     "output_type": "stream",
     "text": [
      "\n"
     ]
    },
    {
     "name": "stdout",
     "output_type": "stream",
     "text": [
      "[INFO] Scanning for projects...\n"
     ]
    },
    {
     "name": "stdout",
     "output_type": "stream",
     "text": [
      "[INFO] \n"
     ]
    },
    {
     "name": "stdout",
     "output_type": "stream",
     "text": [
      "[INFO] ----------< fr.univtln.bruno.exemple.simplerest:sample-jaxrs >----------\n"
     ]
    },
    {
     "name": "stdout",
     "output_type": "stream",
     "text": [
      "[INFO] Building Sample JAX-RS 2.0-SNAPSHOT\n"
     ]
    },
    {
     "name": "stdout",
     "output_type": "stream",
     "text": [
      "[INFO]   from pom.xml\n"
     ]
    },
    {
     "name": "stdout",
     "output_type": "stream",
     "text": [
      "[INFO] --------------------------------[ jar ]---------------------------------\n"
     ]
    },
    {
     "name": "stdout",
     "output_type": "stream",
     "text": [
      "[INFO] \n"
     ]
    },
    {
     "name": "stdout",
     "output_type": "stream",
     "text": [
      "[INFO] --- clean:3.4.0:clean (default-clean) @ sample-jaxrs ---\n"
     ]
    },
    {
     "name": "stdout",
     "output_type": "stream",
     "text": [
      "[INFO] Deleting /home/jovyan/work/src/github/ebpro/sample-jaxrs/target\n"
     ]
    },
    {
     "name": "stdout",
     "output_type": "stream",
     "text": [
      "[INFO] \n"
     ]
    },
    {
     "name": "stdout",
     "output_type": "stream",
     "text": [
      "[INFO] --- enforcer:3.5.0:enforce (enforce-versions) @ sample-jaxrs ---\n"
     ]
    },
    {
     "name": "stdout",
     "output_type": "stream",
     "text": [
      "[INFO] Rule 0: org.apache.maven.enforcer.rules.version.RequireMavenVersion passed\n"
     ]
    },
    {
     "name": "stdout",
     "output_type": "stream",
     "text": [
      "[INFO] Rule 1: org.apache.maven.enforcer.rules.version.RequireJavaVersion passed\n"
     ]
    },
    {
     "name": "stdout",
     "output_type": "stream",
     "text": [
      "[INFO] Rule 2: org.apache.maven.enforcer.rules.dependency.DependencyConvergence passed\n"
     ]
    },
    {
     "name": "stdout",
     "output_type": "stream",
     "text": [
      "[INFO] \n"
     ]
    },
    {
     "name": "stdout",
     "output_type": "stream",
     "text": [
      "[INFO] --- jacoco:0.8.12:prepare-agent (before-unit-test-execution) @ sample-jaxrs ---\n"
     ]
    },
    {
     "name": "stdout",
     "output_type": "stream",
     "text": [
      "[INFO] surefire.jacoco.args set to -javaagent:/home/jovyan/work/.m2/repository/org/jacoco/org.jacoco.agent/0.8.12/org.jacoco.agent-0.8.12-runtime.jar=destfile=/home/jovyan/work/src/github/ebpro/sample-jaxrs/target/jacoco-output/jacoco-unit-tests.exec\n"
     ]
    },
    {
     "name": "stdout",
     "output_type": "stream",
     "text": [
      "[INFO] \n"
     ]
    },
    {
     "name": "stdout",
     "output_type": "stream",
     "text": [
      "[INFO] --- keytool:1.7:generateKeyPair (generateKeyPair) @ sample-jaxrs ---\n"
     ]
    },
    {
     "name": "stdout",
     "output_type": "stream",
     "text": [
      "[INFO] Skip execution, keystore already exists at /home/jovyan/work/src/github/ebpro/sample-jaxrs/src/main/resources/ssl/cert.jks\n"
     ]
    },
    {
     "name": "stdout",
     "output_type": "stream",
     "text": [
      "[INFO] Disabled\n"
     ]
    },
    {
     "name": "stdout",
     "output_type": "stream",
     "text": [
      "[INFO] \n"
     ]
    },
    {
     "name": "stdout",
     "output_type": "stream",
     "text": [
      "[INFO] --- keytool:1.7:generateCertificateRequest (generateCertificateRequest) @ sample-jaxrs ---\n"
     ]
    },
    {
     "name": "stdout",
     "output_type": "stream",
     "text": [
      "[INFO] \n"
     ]
    },
    {
     "name": "stdout",
     "output_type": "stream",
     "text": [
      "[INFO] --- keytool:1.7:generateCertificate (generateCertificate) @ sample-jaxrs ---\n"
     ]
    },
    {
     "name": "stdout",
     "output_type": "stream",
     "text": [
      "[INFO] \n"
     ]
    },
    {
     "name": "stdout",
     "output_type": "stream",
     "text": [
      "[INFO] --- resources:3.3.1:resources (default-resources) @ sample-jaxrs ---\n"
     ]
    },
    {
     "name": "stdout",
     "output_type": "stream",
     "text": [
      "[INFO] Copying 3 resources from src/main/resources to target/classes\n"
     ]
    },
    {
     "name": "stdout",
     "output_type": "stream",
     "text": [
      "[INFO] \n"
     ]
    },
    {
     "name": "stdout",
     "output_type": "stream",
     "text": [
      "[INFO] --- compiler:3.13.0:compile (default-compile) @ sample-jaxrs ---\n"
     ]
    },
    {
     "name": "stdout",
     "output_type": "stream",
     "text": [
      "[INFO] Recompiling the module because of changed source code.\n"
     ]
    },
    {
     "name": "stdout",
     "output_type": "stream",
     "text": [
      "[INFO] Compiling 24 source files with javac [debug target 15] to target/classes\n"
     ]
    },
    {
     "name": "stdout",
     "output_type": "stream",
     "text": [
      "[WARNING] system modules path not set in conjunction with -source 15\n"
     ]
    },
    {
     "name": "stdout",
     "output_type": "stream",
     "text": [
      "[INFO] Annotation processing is enabled because one or more processors were found\n"
     ]
    },
    {
     "name": "stdout",
     "output_type": "stream",
     "text": [
      "  on the class path. A future release of javac may disable annotation processing\n"
     ]
    },
    {
     "name": "stdout",
     "output_type": "stream",
     "text": [
      "  unless at least one processor is specified by name (-processor), or a search\n"
     ]
    },
    {
     "name": "stdout",
     "output_type": "stream",
     "text": [
      "  path is specified (--processor-path, --processor-module-path), or annotation\n"
     ]
    },
    {
     "name": "stdout",
     "output_type": "stream",
     "text": [
      "  processing is enabled explicitly (-proc:only, -proc:full).\n"
     ]
    },
    {
     "name": "stdout",
     "output_type": "stream",
     "text": [
      "  Use -Xlint:-options to suppress this message.\n"
     ]
    },
    {
     "name": "stdout",
     "output_type": "stream",
     "text": [
      "  Use -proc:none to disable annotation processing.\n"
     ]
    },
    {
     "name": "stdout",
     "output_type": "stream",
     "text": [
      "[INFO] \n"
     ]
    },
    {
     "name": "stdout",
     "output_type": "stream",
     "text": [
      "[INFO] --- resources:3.3.1:testResources (default-testResources) @ sample-jaxrs ---\n"
     ]
    },
    {
     "name": "stdout",
     "output_type": "stream",
     "text": [
      "[INFO] skip non existing resourceDirectory /home/jovyan/work/src/github/ebpro/sample-jaxrs/src/test/resources\n"
     ]
    },
    {
     "name": "stdout",
     "output_type": "stream",
     "text": [
      "[INFO] \n"
     ]
    },
    {
     "name": "stdout",
     "output_type": "stream",
     "text": [
      "[INFO] --- compiler:3.13.0:testCompile (default-testCompile) @ sample-jaxrs ---\n"
     ]
    },
    {
     "name": "stdout",
     "output_type": "stream",
     "text": [
      "[INFO] Recompiling the module because of changed dependency.\n"
     ]
    },
    {
     "name": "stdout",
     "output_type": "stream",
     "text": [
      "[INFO] Compiling 5 source files with javac [debug target 15] to target/test-classes\n"
     ]
    },
    {
     "name": "stdout",
     "output_type": "stream",
     "text": [
      "[WARNING] system modules path not set in conjunction with -source 15\n"
     ]
    },
    {
     "name": "stdout",
     "output_type": "stream",
     "text": [
      "[INFO] Annotation processing is enabled because one or more processors were found\n"
     ]
    },
    {
     "name": "stdout",
     "output_type": "stream",
     "text": [
      "  on the class path. A future release of javac may disable annotation processing\n"
     ]
    },
    {
     "name": "stdout",
     "output_type": "stream",
     "text": [
      "  unless at least one processor is specified by name (-processor), or a search\n"
     ]
    },
    {
     "name": "stdout",
     "output_type": "stream",
     "text": [
      "  path is specified (--processor-path, --processor-module-path), or annotation\n"
     ]
    },
    {
     "name": "stdout",
     "output_type": "stream",
     "text": [
      "  processing is enabled explicitly (-proc:only, -proc:full).\n"
     ]
    },
    {
     "name": "stdout",
     "output_type": "stream",
     "text": [
      "  Use -Xlint:-options to suppress this message.\n"
     ]
    },
    {
     "name": "stdout",
     "output_type": "stream",
     "text": [
      "  Use -proc:none to disable annotation processing.\n"
     ]
    },
    {
     "name": "stdout",
     "output_type": "stream",
     "text": [
      "[INFO] \n"
     ]
    },
    {
     "name": "stdout",
     "output_type": "stream",
     "text": [
      "[INFO] --- surefire:3.5.0:test (default-test) @ sample-jaxrs ---\n"
     ]
    },
    {
     "name": "stdout",
     "output_type": "stream",
     "text": [
      "[INFO] Using auto detected provider org.apache.maven.surefire.junitplatform.JUnitPlatformProvider\n"
     ]
    },
    {
     "name": "stdout",
     "output_type": "stream",
     "text": [
      "[INFO] \n"
     ]
    },
    {
     "name": "stdout",
     "output_type": "stream",
     "text": [
      "[INFO] -------------------------------------------------------\n"
     ]
    },
    {
     "name": "stdout",
     "output_type": "stream",
     "text": [
      "[INFO]  T E S T S\n"
     ]
    },
    {
     "name": "stdout",
     "output_type": "stream",
     "text": [
      "[INFO] -------------------------------------------------------\n"
     ]
    },
    {
     "name": "stdout",
     "output_type": "stream",
     "text": [
      "[INFO] Running fr.univtln.bruno.samples.jaxrs.LibraryModelAuthorTest\n"
     ]
    },
    {
     "name": "stdout",
     "output_type": "stream",
     "text": [
      "[INFO] Tests run: 1, Failures: 0, Errors: 0, Skipped: 0, Time elapsed: 0.145 s -- in fr.univtln.bruno.samples.jaxrs.LibraryModelAuthorTest\n"
     ]
    },
    {
     "name": "stdout",
     "output_type": "stream",
     "text": [
      "[INFO] Running fr.univtln.bruno.samples.jaxrs.security.InMemoryLoginModuleTest\n"
     ]
    },
    {
     "name": "stdout",
     "output_type": "stream",
     "text": [
      "[INFO] Tests run: 3, Failures: 0, Errors: 0, Skipped: 0, Time elapsed: 0.628 s -- in fr.univtln.bruno.samples.jaxrs.security.InMemoryLoginModuleTest\n"
     ]
    },
    {
     "name": "stdout",
     "output_type": "stream",
     "text": [
      "[INFO] Running fr.univtln.bruno.samples.jaxrs.security.UserTest\n"
     ]
    },
    {
     "name": "stdout",
     "output_type": "stream",
     "text": [
      "[INFO] Tests run: 1, Failures: 0, Errors: 0, Skipped: 0, Time elapsed: 0.036 s -- in fr.univtln.bruno.samples.jaxrs.security.UserTest\n"
     ]
    },
    {
     "name": "stdout",
     "output_type": "stream",
     "text": [
      "[INFO] Running fr.univtln.bruno.samples.jaxrs.model.LibraryModelTest\n"
     ]
    },
    {
     "name": "stdout",
     "output_type": "stream",
     "text": [
      "[INFO] Tests run: 9, Failures: 0, Errors: 0, Skipped: 0, Time elapsed: 0.247 s -- in fr.univtln.bruno.samples.jaxrs.model.LibraryModelTest\n"
     ]
    },
    {
     "name": "stdout",
     "output_type": "stream",
     "text": [
      "[INFO] \n"
     ]
    },
    {
     "name": "stdout",
     "output_type": "stream",
     "text": [
      "[INFO] Results:\n"
     ]
    },
    {
     "name": "stdout",
     "output_type": "stream",
     "text": [
      "[INFO] \n"
     ]
    },
    {
     "name": "stdout",
     "output_type": "stream",
     "text": [
      "[INFO] Tests run: 14, Failures: 0, Errors: 0, Skipped: 0\n"
     ]
    },
    {
     "name": "stdout",
     "output_type": "stream",
     "text": [
      "[INFO] \n"
     ]
    },
    {
     "name": "stdout",
     "output_type": "stream",
     "text": [
      "[INFO] \n"
     ]
    },
    {
     "name": "stdout",
     "output_type": "stream",
     "text": [
      "[INFO] --- jacoco:0.8.12:report (after-unit-test-execution) @ sample-jaxrs ---\n"
     ]
    },
    {
     "name": "stdout",
     "output_type": "stream",
     "text": [
      "[INFO] Loading execution data file /home/jovyan/work/src/github/ebpro/sample-jaxrs/target/jacoco-output/jacoco-unit-tests.exec\n"
     ]
    },
    {
     "name": "stdout",
     "output_type": "stream",
     "text": [
      "[INFO] Analyzed bundle 'Sample JAX-RS' with 23 classes\n"
     ]
    },
    {
     "name": "stdout",
     "output_type": "stream",
     "text": [
      "[INFO] \n"
     ]
    },
    {
     "name": "stdout",
     "output_type": "stream",
     "text": [
      "[INFO] --- jar:3.4.2:jar (default-jar) @ sample-jaxrs ---\n"
     ]
    },
    {
     "name": "stdout",
     "output_type": "stream",
     "text": [
      "[INFO] Building jar: /home/jovyan/work/src/github/ebpro/sample-jaxrs/target/sample-jaxrs-2.0-SNAPSHOT.jar\n"
     ]
    },
    {
     "name": "stdout",
     "output_type": "stream",
     "text": [
      "[INFO] \n"
     ]
    },
    {
     "name": "stdout",
     "output_type": "stream",
     "text": [
      "[INFO] --- shade:3.6.0:shade (default) @ sample-jaxrs ---\n"
     ]
    },
    {
     "name": "stdout",
     "output_type": "stream",
     "text": [
      "[INFO] Including org.glassfish.jersey.containers:jersey-container-grizzly2-http:jar:3.1.8 in the shaded jar.\n"
     ]
    },
    {
     "name": "stdout",
     "output_type": "stream",
     "text": [
      "[INFO] Including jakarta.inject:jakarta.inject-api:jar:2.0.1 in the shaded jar.\n"
     ]
    },
    {
     "name": "stdout",
     "output_type": "stream",
     "text": [
      "[INFO] Including org.glassfish.grizzly:grizzly-http-server:jar:4.0.2 in the shaded jar.\n"
     ]
    },
    {
     "name": "stdout",
     "output_type": "stream",
     "text": [
      "[INFO] Including org.glassfish.jersey.core:jersey-common:jar:3.1.8 in the shaded jar.\n"
     ]
    },
    {
     "name": "stdout",
     "output_type": "stream",
     "text": [
      "[INFO] Including jakarta.annotation:jakarta.annotation-api:jar:2.1.1 in the shaded jar.\n"
     ]
    },
    {
     "name": "stdout",
     "output_type": "stream",
     "text": [
      "[INFO] Including org.glassfish.jersey.core:jersey-server:jar:3.1.8 in the shaded jar.\n"
     ]
    },
    {
     "name": "stdout",
     "output_type": "stream",
     "text": [
      "[INFO] Including jakarta.validation:jakarta.validation-api:jar:3.0.2 in the shaded jar.\n"
     ]
    },
    {
     "name": "stdout",
     "output_type": "stream",
     "text": [
      "[INFO] Including jakarta.ws.rs:jakarta.ws.rs-api:jar:3.1.0 in the shaded jar.\n"
     ]
    },
    {
     "name": "stdout",
     "output_type": "stream",
     "text": [
      "[INFO] Including org.glassfish.jersey.inject:jersey-hk2:jar:3.1.8 in the shaded jar.\n"
     ]
    },
    {
     "name": "stdout",
     "output_type": "stream",
     "text": [
      "[INFO] Including org.glassfish.hk2:hk2-locator:jar:3.0.6 in the shaded jar.\n"
     ]
    },
    {
     "name": "stdout",
     "output_type": "stream",
     "text": [
      "[INFO] Including org.glassfish.hk2.external:aopalliance-repackaged:jar:3.0.6 in the shaded jar.\n"
     ]
    },
    {
     "name": "stdout",
     "output_type": "stream",
     "text": [
      "[INFO] Including org.glassfish.hk2:hk2-api:jar:3.0.6 in the shaded jar.\n"
     ]
    },
    {
     "name": "stdout",
     "output_type": "stream",
     "text": [
      "[INFO] Including org.glassfish.hk2:hk2-utils:jar:3.0.6 in the shaded jar.\n"
     ]
    },
    {
     "name": "stdout",
     "output_type": "stream",
     "text": [
      "[INFO] Including org.javassist:javassist:jar:3.30.2-GA in the shaded jar.\n"
     ]
    },
    {
     "name": "stdout",
     "output_type": "stream",
     "text": [
      "[INFO] Including org.glassfish.jersey.media:jersey-media-jaxb:jar:3.1.8 in the shaded jar.\n"
     ]
    },
    {
     "name": "stdout",
     "output_type": "stream",
     "text": [
      "[INFO] Including org.glassfish.hk2:osgi-resource-locator:jar:1.0.3 in the shaded jar.\n"
     ]
    },
    {
     "name": "stdout",
     "output_type": "stream",
     "text": [
      "[INFO] Including jakarta.xml.bind:jakarta.xml.bind-api:jar:4.0.2 in the shaded jar.\n"
     ]
    },
    {
     "name": "stdout",
     "output_type": "stream",
     "text": [
      "[INFO] Including jakarta.activation:jakarta.activation-api:jar:2.1.3 in the shaded jar.\n"
     ]
    },
    {
     "name": "stdout",
     "output_type": "stream",
     "text": [
      "[INFO] Including org.glassfish.jaxb:jaxb-runtime:jar:4.0.5 in the shaded jar.\n"
     ]
    },
    {
     "name": "stdout",
     "output_type": "stream",
     "text": [
      "[INFO] Including org.glassfish.jaxb:jaxb-core:jar:4.0.5 in the shaded jar.\n"
     ]
    },
    {
     "name": "stdout",
     "output_type": "stream",
     "text": [
      "[INFO] Including org.eclipse.angus:angus-activation:jar:2.0.2 in the shaded jar.\n"
     ]
    },
    {
     "name": "stdout",
     "output_type": "stream",
     "text": [
      "[INFO] Including org.glassfish.jaxb:txw2:jar:4.0.5 in the shaded jar.\n"
     ]
    },
    {
     "name": "stdout",
     "output_type": "stream",
     "text": [
      "[INFO] Including com.sun.istack:istack-commons-runtime:jar:4.2.0 in the shaded jar.\n"
     ]
    },
    {
     "name": "stdout",
     "output_type": "stream",
     "text": [
      "[INFO] Including org.glassfish.jersey.media:jersey-media-json-jackson:jar:3.1.8 in the shaded jar.\n"
     ]
    },
    {
     "name": "stdout",
     "output_type": "stream",
     "text": [
      "[INFO] Including org.glassfish.jersey.ext:jersey-entity-filtering:jar:3.1.8 in the shaded jar.\n"
     ]
    },
    {
     "name": "stdout",
     "output_type": "stream",
     "text": [
      "[INFO] Including com.fasterxml.jackson.module:jackson-module-jakarta-xmlbind-annotations:jar:2.17.1 in the shaded jar.\n"
     ]
    },
    {
     "name": "stdout",
     "output_type": "stream",
     "text": [
      "[INFO] Including com.fasterxml.jackson.datatype:jackson-datatype-jdk8:jar:2.18.0 in the shaded jar.\n"
     ]
    },
    {
     "name": "stdout",
     "output_type": "stream",
     "text": [
      "[INFO] Including com.fasterxml.jackson.core:jackson-core:jar:2.18.0 in the shaded jar.\n"
     ]
    },
    {
     "name": "stdout",
     "output_type": "stream",
     "text": [
      "[INFO] Including com.fasterxml.jackson.core:jackson-databind:jar:2.18.0 in the shaded jar.\n"
     ]
    },
    {
     "name": "stdout",
     "output_type": "stream",
     "text": [
      "[INFO] Including com.fasterxml.jackson.core:jackson-annotations:jar:2.18.0 in the shaded jar.\n"
     ]
    },
    {
     "name": "stdout",
     "output_type": "stream",
     "text": [
      "[INFO] Including com.fasterxml.jackson.datatype:jackson-datatype-eclipse-collections:jar:2.18.0 in the shaded jar.\n"
     ]
    },
    {
     "name": "stdout",
     "output_type": "stream",
     "text": [
      "[INFO] Including org.eclipse.collections:eclipse-collections:jar:11.0.0 in the shaded jar.\n"
     ]
    },
    {
     "name": "stdout",
     "output_type": "stream",
     "text": [
      "[INFO] Including org.eclipse.collections:eclipse-collections-api:jar:11.0.0 in the shaded jar.\n"
     ]
    },
    {
     "name": "stdout",
     "output_type": "stream",
     "text": [
      "[INFO] Including org.glassfish.jersey.core:jersey-client:jar:3.1.8 in the shaded jar.\n"
     ]
    },
    {
     "name": "stdout",
     "output_type": "stream",
     "text": [
      "[INFO] Including org.glassfish.grizzly:grizzly-http2:jar:4.0.2 in the shaded jar.\n"
     ]
    },
    {
     "name": "stdout",
     "output_type": "stream",
     "text": [
      "[INFO] Including org.glassfish.grizzly:grizzly-http:jar:4.0.2 in the shaded jar.\n"
     ]
    },
    {
     "name": "stdout",
     "output_type": "stream",
     "text": [
      "[INFO] Including org.glassfish.grizzly:grizzly-framework:jar:4.0.2 in the shaded jar.\n"
     ]
    },
    {
     "name": "stdout",
     "output_type": "stream",
     "text": [
      "[INFO] Including org.glassfish.grizzly:grizzly-npn-bootstrap:jar:2.0.0 in the shaded jar.\n"
     ]
    },
    {
     "name": "stdout",
     "output_type": "stream",
     "text": [
      "[INFO] Including org.glassfish.grizzly:grizzly-npn-api:jar:2.0.0 in the shaded jar.\n"
     ]
    },
    {
     "name": "stdout",
     "output_type": "stream",
     "text": [
      "[INFO] Including org.projectlombok:lombok:jar:1.18.34 in the shaded jar.\n"
     ]
    },
    {
     "name": "stdout",
     "output_type": "stream",
     "text": [
      "[INFO] Including io.jsonwebtoken:jjwt-api:jar:0.12.6 in the shaded jar.\n"
     ]
    },
    {
     "name": "stdout",
     "output_type": "stream",
     "text": [
      "[INFO] Including io.jsonwebtoken:jjwt-impl:jar:0.12.6 in the shaded jar.\n"
     ]
    },
    {
     "name": "stdout",
     "output_type": "stream",
     "text": [
      "[INFO] Including io.jsonwebtoken:jjwt-jackson:jar:0.12.6 in the shaded jar.\n"
     ]
    },
    {
     "name": "stdout",
     "output_type": "stream",
     "text": [
      "[INFO] Dependency-reduced POM written at: /home/jovyan/work/src/github/ebpro/sample-jaxrs/dependency-reduced-pom.xml\n"
     ]
    },
    {
     "name": "stdout",
     "output_type": "stream",
     "text": [
      "[WARNING] Discovered module-info.class. Shading will break its strong encapsulation.\n"
     ]
    },
    {
     "name": "stdout",
     "output_type": "stream",
     "text": [
      "[WARNING] Discovered module-info.class. Shading will break its strong encapsulation.\n"
     ]
    },
    {
     "name": "stdout",
     "output_type": "stream",
     "text": [
      "[WARNING] Discovered module-info.class. Shading will break its strong encapsulation.\n"
     ]
    },
    {
     "name": "stdout",
     "output_type": "stream",
     "text": [
      "[WARNING] Discovered module-info.class. Shading will break its strong encapsulation.\n"
     ]
    },
    {
     "name": "stdout",
     "output_type": "stream",
     "text": [
      "[WARNING] Discovered module-info.class. Shading will break its strong encapsulation.\n"
     ]
    },
    {
     "name": "stdout",
     "output_type": "stream",
     "text": [
      "[WARNING] Discovered module-info.class. Shading will break its strong encapsulation.\n"
     ]
    },
    {
     "name": "stdout",
     "output_type": "stream",
     "text": [
      "[WARNING] Discovered module-info.class. Shading will break its strong encapsulation.\n"
     ]
    },
    {
     "name": "stdout",
     "output_type": "stream",
     "text": [
      "[WARNING] Discovered module-info.class. Shading will break its strong encapsulation.\n"
     ]
    },
    {
     "name": "stdout",
     "output_type": "stream",
     "text": [
      "[WARNING] Discovered module-info.class. Shading will break its strong encapsulation.\n"
     ]
    },
    {
     "name": "stdout",
     "output_type": "stream",
     "text": [
      "[WARNING] Discovered module-info.class. Shading will break its strong encapsulation.\n"
     ]
    },
    {
     "name": "stdout",
     "output_type": "stream",
     "text": [
      "[WARNING] Discovered module-info.class. Shading will break its strong encapsulation.\n"
     ]
    },
    {
     "name": "stdout",
     "output_type": "stream",
     "text": [
      "[WARNING] Discovered module-info.class. Shading will break its strong encapsulation.\n"
     ]
    },
    {
     "name": "stdout",
     "output_type": "stream",
     "text": [
      "[WARNING] Discovered module-info.class. Shading will break its strong encapsulation.\n"
     ]
    },
    {
     "name": "stdout",
     "output_type": "stream",
     "text": [
      "[WARNING] Discovered module-info.class. Shading will break its strong encapsulation.\n"
     ]
    },
    {
     "name": "stdout",
     "output_type": "stream",
     "text": [
      "[WARNING] Discovered module-info.class. Shading will break its strong encapsulation.\n"
     ]
    },
    {
     "name": "stdout",
     "output_type": "stream",
     "text": [
      "[WARNING] Discovered module-info.class. Shading will break its strong encapsulation.\n"
     ]
    },
    {
     "name": "stdout",
     "output_type": "stream",
     "text": [
      "[WARNING] Discovered module-info.class. Shading will break its strong encapsulation.\n"
     ]
    },
    {
     "name": "stdout",
     "output_type": "stream",
     "text": [
      "[WARNING] jackson-annotations-2.18.0.jar, jackson-core-2.18.0.jar, jackson-databind-2.18.0.jar, jackson-datatype-eclipse-collections-2.18.0.jar, jackson-datatype-jdk8-2.18.0.jar define 1 overlapping resource: \n"
     ]
    },
    {
     "name": "stdout",
     "output_type": "stream",
     "text": [
      "[WARNING]   - META-INF/LICENSE\n"
     ]
    },
    {
     "name": "stdout",
     "output_type": "stream",
     "text": [
      "[WARNING] eclipse-collections-11.0.0.jar, eclipse-collections-api-11.0.0.jar define 3 overlapping resources: \n"
     ]
    },
    {
     "name": "stdout",
     "output_type": "stream",
     "text": [
      "[WARNING]   - LICENSE-EDL-1.0.txt\n"
     ]
    },
    {
     "name": "stdout",
     "output_type": "stream",
     "text": [
      "[WARNING]   - LICENSE-EPL-1.0.txt\n"
     ]
    },
    {
     "name": "stdout",
     "output_type": "stream",
     "text": [
      "[WARNING]   - about.html\n"
     ]
    },
    {
     "name": "stdout",
     "output_type": "stream",
     "text": [
      "[WARNING] angus-activation-2.0.2.jar, aopalliance-repackaged-3.0.6.jar, hk2-api-3.0.6.jar, hk2-locator-3.0.6.jar, hk2-utils-3.0.6.jar, jakarta.activation-api-2.1.3.jar, jakarta.annotation-api-2.1.1.jar, jakarta.inject-api-2.0.1.jar, jakarta.ws.rs-api-3.1.0.jar, jakarta.xml.bind-api-4.0.2.jar, jaxb-core-4.0.5.jar, jaxb-runtime-4.0.5.jar, jersey-client-3.1.8.jar, jersey-common-3.1.8.jar, jersey-container-grizzly2-http-3.1.8.jar, jersey-entity-filtering-3.1.8.jar, jersey-hk2-3.1.8.jar, jersey-media-jaxb-3.1.8.jar, jersey-media-json-jackson-3.1.8.jar, jersey-server-3.1.8.jar, txw2-4.0.5.jar define 1 overlapping resource: \n"
     ]
    },
    {
     "name": "stdout",
     "output_type": "stream",
     "text": [
      "[WARNING]   - META-INF/NOTICE.md\n"
     ]
    },
    {
     "name": "stdout",
     "output_type": "stream",
     "text": [
      "[WARNING] angus-activation-2.0.2.jar, aopalliance-repackaged-3.0.6.jar, eclipse-collections-11.0.0.jar, eclipse-collections-api-11.0.0.jar, grizzly-framework-4.0.2.jar, grizzly-http-4.0.2.jar, grizzly-http-server-4.0.2.jar, grizzly-http2-4.0.2.jar, grizzly-npn-api-2.0.0.jar, grizzly-npn-bootstrap-2.0.0.jar, hk2-api-3.0.6.jar, hk2-locator-3.0.6.jar, hk2-utils-3.0.6.jar, istack-commons-runtime-4.2.0.jar, jackson-annotations-2.18.0.jar, jackson-core-2.18.0.jar, jackson-databind-2.18.0.jar, jackson-datatype-eclipse-collections-2.18.0.jar, jackson-datatype-jdk8-2.18.0.jar, jackson-module-jakarta-xmlbind-annotations-2.17.1.jar, jakarta.activation-api-2.1.3.jar, jakarta.annotation-api-2.1.1.jar, jakarta.inject-api-2.0.1.jar, jakarta.validation-api-3.0.2.jar, jakarta.ws.rs-api-3.1.0.jar, jakarta.xml.bind-api-4.0.2.jar, javassist-3.30.2-GA.jar, jaxb-core-4.0.5.jar, jaxb-runtime-4.0.5.jar, jersey-client-3.1.8.jar, jersey-common-3.1.8.jar, jersey-container-grizzly2-http-3.1.8.jar, jersey-entity-filtering-3.1.8.jar, jersey-hk2-3.1.8.jar, jersey-media-jaxb-3.1.8.jar, jersey-media-json-jackson-3.1.8.jar, jersey-server-3.1.8.jar, jjwt-api-0.12.6.jar, jjwt-impl-0.12.6.jar, jjwt-jackson-0.12.6.jar, lombok-1.18.34.jar, osgi-resource-locator-1.0.3.jar, sample-jaxrs-2.0-SNAPSHOT.jar, txw2-4.0.5.jar define 1 overlapping resource: \n"
     ]
    },
    {
     "name": "stdout",
     "output_type": "stream",
     "text": [
      "[WARNING]   - META-INF/MANIFEST.MF\n"
     ]
    },
    {
     "name": "stdout",
     "output_type": "stream",
     "text": [
      "[WARNING] grizzly-framework-4.0.2.jar, grizzly-http-4.0.2.jar, grizzly-http-server-4.0.2.jar, grizzly-http2-4.0.2.jar, jakarta.inject-api-2.0.1.jar define 1 overlapping resource: \n"
     ]
    },
    {
     "name": "stdout",
     "output_type": "stream",
     "text": [
      "[WARNING]   - META-INF/LICENSE.txt\n"
     ]
    },
    {
     "name": "stdout",
     "output_type": "stream",
     "text": [
      "[WARNING] jackson-core-2.18.0.jar, jackson-databind-2.18.0.jar, jackson-datatype-eclipse-collections-2.18.0.jar, jackson-datatype-jdk8-2.18.0.jar, jackson-module-jakarta-xmlbind-annotations-2.17.1.jar define 1 overlapping classes: \n"
     ]
    },
    {
     "name": "stdout",
     "output_type": "stream",
     "text": [
      "[WARNING]   - META-INF.versions.9.module-info\n"
     ]
    },
    {
     "name": "stdout",
     "output_type": "stream",
     "text": [
      "[WARNING] angus-activation-2.0.2.jar, aopalliance-repackaged-3.0.6.jar, hk2-api-3.0.6.jar, hk2-locator-3.0.6.jar, hk2-utils-3.0.6.jar, jakarta.activation-api-2.1.3.jar, jakarta.annotation-api-2.1.1.jar, jakarta.ws.rs-api-3.1.0.jar, jakarta.xml.bind-api-4.0.2.jar, jaxb-core-4.0.5.jar, jaxb-runtime-4.0.5.jar, jersey-client-3.1.8.jar, jersey-common-3.1.8.jar, jersey-container-grizzly2-http-3.1.8.jar, jersey-entity-filtering-3.1.8.jar, jersey-hk2-3.1.8.jar, jersey-media-jaxb-3.1.8.jar, jersey-media-json-jackson-3.1.8.jar, jersey-server-3.1.8.jar, txw2-4.0.5.jar define 1 overlapping resource: \n"
     ]
    },
    {
     "name": "stdout",
     "output_type": "stream",
     "text": [
      "[WARNING]   - META-INF/LICENSE.md\n"
     ]
    },
    {
     "name": "stdout",
     "output_type": "stream",
     "text": [
      "[WARNING] jersey-common-3.1.8.jar, jersey-media-json-jackson-3.1.8.jar, jersey-server-3.1.8.jar define 1 overlapping resource: \n"
     ]
    },
    {
     "name": "stdout",
     "output_type": "stream",
     "text": [
      "[WARNING]   - META-INF/NOTICE.markdown\n"
     ]
    },
    {
     "name": "stdout",
     "output_type": "stream",
     "text": [
      "[WARNING] jackson-annotations-2.18.0.jar, jackson-core-2.18.0.jar, jackson-databind-2.18.0.jar, jackson-datatype-jdk8-2.18.0.jar define 1 overlapping resource: \n"
     ]
    },
    {
     "name": "stdout",
     "output_type": "stream",
     "text": [
      "[WARNING]   - META-INF/NOTICE\n"
     ]
    },
    {
     "name": "stdout",
     "output_type": "stream",
     "text": [
      "[WARNING] grizzly-npn-api-2.0.0.jar, grizzly-npn-bootstrap-2.0.0.jar define 5 overlapping classes: \n"
     ]
    },
    {
     "name": "stdout",
     "output_type": "stream",
     "text": [
      "[WARNING]   - org.glassfish.grizzly.npn.AlpnClientNegotiator\n"
     ]
    },
    {
     "name": "stdout",
     "output_type": "stream",
     "text": [
      "[WARNING]   - org.glassfish.grizzly.npn.AlpnServerNegotiator\n"
     ]
    },
    {
     "name": "stdout",
     "output_type": "stream",
     "text": [
      "[WARNING]   - org.glassfish.grizzly.npn.ClientSideNegotiator\n"
     ]
    },
    {
     "name": "stdout",
     "output_type": "stream",
     "text": [
      "[WARNING]   - org.glassfish.grizzly.npn.NegotiationSupport\n"
     ]
    },
    {
     "name": "stdout",
     "output_type": "stream",
     "text": [
      "[WARNING]   - org.glassfish.grizzly.npn.ServerSideNegotiator\n"
     ]
    },
    {
     "name": "stdout",
     "output_type": "stream",
     "text": [
      "[WARNING] maven-shade-plugin has detected that some files are\n"
     ]
    },
    {
     "name": "stdout",
     "output_type": "stream",
     "text": [
      "[WARNING] present in two or more JARs. When this happens, only one\n"
     ]
    },
    {
     "name": "stdout",
     "output_type": "stream",
     "text": [
      "[WARNING] single version of the file is copied to the uber jar.\n"
     ]
    },
    {
     "name": "stdout",
     "output_type": "stream",
     "text": [
      "[WARNING] Usually this is not harmful and you can skip these warnings,\n"
     ]
    },
    {
     "name": "stdout",
     "output_type": "stream",
     "text": [
      "[WARNING] otherwise try to manually exclude artifacts based on\n"
     ]
    },
    {
     "name": "stdout",
     "output_type": "stream",
     "text": [
      "[WARNING] mvn dependency:tree -Ddetail=true and the above output.\n"
     ]
    },
    {
     "name": "stdout",
     "output_type": "stream",
     "text": [
      "[WARNING] See https://maven.apache.org/plugins/maven-shade-plugin/\n"
     ]
    },
    {
     "name": "stdout",
     "output_type": "stream",
     "text": [
      "[INFO] Attaching shaded artifact.\n"
     ]
    },
    {
     "name": "stdout",
     "output_type": "stream",
     "text": [
      "[INFO] ------------------------------------------------------------------------\n"
     ]
    },
    {
     "name": "stdout",
     "output_type": "stream",
     "text": [
      "[INFO] BUILD SUCCESS\n"
     ]
    },
    {
     "name": "stdout",
     "output_type": "stream",
     "text": [
      "[INFO] ------------------------------------------------------------------------\n"
     ]
    },
    {
     "name": "stdout",
     "output_type": "stream",
     "text": [
      "[INFO] Total time:  8.686 s\n"
     ]
    },
    {
     "name": "stdout",
     "output_type": "stream",
     "text": [
      "[INFO] Finished at: 2024-10-03T13:06:14Z\n"
     ]
    },
    {
     "name": "stdout",
     "output_type": "stream",
     "text": [
      "[INFO] ------------------------------------------------------------------------\n"
     ]
    }
   ],
   "source": [
    "//| output: false\n",
    "//| echo: false\n",
    "    \n",
    "// UPDATE SAMPLE SOURCE CODE\n",
    "\n",
    "String script=\"\"\"\n",
    "GITHUB_REPO=ebpro/sample-jaxrs\n",
    "GITHUB_URL=https://github.com/${GITHUB_REPO}\n",
    "BRANCH=develop\n",
    "SRC_DIR=/home/jovyan/work/src/github/${GITHUB_REPO}\n",
    "gitpuller ${GITHUB_URL} ${BRANCH} ${SRC_DIR}\n",
    "cd ${SRC_DIR}\n",
    "mvn clean package\n",
    "\"\"\";\n",
    "IJava.getKernelInstance().getMagics().applyCellMagic(\"shell\",List.of(\"\"),script);  \n",
    "\n",
    "\n",
    "%jars \"/home/jovyan/work/src/github/ebpro/sample-jaxrs/target/sample-jaxrs-*-withdependencies.jar\";"
   ]
  },
  {
   "cell_type": "markdown",
   "id": "72ad0a56",
   "metadata": {},
   "source": [
    "::: {.content-visible when-profile=\"slides\"}\n",
    "## Objectifs\n",
    ":::\n",
    "\n",
    "Ce document présente les service Web REST en général et par la pratique en Java. \n",
    "\n",
    "Il s'appuie sur un exemple simple d'application : [https://github.com/ebpro/sample-jaxrs](https://github.com/ebpro/sample-jaxrs) qui servira à illustrer les notions et sera étudiée en détail dans la partie pratique."
   ]
  },
  {
   "cell_type": "markdown",
   "id": "481f2f86-337f-48b7-817c-90ce67b4a46c",
   "metadata": {},
   "source": [
    "::: {.content-visible when-profile=\"slides\"}\n",
    "## L'Approche REST (REpresentational State Transfer)\n",
    ":::\n",
    "\n",
    "::: {.content-visible when-profile=\"notes\"}\n",
    "L’idée générale de l'approche REST (REpresentational State Transfer) pour construire une interface de programmation (API) est d’offrir un accès distant à des ressources via une interface commune construite ~~au dessus de~~ \"**en**\" http. On parle d'approche RESTful quand l'interface d'une application est conforme à une certaine philosophie (il ne s'agit pas d'une norme).\n",
    "\n",
    "En particulier, le fait que l'API est sans état côté serveur permet de l'utiliser de façon transparente même en cas de serveur proxy/cache.\n",
    ":::\n",
    "\n",
    "::: {.content-visible when-profile=\"slides\"}\n",
    "\n",
    "- Qu'est-ce que REST ?\n",
    "  - **REpresentational State Transfer**\n",
    "  - Un style architectural pour la conception de services web\n",
    "  - Offre un accès distant à des ressources via HTTP\n",
    "- Principes de REST\n",
    "  - **Interface uniforme** en HTTP\n",
    "  - **Stateless** : Chaque requête est indépendante\n",
    "  - **Cacheable** : Possibilité de mettre en cache les réponses\n",
    "  - **Client-Server** : Séparation claire des responsabilités\n",
    ":::\n",
    "\n",
    "::: {.content-visible when-profile=\"slides\"}\n",
    "## RESTful\n",
    "\n",
    "- Une approche conformant à ces principes\n",
    "- Flexibilité dans la conception des API\n",
    "- Pas une norme, mais une recommandation d'architecture\n",
    ":::\n",
    "\n",
    "::: {.callout-important}\n",
    "RESTfull est une approche d'API client/serveur suivant la logique de navigation dans un hypermedia. On parle d'[HATEOS](https://restcookbook.com/Basics/hateoas) (Hypermedia As The Engine Of Application State).\n",
    ":::\n",
    "\n",
    "::: {.content-visible when-profile=\"slides\"}\n",
    "## Protocole de communication\n",
    ":::\n",
    "\n",
    "Pour définir un protocole de communication, il faut généralement définir :\n",
    "\n",
    "- un système d'identification (d'adressage) des ressources manipulées, \n",
    "- un protocole de communication, \n",
    "- un format d'échange de données éventuellement typées,\n",
    "- un système de gestion des erreurs. \n",
    "\n",
    "La logique RESTfull est d'utiliser tout ce que propose HTTP pour écrire une API **en** HTTP."
   ]
  },
  {
   "cell_type": "markdown",
   "id": "c4fa3431-86cd-461b-b1c7-c8f19aff68b7",
   "metadata": {},
   "source": [
    "::: {.content-visible when-profile=\"notes\"}\n",
    "## L'adressage des ressources\n",
    ":::\n",
    "::: {.content-visible when-profile=\"slides\"}\n",
    "## L'adressage des ressources\n",
    ":::\n",
    "\n",
    "::: {.callout-important}\n",
    "Les ressources (ou ensembles de ressources) de l'application sont identifiées par des [URI](https://tools.ietf.org/html/rfc3986). \n",
    "Les URL sont une sorte particulière d'URI qui indique un moyen d'accès en plus de les identifier de façon unique.\n",
    ":::\n",
    "\n",
    "Il n'y a pas de standard pour les API REST. Il vaut généralement mieux rester simple et cohérent. Quelques pratiques sont utilisées classiquement :\n",
    "\n",
    "::: {.fragment .fade-in-then-semi-out}\n",
    "- On utilise des noms (pas des verbes) au pluriel pour les ressources :\n",
    "\n",
    "    ```{python}\n",
    "    # Toutes les personnes\n",
    "    http://MyServer/MyApp/Persons\n",
    "    ```\n",
    ":::\n",
    "\n",
    "::: {.fragment .fade-in-then-semi-out}\n",
    "- <span class=\"content-visible\" when-profile=\"notes\">La ou les informations qui permettent d'identifier une ressource sont inclues dans l'URL et le plus possible dans le chemin plutôt que dans la Query String (par exemple un identifiant) :</span><span class=\"content-visible\" when-profile=\"slides\">Utilisation du chemin pour inclure \"paramètres\"</span>\n",
    "\n",
    "    ```{python}\n",
    "    # La personne d'identifiant 1\n",
    "    http://MyServer/MyApp/Persons/1\n",
    "    ```\n",
    ":::"
   ]
  },
  {
   "cell_type": "markdown",
   "id": "d5d674f3",
   "metadata": {},
   "source": [
    "::: {.content-visible when-profile=\"slides\"}\n",
    "### L'adressage des ressources (\"Jointures\")\n",
    ":::\n",
    "\n",
    "- <span class=\"content-visible\" when-profile=\"notes\">On évite les \"jointures\" dans les chemins. Si on le fait, l'ordre doit être constant et logique (la fin du chemin correspond toujours à la ressource retournée).</span><span class=\"content-visible\" when-profile=\"slides\">Eviter les \"jointures\".</span>\n",
    "  - Les chiens de la personne 1      \n",
    "    - <del>`http://MyServer/MyApp/Persons/1/Dogs`</del>\n",
    "    - `http://MyServer/MyApp/Dogs?master_id=1`\n",
    "\n"
   ]
  },
  {
   "cell_type": "markdown",
   "id": "402e48d4",
   "metadata": {},
   "source": [
    "::: {.content-visible when-profile=\"slides\"}\n",
    "### L'adressage des ressources (Pagination et tri)\n",
    ":::\n",
    "\n",
    "- <span class=\"content-visible\" when-profile=\"notes\">On utilise la pagination, le filtrage et le tri (via les Query Strings) pour les requêtes complexes et pour contrôler le volume des données retournées. A noter la possibilité d'utiliser les [Matrix Params](https://www.w3.org/DesignIssues/MatrixURIs.htmlhttps://www.w3.org/DesignIssues/MatrixURIs.html) même s'ils ne sont pas standards.</span><span class=\"content-visible\" when-profile=\"slides\">Pagination</span>\n",
    "  - La deuxième page de personnes en utilisant des pages de 10 personnes.\n",
    "    - `http://MyServer/MyApp/Persons?page=2&page_size=10`\n",
    "    - `http://MyServer/MyApp/Persons;page=2;page_size=10` (avec des \n",
    "    Matrix Params)\n",
    "  - filtre qui trie par ordre decroissant de date de création, puis par titre\n",
    "    - `http://MyServer/MyApp/Persons?page=&page_size=10&sort=name,firstname,-created,title`\n",
    "- <span class=\"content-visible\" when-profile=\"notes\">Une projection explicite de certains champs des données peut être envisagée dans la ressource.</span><span class=\"content-visible\" when-profile=\"slides\">Projection</span>\n",
    "  - La personne d'identifiant 1 restreinte uniquement à certains champs\n",
    "    - `http://MyServer/MyApp/Persons/1?fields=email,firstname,lastname`\n",
    "- <span class=\"content-visible\" when-profile=\"notes\">Des éléments \"administatifs\" peuvent/doivent être proposés (par exemple pour gérer la version d'une API en ajoutant /api/v1, /api/v2, ... au début du chemin).</span><span class=\"content-visible\" when-profile=\"slides\">Version : préfixes `/api/v1`, `/api/v2`, ... </span>"
   ]
  },
  {
   "cell_type": "markdown",
   "id": "8fe08a9f-5102-49ad-9c22-a8e11904cc2f",
   "metadata": {},
   "source": [
    "## Le protocole d'échange\n",
    "\n",
    "::: {.content-visible when-profile=\"notes\"}\n",
    "\n",
    "::: {.callout-important}\n",
    "Les actions sur les ressources (identifiées par des URIs) sont associées aux verbes (méthodes) standards du protocole HTTP. \n",
    ":::\n",
    "\n",
    "REST s'appuie sur le protocole HTTP (HyperText Transfert Protocol) qui est défini dans les RFC 7230 à 7237. La [RFC 7231](https://tools.ietf.org/html/rfc7231) défini les [méthodes](https://tools.ietf.org/html/rfc7231#page-24) et les [codes de retour](https://tools.ietf.org/html/rfc7231#section-6).\n",
    "\n",
    "Une méthode est \"sure\" (_safe_) si elle ne modifie pas l'état de serveur.\n",
    "\n",
    "Une méthode est idempotente (_idempotent_) si l'effet attendu par des appels multiples est identique à un appel unique de la même requête. Les méthodes sures sont donc idempotentes.\n",
    ":::\n",
    "\n",
    "  | Verbe HTTP | Utilisation | Contraintes |\n",
    "  |:---:| --- | --- | \n",
    "  | **[GET](https://tools.ietf.org/html/rfc7231#section-4.3.1)** | Accès à une ressource identifiée dans l'URL (il peut s'agir d'une collection). | Safe, Idempotent    |\n",
    "  | **[HEAD](https://tools.ietf.org/html/rfc7231#section-4.3.2)** | comme GET mais sans le corps de la requête (seul le header http est retourné). Utile pour savoir si une ressource a changé. | Safe, Idempotent  |\n",
    "  | **[POST](https://tools.ietf.org/html/rfc7231#section-4.3.3)** | création d’une ressource sans donner l'identifiant. | |\n",
    "  | **[PUT](https://tools.ietf.org/html/rfc7231#section-4.3.4)**  | mise à jour complète d'une ressource identifiée (voire création en donnant l'identifiant). | Idempotent |\n",
    "  | **[DELETE](https://tools.ietf.org/html/rfc7231#section-4.3.5)**  | suppression d’une ressource. | Idempotent |\n",
    "  | **[OPTIONS](https://tools.ietf.org/html/rfc7231#section-4.3.7)** | liste les actions possibles sur une ressource. | Safe, Idempotent |\n",
    "  | **[PATCH](https://tools.ietf.org/html/rfc5789)** | [RFC 5789](https://tools.ietf.org/html/rfc5789), mises à jour partielle d'une ressource. | |\n",
    "\n",
    "::: {.content-visible when-profile=\"notes\"}\n",
    "Donc en particulier GET ne modifie rien, plusieurs appels à PUT n'ajoutent ou n'appliquent une modification qu'une fois mais plusieurs appels à POST en ajoutent plusieurs.\n",
    "\n",
    "Attention, certains proxies HTTP peuvent empêcher certaines actions en dehors de GET et POST (cf. X-HTTP-Method-Override). Cela peut donc conduire à devoir enfreindre les règles ci-dessus.\n",
    ":::"
   ]
  },
  {
   "cell_type": "markdown",
   "id": "dac49006-d837-4988-9a0d-87c97f86c1c8",
   "metadata": {},
   "source": [
    "::: {.content-visible when-profile=\"slides\"}\n",
    "## Endpoints\n",
    ":::\n",
    "\n",
    "Un **endpoint** REST est défini par un verbe HTTP et une URL.\n",
    "\n",
    " * **Obtenir toutes les personnes** :\n",
    "   * `GET http://MyServer/MyApp/Persons`      \n",
    " * **Obtenir une personne précise par identifiant** :\n",
    "   * `GET http://MyServer/MyApp/Persons/1`\n",
    " * **Obtenir toutes les personnes entre 7 et 16ans** (avec un filtre) :\n",
    "   * `GET http://MyServer/MyApp/Persons?ageMin=7&ageMax=16`      \n",
    " * **Supprimer toutes personnes**     \n",
    "   * `DELETE http://MyServer/MyApp/Persons`      \n",
    " * **Supprimer une personne**     \n",
    "   * `DELETE http://MyServer/MyApp/Persons/1`      \n",
    "      "
   ]
  },
  {
   "cell_type": "markdown",
   "id": "74858750-25a1-447c-b6f8-01d33fbadfef",
   "metadata": {},
   "source": [
    "## La représentation des ressources\n",
    "\n",
    "::: {.callout-important}\n",
    "Les resources sont généralement représentées et échangées à l'aide de langages autodescriptifs comme XML ou JSON.\n",
    ":::\n",
    "    \n",
    "Par exemple, une personne peut être présentée :\n",
    "\n",
    ":::: {.columns}\n",
    "\n",
    "::: {.column width=\"50%\"}\n",
    "```xml\n",
    "<?xml version='1.0'?>\n",
    "<person id='1'>\n",
    "    <lastname>Doe</lastname>\n",
    "    <firstname>John</firstname>\n",
    "</person>\n",
    "```\n",
    ":::\n",
    "\n",
    "::: {.column width=\"50%\"}\n",
    "```json\n",
    "{\n",
    "  \"person\": {\n",
    "    \"-id\": 1,\n",
    "    \"lastname\": \"Doe\",\n",
    "    \"firstname\": \"John\"\n",
    "  }\n",
    "}\n",
    "```\n",
    ":::\n",
    "::::\n",
    "\n",
    "::: {.content-visible when-profile=\"notes\"}\n",
    "Les types de données envoyées ou attendues sont indiqués dans l'entête de la requête HTTP par `Content-Type:` et `Accept:`. Pour cela, on utilise les Internet Media Types (ex MIME Type - Multipurpose Internet Mail Extensions). Il s'agit d'une liste standard de formats et de sous-formats d'échange de données (text/plain, text/xml, application/json, ...).\n",
    ":::\n",
    "\n",
    "::: {.content-visible when-profile=\"slides\"}\n",
    "- Les types de données envoyées ou attendues sont spécifiés dans l'entête de la requête HTTP par les champs `Content-Type:` et `Accept:`\n",
    "- Cette spécification utilise les Internet Media Types (ex. MIME Type - Multipurpose Internet Mail Extensions)\n",
    "- Il s'agit d'une liste standard de formats et sous-formats d'échange de données, incluant des exemples tels que text/plain, text/xml, application/json, ...\n",
    ":::\n"
   ]
  },
  {
   "cell_type": "markdown",
   "id": "9c1f0b90-2e4e-4fee-9f73-2984d3898ddf",
   "metadata": {},
   "source": [
    "::: {.content-visible when-profile=\"slides\"}\n",
    "\n",
    "### Exemple de graphe\n",
    "\n",
    ":::\n",
    "\n",
    "L'exemple ci-dessous sérialise des objets Java qui représente un auteur et un livre en JSON et en XML. (Le détail est expliqué plus loin)."
   ]
  },
  {
   "cell_type": "code",
   "execution_count": 2,
   "id": "b0076eed-c475-4540-bc7d-b4a2d386b3fa",
   "metadata": {},
   "outputs": [
    {
     "data": {
      "text/markdown": [
       "```json\n",
       "{\n",
       "  \"books\" : [ {\n",
       "    \"id\" : 1,\n",
       "    \"title\" : \"Effective Java (English Edition)\",\n",
       "    \"authors\" : [ 1 ]\n",
       "  } ],\n",
       "  \"authors\" : [ {\n",
       "    \"id\" : 1,\n",
       "    \"name\" : \"Bloch\",\n",
       "    \"firstname\" : \"Joshua\",\n",
       "    \"books\" : [ 1 ]\n",
       "  } ]\n",
       "}\n",
       "```\n",
       "\n",
       "---\n",
       "```xml\n",
       "<?xml version=\"1.0\" encoding=\"UTF-8\" standalone=\"yes\"?>\n",
       "<ebjax:library xmlns:ebjax=\"http://bruno.univ-tln.fr/sample-jaxrs\" xmlns:xs=\"http://www.w3.org/2001/XMLSchema\">\n",
       "    <authors>\n",
       "        <author id=\"Author-1\">\n",
       "            <id>1</id>\n",
       "            <name>Bloch</name>\n",
       "            <firstname>Joshua</firstname>\n",
       "            <books>\n",
       "                <book>Book-1</book>\n",
       "            </books>\n",
       "        </author>\n",
       "    </authors>\n",
       "    <books>\n",
       "        <book id=\"Book-1\">\n",
       "            <id>1</id>\n",
       "            <title>Effective Java (English Edition)</title>\n",
       "            <authors>\n",
       "                <author>Author-1</author>\n",
       "            </authors>\n",
       "        </book>\n",
       "    </books>\n",
       "</ebjax:library>\n",
       "\n",
       "```"
      ],
      "text/plain": [
       "```json\n",
       "{\n",
       "  \"books\" : [ {\n",
       "    \"id\" : 1,\n",
       "    \"title\" : \"Effective Java (English Edition)\",\n",
       "    \"authors\" : [ 1 ]\n",
       "  } ],\n",
       "  \"authors\" : [ {\n",
       "    \"id\" : 1,\n",
       "    \"name\" : \"Bloch\",\n",
       "    \"firstname\" : \"Joshua\",\n",
       "    \"books\" : [ 1 ]\n",
       "  } ]\n",
       "}\n",
       "```\n",
       "\n",
       "---\n",
       "```xml\n",
       "<?xml version=\"1.0\" encoding=\"UTF-8\" standalone=\"yes\"?>\n",
       "<ebjax:library xmlns:ebjax=\"http://bruno.univ-tln.fr/sample-jaxrs\" xmlns:xs=\"http://www.w3.org/2001/XMLSchema\">\n",
       "    <authors>\n",
       "        <author id=\"Author-1\">\n",
       "            <id>1</id>\n",
       "            <name>Bloch</name>\n",
       "            <firstname>Joshua</firstname>\n",
       "            <books>\n",
       "                <book>Book-1</book>\n",
       "            </books>\n",
       "        </author>\n",
       "    </authors>\n",
       "    <books>\n",
       "        <book id=\"Book-1\">\n",
       "            <id>1</id>\n",
       "            <title>Effective Java (English Edition)</title>\n",
       "            <authors>\n",
       "                <author>Author-1</author>\n",
       "            </authors>\n",
       "        </book>\n",
       "    </books>\n",
       "</ebjax:library>\n",
       "\n",
       "```"
      ]
     },
     "execution_count": 2,
     "metadata": {},
     "output_type": "execute_result"
    }
   ],
   "source": [
    "//| output: true\n",
    "//| echo: false\n",
    "\n",
    "import fr.univtln.bruno.samples.jaxrs.model.Library;\n",
    "import fr.univtln.bruno.samples.jaxrs.model.Library.Author;\n",
    "import com.fasterxml.jackson.databind.ObjectMapper;\n",
    "import com.fasterxml.jackson.databind.SerializationFeature;\n",
    "import jakarta.xml.bind.JAXBContext;\n",
    "import jakarta.xml.bind.Marshaller;\n",
    "//Création d'un auteur et d'un livre en Java\n",
    "Library.demoLibrary.removesAuthors();\n",
    "Author author1 = Library.Author.builder().firstname(\"Joshua\").name(\"Bloch\").build();\n",
    "Library.demoLibrary.addAuthor(author1);\n",
    "Library.demoLibrary.addBook(Library.Book.builder().title(\"Effective Java (English Edition)\").authors(Set.of(author1)).build());\n",
    "\n",
    "//Transformation en JSON\n",
    "ObjectMapper objectMapper = new ObjectMapper().enable(SerializationFeature.INDENT_OUTPUT);\n",
    "\n",
    "//Transformation en XML\n",
    "Marshaller marshaller = JAXBContext.newInstance(Library.class).createMarshaller();\n",
    "marshaller.setProperty(Marshaller.JAXB_FORMATTED_OUTPUT, true);\n",
    "StringWriter sw = new StringWriter();\n",
    "marshaller.marshal(Library.demoLibrary, sw);\n",
    "\n",
    "//Affichage\n",
    "render(\"```json\\n\"+objectMapper.writeValueAsString(Library.demoLibrary)+\"\\n```\\n\\n\"+\n",
    "       \"---\\n\"+\n",
    "       \"```xml\\n\"+sw.toString()+\"\\n```\", \"text/markdown\");"
   ]
  },
  {
   "cell_type": "markdown",
   "id": "eee65d11-b567-4587-8eb0-a4e789cd3436",
   "metadata": {},
   "source": [
    "## Les code de retours\n",
    "\n",
    "::: {.content-visible when-profile=\"notes\"}\n",
    "Le protocole HTTP défini un ensemble de [codes de retours](https://tools.ietf.org/html/rfc7231#section-6). Il est donc possible d'utiliser ces codes standards comme code de retour pour indiquer comment l'opération a réussi ou pourquoi elle a échoué.\n",
    ":::\n",
    "\n",
    "::: {.callout-important}\n",
    "Le code de retour des méthode est un code HTTP. Il est indiqué de façon standard dans l'entête de la réponse et peut être répété dans le contenu si une enveloppe est proposée.\n",
    " \n",
    ":::\n",
    "\n",
    "::: {.content-visible when-profile=\"notes\"}\n",
    "- Le code de retour des méthodes est un code HTTP.\n",
    "- Il est indiqué de façon standard dans l'entête de la réponse.\n",
    "- Il peut être répété dans le contenu si une enveloppe est proposée.\n",
    ":::\n",
    "\n",
    "::: {.content-visible when-profile=\"slides\"}\n",
    "### Succès\n",
    ":::\n",
    "\n",
    "|Code| Signification | Usage |\n",
    "|--- | --- | --- |\n",
    "|200| Ok | Requête traitée avec succès.|\n",
    "|201| Created | Nouvelle ressource créée.|\n",
    "|204| No Content | Pas de contenu, pas exmple lors d'une requête DELETE réussie.|\n",
    "|206| Partial Content | Seulement une partie de résultat est retourné par exemple en cas de pagination (non explicite). |\n",
    "|304| Not Modified | Utilisation du cache possible. |\n",
    "\n",
    "::: {.content-visible when-profile=\"slides\"}\n",
    "### Echec\n",
    ":::\n",
    "\n",
    "|Code| Signification | Usage |\n",
    "|--- | --- | --- |\n",
    "|400| Bad Request | La requête est invalide et ne peut pas être traitée par le serveur. |\n",
    "|401| Unauthorized | La requête nécessite que le client soit authentifié. |\n",
    "|403| Forbidden | Le client est authentifié mais l’utilisateur n’est pas autorisé à accéder à cette ressource. |\n",
    "|404| Not Found | La ressource demandée n’existe pas. |\n",
    "|500| Internal Server Error | C'est une erreur générique de fonctionnement, elle devrait toujours être accompagnée d'une description |\n"
   ]
  },
  {
   "cell_type": "markdown",
   "id": "467dab46-38d9-47d4-880f-4973e9ce0f9a",
   "metadata": {},
   "source": [
    "## Un échange REST = un échange HTTP\n",
    "\n",
    "::: {.callout-important}\n",
    "Un échange d'une API REST correspond donc exactement à un échange http.\n",
    ":::\n",
    "\n",
    "::: {.content-visible when-profile=\"notes\"}\n",
    "- Une requête HTTP \n",
    "  - composée d'un verbe, d'une URL, de la version de HTTP utilisée, d'un en-tête (une liste de couples `nom:valeur` par exemple `Content-Type: text/xml`) et un corps éventuellement vide (les données envoyées).  \n",
    "- Une réponse HTTP \n",
    "  - composée d'un code de retour, de meta données dans l'en-tête et d'un corps qui contient les données. Le corps est éventuellement encapsulé dans une \"enveloppe\" qui reprend les meta données pour faciliter leur traitement.\n",
    ":::  \n",
    "\n",
    "::: {.content-visible when-profile=\"slides\"}\n",
    "- Requête HTTP\n",
    "  - Verbe, URL, version HTTP, en-tête, corps (éventuellement vide).\n",
    "- Réponse HTTP\n",
    "  - Code de retour, métadonnées dans l'en-tête, corps (éventuellement encapsulé).  \n",
    "  \n",
    ":::\n"
   ]
  },
  {
   "cell_type": "markdown",
   "id": "8cc419d1-cbd7-4518-b252-2131080fa5ba",
   "metadata": {},
   "source": [
    "## Quelques exemples complets\n",
    "\n",
    "Requête de création d'une personne :\n",
    "\n",
    "```http\n",
    "POST http://MyServer:8080/MyApp/Persons/\n",
    "Host: MyServer:8080\n",
    "Content-Type: application/json; charset=utf-8\n",
    "Content-Length: 36\n",
    "{\"lastname\": \"Doe\",\n",
    " \"firstname\": \"John\"}\n",
    "```"
   ]
  },
  {
   "cell_type": "markdown",
   "id": "1a776f05-73f0-49b6-8ffe-ca1fe80001bf",
   "metadata": {},
   "source": [
    "Requête de modification d'une personne (`id` dans l'URL):\n",
    "\n",
    "```http\n",
    "PUT http://MyServer:8080/MyApp/Persons/1\n",
    "Host: MyServer:8080\n",
    "Content-Type: application/json; charset=utf-8\n",
    "Content-Length: 12\n",
    "{\"age\":\"18\"}\n",
    "```"
   ]
  },
  {
   "cell_type": "markdown",
   "id": "23e5bbad-3097-4c69-9c07-3f2fb1ef5464",
   "metadata": {},
   "source": [
    "## Utilisation\n",
    "\n",
    "Une requête REST peut être envoyée par programmation ou en utilisant un programme dédié comme [curl](https://curl.se/) en ligne de commande, [`postman`](https://www.postman.com/)  pour chrome ou [`RestClient`](https://addons.mozilla.org/fr/firefox/addon/restclient/) pour firefox. \n",
    "\n",
    "Regardez les options de la commande `curl` pour réaliser des requêtes HTTP. \n",
    "\n",
    "La requête suivante utilise la commande `curl` pour soumettre une requête REST GET à l'API de GitHub pour consulter le profile du compte `ebpro`. Elle affiche le détails des requêtes et réponses HTTP"
   ]
  },
  {
   "cell_type": "code",
   "execution_count": 3,
   "id": "a316bff1-f0f9-4c70-926c-988c57c1d0ac",
   "metadata": {},
   "outputs": [
    {
     "name": "stdout",
     "output_type": "stream",
     "text": [
      "HTTP/2 200 \n"
     ]
    },
    {
     "name": "stdout",
     "output_type": "stream",
     "text": [
      "date: Thu, 03 Oct 2024 13:06:16 GMT\n"
     ]
    },
    {
     "name": "stdout",
     "output_type": "stream",
     "text": [
      "content-type: application/json; charset=utf-8\n"
     ]
    },
    {
     "name": "stdout",
     "output_type": "stream",
     "text": [
      "cache-control: public, max-age=60, s-maxage=60\n"
     ]
    },
    {
     "name": "stdout",
     "output_type": "stream",
     "text": [
      "vary: Accept,Accept-Encoding, Accept, X-Requested-With\n"
     ]
    },
    {
     "name": "stdout",
     "output_type": "stream",
     "text": [
      "etag: W/\"fcf21b6b6d9f375971255869daf9179752a1890d0d0ce3caac9416c27c134b66\"\n"
     ]
    },
    {
     "name": "stdout",
     "output_type": "stream",
     "text": [
      "last-modified: Sat, 28 Sep 2024 12:40:18 GMT\n"
     ]
    },
    {
     "name": "stdout",
     "output_type": "stream",
     "text": [
      "x-github-media-type: github.v3; format=json\n"
     ]
    },
    {
     "name": "stdout",
     "output_type": "stream",
     "text": [
      "x-github-api-version-selected: 2022-11-28\n"
     ]
    },
    {
     "name": "stdout",
     "output_type": "stream",
     "text": [
      "access-control-expose-headers: ETag, Link, Location, Retry-After, X-GitHub-OTP, X-RateLimit-Limit, X-RateLimit-Remaining, X-RateLimit-Used, X-RateLimit-Resource, X-RateLimit-Reset, X-OAuth-Scopes, X-Accepted-OAuth-Scopes, X-Poll-Interval, X-GitHub-Media-Type, X-GitHub-SSO, X-GitHub-Request-Id, Deprecation, Sunset\n"
     ]
    },
    {
     "name": "stdout",
     "output_type": "stream",
     "text": [
      "access-control-allow-origin: *\n"
     ]
    },
    {
     "name": "stdout",
     "output_type": "stream",
     "text": [
      "strict-transport-security: max-age=31536000; includeSubdomains; preload\n"
     ]
    },
    {
     "name": "stdout",
     "output_type": "stream",
     "text": [
      "x-frame-options: deny\n"
     ]
    },
    {
     "name": "stdout",
     "output_type": "stream",
     "text": [
      "x-content-type-options: nosniff\n"
     ]
    },
    {
     "name": "stdout",
     "output_type": "stream",
     "text": [
      "x-xss-protection: 0\n"
     ]
    },
    {
     "name": "stdout",
     "output_type": "stream",
     "text": [
      "referrer-policy: origin-when-cross-origin, strict-origin-when-cross-origin\n"
     ]
    },
    {
     "name": "stdout",
     "output_type": "stream",
     "text": [
      "content-security-policy: default-src 'none'\n"
     ]
    },
    {
     "name": "stdout",
     "output_type": "stream",
     "text": [
      "server: github.com\n"
     ]
    },
    {
     "name": "stdout",
     "output_type": "stream",
     "text": [
      "x-ratelimit-limit: 60\n"
     ]
    },
    {
     "name": "stdout",
     "output_type": "stream",
     "text": [
      "x-ratelimit-remaining: 59\n"
     ]
    },
    {
     "name": "stdout",
     "output_type": "stream",
     "text": [
      "x-ratelimit-reset: 1727964376\n"
     ]
    },
    {
     "name": "stdout",
     "output_type": "stream",
     "text": [
      "x-ratelimit-resource: core\n"
     ]
    },
    {
     "name": "stdout",
     "output_type": "stream",
     "text": [
      "x-ratelimit-used: 1\n"
     ]
    },
    {
     "name": "stdout",
     "output_type": "stream",
     "text": [
      "accept-ranges: bytes\n"
     ]
    },
    {
     "name": "stdout",
     "output_type": "stream",
     "text": [
      "content-length: 1329\n"
     ]
    },
    {
     "name": "stdout",
     "output_type": "stream",
     "text": [
      "x-github-request-id: B468:3A918C:1A75D3D:1AC68D3:66FE96C8\n"
     ]
    },
    {
     "name": "stdout",
     "output_type": "stream",
     "text": [
      "\n"
     ]
    },
    {
     "name": "stdout",
     "output_type": "stream",
     "text": [
      "{\n"
     ]
    },
    {
     "name": "stdout",
     "output_type": "stream",
     "text": [
      "  \"login\": \"ebpro\",\n"
     ]
    },
    {
     "name": "stdout",
     "output_type": "stream",
     "text": [
      "  \"id\": 76050356,\n"
     ]
    },
    {
     "name": "stdout",
     "output_type": "stream",
     "text": [
      "  \"node_id\": \"MDEyOk9yZ2FuaXphdGlvbjc2MDUwMzU2\",\n"
     ]
    },
    {
     "name": "stdout",
     "output_type": "stream",
     "text": [
      "  \"avatar_url\": \"https://avatars.githubusercontent.com/u/76050356?v=4\",\n"
     ]
    },
    {
     "name": "stdout",
     "output_type": "stream",
     "text": [
      "  \"gravatar_id\": \"\",\n"
     ]
    },
    {
     "name": "stdout",
     "output_type": "stream",
     "text": [
      "  \"url\": \"https://api.github.com/users/ebpro\",\n"
     ]
    },
    {
     "name": "stdout",
     "output_type": "stream",
     "text": [
      "  \"html_url\": \"https://github.com/ebpro\",\n"
     ]
    },
    {
     "name": "stdout",
     "output_type": "stream",
     "text": [
      "  \"followers_url\": \"https://api.github.com/users/ebpro/followers\",\n"
     ]
    },
    {
     "name": "stdout",
     "output_type": "stream",
     "text": [
      "  \"following_url\": \"https://api.github.com/users/ebpro/following{/other_user}\",\n"
     ]
    },
    {
     "name": "stdout",
     "output_type": "stream",
     "text": [
      "  \"gists_url\": \"https://api.github.com/users/ebpro/gists{/gist_id}\",\n"
     ]
    },
    {
     "name": "stdout",
     "output_type": "stream",
     "text": [
      "  \"starred_url\": \"https://api.github.com/users/ebpro/starred{/owner}{/repo}\",\n"
     ]
    },
    {
     "name": "stdout",
     "output_type": "stream",
     "text": [
      "  \"subscriptions_url\": \"https://api.github.com/users/ebpro/subscriptions\",\n"
     ]
    },
    {
     "name": "stdout",
     "output_type": "stream",
     "text": [
      "  \"organizations_url\": \"https://api.github.com/users/ebpro/orgs\",\n"
     ]
    },
    {
     "name": "stdout",
     "output_type": "stream",
     "text": [
      "  \"repos_url\": \"https://api.github.com/users/ebpro/repos\",\n"
     ]
    },
    {
     "name": "stdout",
     "output_type": "stream",
     "text": [
      "  \"events_url\": \"https://api.github.com/users/ebpro/events{/privacy}\",\n"
     ]
    },
    {
     "name": "stdout",
     "output_type": "stream",
     "text": [
      "  \"received_events_url\": \"https://api.github.com/users/ebpro/received_events\",\n"
     ]
    },
    {
     "name": "stdout",
     "output_type": "stream",
     "text": [
      "  \"type\": \"Organization\",\n"
     ]
    },
    {
     "name": "stdout",
     "output_type": "stream",
     "text": [
      "  \"site_admin\": false,\n"
     ]
    },
    {
     "name": "stdout",
     "output_type": "stream",
     "text": [
      "  \"name\": \"EBPro\",\n"
     ]
    },
    {
     "name": "stdout",
     "output_type": "stream",
     "text": [
      "  \"company\": null,\n"
     ]
    },
    {
     "name": "stdout",
     "output_type": "stream",
     "text": [
      "  \"blog\": \"https://bruno.univ-tln.fr\",\n"
     ]
    },
    {
     "name": "stdout",
     "output_type": "stream",
     "text": [
      "  \"location\": \"France\",\n"
     ]
    },
    {
     "name": "stdout",
     "output_type": "stream",
     "text": [
      "  \"email\": \"emmanuel.bruno@univ-tln.fr\",\n"
     ]
    },
    {
     "name": "stdout",
     "output_type": "stream",
     "text": [
      "  \"hireable\": null,\n"
     ]
    },
    {
     "name": "stdout",
     "output_type": "stream",
     "text": [
      "  \"bio\": null,\n"
     ]
    },
    {
     "name": "stdout",
     "output_type": "stream",
     "text": [
      "  \"twitter_username\": null,\n"
     ]
    },
    {
     "name": "stdout",
     "output_type": "stream",
     "text": [
      "  \"public_repos\": 69,\n"
     ]
    },
    {
     "name": "stdout",
     "output_type": "stream",
     "text": [
      "  \"public_gists\": 0,\n"
     ]
    },
    {
     "name": "stdout",
     "output_type": "stream",
     "text": [
      "  \"followers\": 1,\n"
     ]
    },
    {
     "name": "stdout",
     "output_type": "stream",
     "text": [
      "  \"following\": 0,\n"
     ]
    },
    {
     "name": "stdout",
     "output_type": "stream",
     "text": [
      "  \"created_at\": \"2020-12-15T12:56:09Z\",\n"
     ]
    },
    {
     "name": "stdout",
     "output_type": "stream",
     "text": [
      "  \"updated_at\": \"2024-09-28T12:40:18Z\"\n"
     ]
    },
    {
     "name": "stdout",
     "output_type": "stream",
     "text": [
      "}\n"
     ]
    }
   ],
   "source": [
    "%%shell \n",
    "curl -s -D - https://api.github.com/users/ebpro"
   ]
  },
  {
   "cell_type": "code",
   "execution_count": 4,
   "id": "70560060-a4d1-4ff7-8d36-f907fb4b50f4",
   "metadata": {},
   "outputs": [],
   "source": []
  },
  {
   "cell_type": "code",
   "execution_count": 5,
   "id": "b9c74b36-f56d-40e5-9063-23b6676980b2",
   "metadata": {},
   "outputs": [],
   "source": []
  },
  {
   "cell_type": "code",
   "execution_count": 6,
   "id": "d9c99e9c-1f6e-408b-b854-ca4dc76f8082",
   "metadata": {},
   "outputs": [],
   "source": []
  }
 ],
 "metadata": {
  "kernelspec": {
   "display_name": "java-lts",
   "language": "java",
   "name": "java-lts",
   "path": "/opt/conda/share/jupyter/kernels/java-lts"
  },
  "language_info": {
   "codemirror_mode": "java",
   "file_extension": ".jshell",
   "mimetype": "text/x-java-source",
   "name": "Java",
   "pygments_lexer": "java",
   "version": "21.0.4+7-LTS"
  }
 },
 "nbformat": 4,
 "nbformat_minor": 5
}
